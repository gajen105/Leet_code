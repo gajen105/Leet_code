{
 "cells": [
  {
   "cell_type": "markdown",
   "metadata": {},
   "source": [
    "You are given a string s of lowercase English letters and a 2D integer array shifts where shifts[i] = [starti, endi, directioni]. For every i, shift the characters in s from the index starti to the index endi (inclusive) forward if directioni = 1, or shift the characters backward if directioni = 0.\n",
    "\n",
    "Shifting a character forward means replacing it with the next letter in the alphabet (wrapping around so that 'z' becomes 'a'). Similarly, shifting a character backward means replacing it with the previous letter in the alphabet (wrapping around so that 'a' becomes 'z').\n",
    "\n",
    "Return the final string after all such shifts to s are applied.\n",
    "\n",
    " \n",
    "\n",
    "Example 1:\n",
    "\n",
    "Input: s = \"abc\", shifts = [[0,1,0],[1,2,1],[0,2,1]]\n",
    "Output: \"ace\"\n",
    "Explanation: Firstly, shift the characters from index 0 to index 1 backward. Now s = \"zac\".\n",
    "Secondly, shift the characters from index 1 to index 2 forward. Now s = \"zbd\".\n",
    "Finally, shift the characters from index 0 to index 2 forward. Now s = \"ace\".\n",
    "Example 2:\n",
    "\n",
    "Input: s = \"dztz\", shifts = [[0,0,0],[1,1,1]]\n",
    "Output: \"catz\"\n",
    "Explanation: Firstly, shift the characters from index 0 to index 0 backward. Now s = \"cztz\".\n",
    "Finally, shift the characters from index 1 to index 1 forward. Now s = \"catz\".\n",
    " \n",
    "\n",
    "Constraints:\n",
    "\n",
    "1 <= s.length, shifts.length <= 5 * 104\n",
    "shifts[i].length == 3\n",
    "0 <= starti <= endi < s.length\n",
    "0 <= directioni <= 1\n",
    "s consists of lowercase English letters"
   ]
  },
  {
   "cell_type": "code",
   "execution_count": 48,
   "metadata": {},
   "outputs": [
    {
     "name": "stdout",
     "output_type": "stream",
     "text": [
      "ace\n"
     ]
    }
   ],
   "source": [
    "class Solution:\n",
    "    def shiftingLetters(self, s: str, shifts: List[List[int]]) -> str:\n",
    "        n = len(s)\n",
    "        shift_li = [0] * (n + 1)\n",
    "        for start, end, shift in shifts:\n",
    "            shift_li[start] += 1 if shift == 1 else -1\n",
    "            shift_li[end + 1] -= 1 if shift == 1 else -1\n",
    "        for i in range(1, n):\n",
    "            shift_li[i] += shift_li[i - 1]\n",
    "        s = list(s)\n",
    "        for i in range(n):\n",
    "            s[i] = chr((ord(s[i]) - ord('a') + shift_li[i]) % 26 + ord('a'))\n",
    "        return (''.join(s))\n",
    "sol = Solution()\n",
    "s = \"abc\"\n",
    "shifts = [[0,1,0],[1,2,1],[0,2,1]]\n",
    "print(sol.shiftingLetters(s,shifts))"
   ]
  }
 ],
 "metadata": {
  "kernelspec": {
   "display_name": ".venv",
   "language": "python",
   "name": "python3"
  },
  "language_info": {
   "codemirror_mode": {
    "name": "ipython",
    "version": 3
   },
   "file_extension": ".py",
   "mimetype": "text/x-python",
   "name": "python",
   "nbconvert_exporter": "python",
   "pygments_lexer": "ipython3",
   "version": "3.13.1"
  }
 },
 "nbformat": 4,
 "nbformat_minor": 2
}
