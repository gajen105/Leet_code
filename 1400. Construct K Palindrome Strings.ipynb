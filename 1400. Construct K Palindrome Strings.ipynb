{
 "cells": [
  {
   "cell_type": "markdown",
   "metadata": {},
   "source": [
    "Given a string s and an integer k, return true if you can use all the characters in s to construct k \n",
    "palindrome strings\n",
    " or false otherwise.\n",
    "\n",
    " \n",
    "\n",
    "Example 1:\n",
    "\n",
    "Input: s = \"annabelle\", k = 2\n",
    "Output: true\n",
    "Explanation: You can construct two palindromes using all characters in s.\n",
    "Some possible constructions \"anna\" + \"elble\", \"anbna\" + \"elle\", \"anellena\" + \"b\"\n",
    "Example 2:\n",
    "\n",
    "Input: s = \"leetcode\", k = 3\n",
    "Output: false\n",
    "Explanation: It is impossible to construct 3 palindromes using all the characters of s.\n",
    "Example 3:\n",
    "\n",
    "Input: s = \"true\", k = 4\n",
    "Output: true\n",
    "Explanation: The only possible solution is to put each character in a separate string.\n",
    " \n",
    "\n",
    "Constraints:\n",
    "\n",
    "1 <= s.length <= 105\n",
    "s consists of lowercase English letters.\n",
    "1 <= k <= 105"
   ]
  }
 ],
 "metadata": {
  "kernelspec": {
   "display_name": ".venv",
   "language": "python",
   "name": "python3"
  },
  "language_info": {
   "name": "python",
   "version": "3.13.1"
  }
 },
 "nbformat": 4,
 "nbformat_minor": 2
}
