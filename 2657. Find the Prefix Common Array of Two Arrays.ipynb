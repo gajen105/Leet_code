{
 "cells": [
  {
   "cell_type": "markdown",
   "metadata": {},
   "source": [
    "You are given two 0-indexed integer permutations A and B of length n.\n",
    "\n",
    "A prefix common array of A and B is an array C such that C[i] is equal to the count of numbers that are present at or before the index i in both A and B.\n",
    "\n",
    "Return the prefix common array of A and B.\n",
    "\n",
    "A sequence of n integers is called a permutation if it contains all integers from 1 to n exactly once.\n",
    "\n",
    " \n",
    "\n",
    "Example 1:\n",
    "\n",
    "Input: A = [1,3,2,4], B = [3,1,2,4]\n",
    "Output: [0,2,3,4]\n",
    "Explanation: At i = 0: no number is common, so C[0] = 0.\n",
    "At i = 1: 1 and 3 are common in A and B, so C[1] = 2.\n",
    "At i = 2: 1, 2, and 3 are common in A and B, so C[2] = 3.\n",
    "At i = 3: 1, 2, 3, and 4 are common in A and B, so C[3] = 4.\n",
    "Example 2:\n",
    "\n",
    "Input: A = [2,3,1], B = [3,1,2]\n",
    "Output: [0,1,3]\n",
    "Explanation: At i = 0: no number is common, so C[0] = 0.\n",
    "At i = 1: only 3 is common in A and B, so C[1] = 1.\n",
    "At i = 2: 1, 2, and 3 are common in A and B, so C[2] = 3.\n",
    " \n",
    "\n",
    "Constraints:\n",
    "\n",
    "1 <= A.length == B.length == n <= 50\n",
    "1 <= A[i], B[i] <= n\n",
    "It is guaranteed that A and B are both a permutation of n integers."
   ]
  },
  {
   "cell_type": "code",
   "execution_count": 61,
   "metadata": {},
   "outputs": [
    {
     "name": "stdout",
     "output_type": "stream",
     "text": [
      "set() set()\n",
      "{2} {3}\n",
      "{2, 3} {1, 3}\n",
      "[0, 1, 3]\n"
     ]
    }
   ],
   "source": [
    "from typing import List\n",
    "class Solution:\n",
    "    def findThePrefixCommonArray(self, A: List[int], B: List[int]) -> List[int]:\n",
    "        n = len(A)\n",
    "        li = []\n",
    "        seen_a = set()\n",
    "        seen_b = set()\n",
    "        for i in range (n):\n",
    "            seen_a.add(A[i])\n",
    "            seen_b.add(B[i])\n",
    "            li.append(len(seen_a.intersection(seen_b)))\n",
    "        return li\n",
    "sol = Solution()\n",
    "A = [2,3,1]\n",
    "B = [3,1,2]\n",
    "print(sol.findThePrefixCommonArray(A, B))"
   ]
  }
 ],
 "metadata": {
  "kernelspec": {
   "display_name": ".venv",
   "language": "python",
   "name": "python3"
  },
  "language_info": {
   "codemirror_mode": {
    "name": "ipython",
    "version": 3
   },
   "file_extension": ".py",
   "mimetype": "text/x-python",
   "name": "python",
   "nbconvert_exporter": "python",
   "pygments_lexer": "ipython3",
   "version": "3.13.1"
  }
 },
 "nbformat": 4,
 "nbformat_minor": 2
}
