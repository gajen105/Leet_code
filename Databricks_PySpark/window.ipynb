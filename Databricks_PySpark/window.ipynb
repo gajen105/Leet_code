{
 "cells": [
  {
   "cell_type": "code",
   "execution_count": 0,
   "metadata": {
    "application/vnd.databricks.v1+cell": {
     "cellMetadata": {
      "byteLimit": 2048000,
      "rowLimit": 10000
     },
     "inputWidgets": {},
     "nuid": "404d5dc2-327f-46cc-8467-f1afb003c27f",
     "showTitle": false,
     "tableResultSettingsMap": {},
     "title": ""
    }
   },
   "outputs": [],
   "source": [
    "data = [\n",
    "    (1, \"Alice\", \"HR\", 60000),\n",
    "    (2, \"Bob\", \"IT\", 75000),\n",
    "    (3, \"Carol\", \"IT\", 72000),\n",
    "    (4, \"David\", \"Sales\", 50000),\n",
    "    (5, \"Eve\", \"IT\", 80000),\n",
    "    (6, \"Frank\", \"HR\", 62000)\n",
    "]\n",
    "columns = [\"emp_id\", \"name\", \"dept\", \"salary\"]\n",
    "df = spark.createDataFrame(data, columns)\n"
   ]
  },
  {
   "cell_type": "code",
   "execution_count": 0,
   "metadata": {
    "application/vnd.databricks.v1+cell": {
     "cellMetadata": {
      "byteLimit": 2048000,
      "rowLimit": 10000
     },
     "inputWidgets": {},
     "nuid": "b6c0ad03-174f-42ba-a9b6-67bd4038ebff",
     "showTitle": false,
     "tableResultSettingsMap": {},
     "title": ""
    }
   },
   "outputs": [],
   "source": [
    "from pyspark.sql.window import Window\n",
    "from pyspark.sql.functions import *\n",
    "\n",
    "w = Window.partitionBy(\"dept\").orderBy(df[\"salary\"].desc())\n",
    "df_w = df.withColumn(\"rank\", rank().over(w))\\\n",
    "          .withColumn(\"dense_rank\", dense_rank().over(w))\\\n",
    "          .withColumn(\"row_number\", row_number().over(w))\\\n",
    "           .withColumn(\"percent_rank\", percent_rank().over(w))\n",
    "df_w = df_w.select(df_w[\"emp_id\"],df_w[\"dept\"], col(\"rank\"), df_w.dense_rank, df_w.row_number, df_w.percent_rank)\n",
    "display(df_w)"
   ]
  }
 ],
 "metadata": {
  "application/vnd.databricks.v1+notebook": {
   "computePreferences": null,
   "dashboards": [],
   "environmentMetadata": {
    "base_environment": "",
    "environment_version": "2"
   },
   "language": "python",
   "notebookMetadata": {
    "pythonIndentUnit": 4
   },
   "notebookName": "window",
   "widgets": {}
  },
  "language_info": {
   "name": "python"
  }
 },
 "nbformat": 4,
 "nbformat_minor": 0
}
