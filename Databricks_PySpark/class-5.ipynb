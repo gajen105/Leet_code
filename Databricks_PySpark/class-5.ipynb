{
 "cells": [
  {
   "cell_type": "code",
   "execution_count": 0,
   "metadata": {
    "application/vnd.databricks.v1+cell": {
     "cellMetadata": {
      "byteLimit": 2048000,
      "rowLimit": 10000
     },
     "inputWidgets": {},
     "nuid": "2d526863-4e5e-442e-94b8-a317b7498bd8",
     "showTitle": false,
     "tableResultSettingsMap": {},
     "title": ""
    }
   },
   "outputs": [],
   "source": [
    "import pandas as pd\n",
    "\n",
    "#employee\n",
    "df1 = pd.DataFrame({\n",
    "    'emp_id': [101, 102, 103, 104],\n",
    "    'name': ['Shivm', 'Gajen', 'Avijit', 'Deepak'],\n",
    "    'dept': ['HR', 'IT', 'IT', 'Sales'],\n",
    "    'salary': [60000, 75000, 72000, 50000]\n",
    "})\n",
    "#department\n",
    "df2 = pd.DataFrame({\n",
    "    'dept': ['HR', 'IT', 'Sales'],\n",
    "    'dept_name': ['Human Resources', 'Information Tech', 'Sales & Marketing'],\n",
    "    'location': ['New York', 'San Francisco', 'Chicago']\n",
    "})\n",
    "df1 = spark.createDataFrame(df1)\n",
    "df2 = spark.createDataFrame(df2)    \n",
    "df1.show()\n",
    "df2.show()\n"
   ]
  },
  {
   "cell_type": "code",
   "execution_count": 0,
   "metadata": {
    "application/vnd.databricks.v1+cell": {
     "cellMetadata": {
      "byteLimit": 2048000,
      "rowLimit": 10000
     },
     "inputWidgets": {},
     "nuid": "0b3f0d48-ebd3-40eb-a403-10dad4816e44",
     "showTitle": false,
     "tableResultSettingsMap": {},
     "title": ""
    }
   },
   "outputs": [],
   "source": [
    "df_merge = df1.join(df2, df1.dept ==df2.dept, 'inner')\n",
    "df_merge.show()"
   ]
  },
  {
   "cell_type": "code",
   "execution_count": 0,
   "metadata": {
    "application/vnd.databricks.v1+cell": {
     "cellMetadata": {
      "byteLimit": 2048000,
      "rowLimit": 10000
     },
     "inputWidgets": {},
     "nuid": "89b13bb6-e089-4de9-ba53-13ccfdf921c0",
     "showTitle": false,
     "tableResultSettingsMap": {},
     "title": ""
    }
   },
   "outputs": [],
   "source": [
    "from pyspark.sql.functions import col\n",
    "df_merge = df1.alias(\"a\").join(df2.alias(\"b\"), col(\"a.dept\") ==col(\"b.dept\"), 'inner')\n",
    "df_merge.show()"
   ]
  }
 ],
 "metadata": {
  "application/vnd.databricks.v1+notebook": {
   "computePreferences": null,
   "dashboards": [],
   "environmentMetadata": {
    "base_environment": "",
    "environment_version": "2"
   },
   "language": "python",
   "notebookMetadata": {
    "pythonIndentUnit": 4
   },
   "notebookName": "class-5",
   "widgets": {}
  },
  "language_info": {
   "name": "python"
  }
 },
 "nbformat": 4,
 "nbformat_minor": 0
}
