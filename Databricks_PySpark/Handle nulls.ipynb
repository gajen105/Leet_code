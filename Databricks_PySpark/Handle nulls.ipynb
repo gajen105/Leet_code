{
 "cells": [
  {
   "cell_type": "code",
   "execution_count": 0,
   "metadata": {
    "application/vnd.databricks.v1+cell": {
     "cellMetadata": {
      "byteLimit": 2048000,
      "rowLimit": 10000
     },
     "inputWidgets": {},
     "nuid": "a4716377-31f9-44f2-8ac5-700a5cadffe1",
     "showTitle": false,
     "tableResultSettingsMap": {},
     "title": ""
    }
   },
   "outputs": [],
   "source": [
    "data = [\n",
    "    (1, \"Alice\", 25, None),  \n",
    "    (2, \"Bob\", None, 3000),  \n",
    "    (3, None, 30, 4000),  \n",
    "    (4, \"David\", 40, None),  \n",
    "    (5, \"Eve\", None, None)  \n",
    "]\n",
    "columns = [\"id\", \"name\", \"age\", \"salary\"]\n",
    "\n",
    "df = spark.createDataFrame(data, columns)\n",
    "\n",
    "df.show()"
   ]
  },
  {
   "cell_type": "code",
   "execution_count": 0,
   "metadata": {
    "application/vnd.databricks.v1+cell": {
     "cellMetadata": {
      "byteLimit": 2048000,
      "rowLimit": 10000
     },
     "inputWidgets": {},
     "nuid": "eaef7771-5e6b-4a16-a4f1-61db6edfd82a",
     "showTitle": false,
     "tableResultSettingsMap": {},
     "title": ""
    }
   },
   "outputs": [],
   "source": [
    "# Checking NULLs in a specific column\n",
    "df.filter(df.name.isNull()).show()\n",
    "df.filter(df.age.isNull()).show()\n",
    "df.filter(df[\"salary\"].isNull()).show()"
   ]
  },
  {
   "cell_type": "code",
   "execution_count": 0,
   "metadata": {
    "application/vnd.databricks.v1+cell": {
     "cellMetadata": {
      "byteLimit": 2048000,
      "rowLimit": 10000
     },
     "inputWidgets": {},
     "nuid": "00b1b38e-b287-4f5c-b25c-63d6dd44e740",
     "showTitle": false,
     "tableResultSettingsMap": {},
     "title": ""
    }
   },
   "outputs": [],
   "source": [
    "from pyspark.sql.functions import col, count, when\n",
    "# Counting NULL values in all columns\n",
    "df.select([count(when(col(c).isNull(),1).otherwise(None)).alias(c) for c in df.columns]).show()\n",
    "df.select([sum(when(col(c).isNull(),1).otherwise(0)).alias(c) for c in df.columns]).show()"
   ]
  },
  {
   "cell_type": "code",
   "execution_count": 0,
   "metadata": {
    "application/vnd.databricks.v1+cell": {
     "cellMetadata": {
      "byteLimit": 2048000,
      "rowLimit": 10000
     },
     "inputWidgets": {},
     "nuid": "4e8471e4-940d-45a6-81e6-d9f9b163fea1",
     "showTitle": false,
     "tableResultSettingsMap": {},
     "title": ""
    }
   },
   "outputs": [],
   "source": [
    "# Remove rows where any column has NULL\n",
    "df.na.drop().show()\n",
    "df.na.drop(how=\"any\").show()\n",
    "df.dropna(how=\"all\").show()"
   ]
  },
  {
   "cell_type": "code",
   "execution_count": 0,
   "metadata": {
    "application/vnd.databricks.v1+cell": {
     "cellMetadata": {
      "byteLimit": 2048000,
      "rowLimit": 10000
     },
     "inputWidgets": {},
     "nuid": "84b38541-8e9d-4fa8-a47a-d608196532a0",
     "showTitle": false,
     "tableResultSettingsMap": {},
     "title": ""
    }
   },
   "outputs": [],
   "source": [
    "# Remove rows where any column has NULL\n",
    "df.dropna(thresh=2).show()"
   ]
  },
  {
   "cell_type": "code",
   "execution_count": 0,
   "metadata": {
    "application/vnd.databricks.v1+cell": {
     "cellMetadata": {
      "byteLimit": 2048000,
      "rowLimit": 10000
     },
     "inputWidgets": {},
     "nuid": "0ebf9462-0145-4b29-b59a-a4a2bb971a0b",
     "showTitle": false,
     "tableResultSettingsMap": {},
     "title": ""
    }
   },
   "outputs": [],
   "source": [
    "from pyspark.sql.functions import mean,coalesce,lit\n",
    "# Fill NULLs with a default value\n",
    "df.fillna({\"age\":98,\"salary\":3500,\"name\":\"MyName\"}).show()\n",
    "\n",
    "mean_salary = df.select(mean(\"salary\")).collect()[0][0]\n",
    "df.fillna(mean_salary, subset = [\"salary\"]).show()"
   ]
  },
  {
   "cell_type": "code",
   "execution_count": 0,
   "metadata": {
    "application/vnd.databricks.v1+cell": {
     "cellMetadata": {
      "byteLimit": 2048000,
      "rowLimit": 10000
     },
     "inputWidgets": {},
     "nuid": "f32e6644-972f-48dd-9ade-d732a31440dd",
     "showTitle": false,
     "tableResultSettingsMap": {},
     "title": ""
    }
   },
   "outputs": [],
   "source": [
    "# Replacing NULLs Using Another Column\n",
    "df.withColumn(\"name\", coalesce(col(\"name\"),lit(\"Unknown\")))\\\n",
    "    .withColumn(\"salary\", coalesce(col(\"salary\"),col(\"age\")*100)).show()"
   ]
  },
  {
   "cell_type": "code",
   "execution_count": 0,
   "metadata": {
    "application/vnd.databricks.v1+cell": {
     "cellMetadata": {
      "byteLimit": 2048000,
      "rowLimit": 10000
     },
     "inputWidgets": {},
     "nuid": "bf21520b-a4bc-49ec-9a2e-7a7048397ea7",
     "showTitle": false,
     "tableResultSettingsMap": {},
     "title": ""
    }
   },
   "outputs": [],
   "source": [
    "from pyspark.sql.functions import mean,coalesce,lit,last, first\n",
    "from pyspark.sql.window import Window\n",
    "import sys\n",
    "# Forward Fill (Previous Non-NULL Value)\n",
    "\n",
    "w = Window.orderBy(col(\"id\")).rowsBetween(-sys.maxsize, 0)\n",
    "df.withColumn(\"age\", coalesce(col(\"age\"), last(\"age\", True).over(w))).show()"
   ]
  },
  {
   "cell_type": "code",
   "execution_count": 0,
   "metadata": {
    "application/vnd.databricks.v1+cell": {
     "cellMetadata": {
      "byteLimit": 2048000,
      "rowLimit": 10000
     },
     "inputWidgets": {},
     "nuid": "8823b5ac-a70c-46a9-a23f-b08207d10bc6",
     "showTitle": false,
     "tableResultSettingsMap": {},
     "title": ""
    }
   },
   "outputs": [],
   "source": []
  },
  {
   "cell_type": "code",
   "execution_count": 0,
   "metadata": {
    "application/vnd.databricks.v1+cell": {
     "cellMetadata": {
      "byteLimit": 2048000,
      "rowLimit": 10000
     },
     "inputWidgets": {},
     "nuid": "b53bb604-e7e7-4400-9ca9-84bf11462b4d",
     "showTitle": false,
     "tableResultSettingsMap": {},
     "title": ""
    }
   },
   "outputs": [],
   "source": [
    "# Backward Fill (Next Non-NULL Value)\n",
    "\n",
    "window_spec = Window.orderBy(\"id\").rowsBetween(0, sys.maxsize)\n",
    "\n",
    "# Apply Backward Fill\n",
    "df_bfill = df.withColumn(\"age_bfill\", first(\"age\", True).over(window_spec))\n",
    "\n",
    "df_filled.show()"
   ]
  },
  {
   "cell_type": "code",
   "execution_count": 0,
   "metadata": {
    "application/vnd.databricks.v1+cell": {
     "cellMetadata": {},
     "inputWidgets": {},
     "nuid": "7be350fe-995e-4c53-8eea-8a072bfa5478",
     "showTitle": false,
     "tableResultSettingsMap": {},
     "title": ""
    }
   },
   "outputs": [],
   "source": []
  }
 ],
 "metadata": {
  "application/vnd.databricks.v1+notebook": {
   "computePreferences": null,
   "dashboards": [],
   "environmentMetadata": {
    "base_environment": "",
    "environment_version": "2"
   },
   "language": "python",
   "notebookMetadata": {
    "pythonIndentUnit": 4
   },
   "notebookName": "Handle nulls",
   "widgets": {}
  },
  "language_info": {
   "name": "python"
  }
 },
 "nbformat": 4,
 "nbformat_minor": 0
}
