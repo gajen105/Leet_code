{
 "cells": [
  {
   "cell_type": "code",
   "execution_count": 0,
   "metadata": {
    "application/vnd.databricks.v1+cell": {
     "cellMetadata": {
      "byteLimit": 2048000,
      "rowLimit": 10000
     },
     "inputWidgets": {},
     "nuid": "6bf34f3e-7911-45c4-844a-637e744d664e",
     "showTitle": false,
     "tableResultSettingsMap": {},
     "title": ""
    }
   },
   "outputs": [],
   "source": [
    "import pandas as pd\n",
    "\n",
    "#employee\n",
    "df1 = pd.DataFrame({\n",
    "    'emp_id': [101, 102, 103, 104],\n",
    "    'name': ['Shivm', 'Gajen', 'Avijit', 'Deepak'],\n",
    "    'dept': ['HR', 'IT', 'IT', 'Sales'],\n",
    "    'salary': [60000, 75000, 72000, 50000]\n",
    "})\n",
    "\n",
    "df2 = pd.DataFrame({\n",
    "    'emp_id': [101, 102, 103, 104],\n",
    "    'name': ['Alice', 'Bob', 'Carol', 'Deepak'],\n",
    "    'dept': ['HR', 'IT', 'IT', 'Sales'],\n",
    "    'salary': [60000, 75000, 72000, 50000]\n",
    "})\n",
    "df1 = spark.createDataFrame(df1)\n",
    "df2 = spark.createDataFrame(df2)    \n"
   ]
  },
  {
   "cell_type": "code",
   "execution_count": 0,
   "metadata": {
    "application/vnd.databricks.v1+cell": {
     "cellMetadata": {
      "byteLimit": 2048000,
      "rowLimit": 10000
     },
     "inputWidgets": {},
     "nuid": "27307626-47a8-4b00-aeab-657ce8a6c507",
     "showTitle": false,
     "tableResultSettingsMap": {},
     "title": ""
    }
   },
   "outputs": [],
   "source": [
    "df3 = df1.union(df2).drop_duplicates()\n",
    "df3.show()"
   ]
  },
  {
   "cell_type": "code",
   "execution_count": 0,
   "metadata": {
    "application/vnd.databricks.v1+cell": {
     "cellMetadata": {
      "byteLimit": 2048000,
      "rowLimit": 10000
     },
     "inputWidgets": {},
     "nuid": "f9054287-e4d7-4c62-9db2-ca0705dd5bd7",
     "showTitle": false,
     "tableResultSettingsMap": {},
     "title": ""
    }
   },
   "outputs": [],
   "source": [
    "from pyspark.sql.functions import when, col\n",
    "\n",
    "df3 = df3.withColumn(\n",
    "    \"status\",\n",
    "    when(col(\"salary\") > 70000, \"senior\")\n",
    "    .when(col(\"salary\") > 60000, \"manager\")\n",
    "    .otherwise(\"Low\")\n",
    ")\n",
    "\n",
    "display(df3)"
   ]
  },
  {
   "cell_type": "code",
   "execution_count": 0,
   "metadata": {
    "application/vnd.databricks.v1+cell": {
     "cellMetadata": {
      "byteLimit": 2048000,
      "rowLimit": 10000
     },
     "inputWidgets": {},
     "nuid": "b51bba91-5bc0-4d98-8df6-b4b74b65d715",
     "showTitle": false,
     "tableResultSettingsMap": {},
     "title": ""
    }
   },
   "outputs": [],
   "source": [
    "df3.select(col(\"*\"), \n",
    "    when(col(\"salary\") > 70000, \"senior\")\n",
    "    .when(col(\"salary\") > 60000, \"manager\")\n",
    "    .otherwise(\"Low\").alias(\"Position\")\n",
    ").show()"
   ]
  }
 ],
 "metadata": {
  "application/vnd.databricks.v1+notebook": {
   "computePreferences": null,
   "dashboards": [],
   "environmentMetadata": {
    "base_environment": "",
    "environment_version": "2"
   },
   "language": "python",
   "notebookMetadata": {
    "pythonIndentUnit": 4
   },
   "notebookName": "class-4",
   "widgets": {}
  },
  "language_info": {
   "name": "python"
  }
 },
 "nbformat": 4,
 "nbformat_minor": 0
}
