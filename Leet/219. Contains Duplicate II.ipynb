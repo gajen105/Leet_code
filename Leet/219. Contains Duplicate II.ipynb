{
 "cells": [
  {
   "cell_type": "markdown",
   "metadata": {},
   "source": [
    "Given an integer array nums and an integer k, \n",
    "\n",
    "return true if there are two distinct indices i and j in the array such that \n",
    "nums[i] == nums[j] and abs(i - j) <= k."
   ]
  },
  {
   "cell_type": "code",
   "execution_count": 44,
   "metadata": {},
   "outputs": [
    {
     "data": {
      "text/plain": [
       "False"
      ]
     },
     "execution_count": 44,
     "metadata": {},
     "output_type": "execute_result"
    }
   ],
   "source": [
    "from typing import List\n",
    "class Solution:\n",
    "    def containsNearbyDuplicate(self, nums: List[int], k: int) -> bool:\n",
    "        n = len(nums)\n",
    "        e = 0\n",
    "        while e<n-k:\n",
    "            print(nums[e] in nums[e+1:e+k+1])\n",
    "            if nums[e] in nums[e+1:e+k+1]:\n",
    "                return True\n",
    "            e+=1\n",
    "        while e<n:\n",
    "            if nums[e] in nums[e+1:]:\n",
    "                return True\n",
    "            e+=1\n",
    "        return False\n",
    "\n",
    "    def containsNearbyDuplicate_1(self, nums: List[int], k: int) -> bool:\n",
    "        window = []\n",
    "        for i in range(len(nums)):\n",
    "            if nums[i] in window:\n",
    "                return True\n",
    "            window.append(nums[i])\n",
    "            if len(window) > k:\n",
    "                window.pop(0)\n",
    "        return False\n",
    "sol = Solution()\n",
    "nums = [1,2,3,1,2,3]\n",
    "k = 2\n",
    "sol.containsNearbyDuplicate_1(nums,k)"
   ]
  },
  {
   "cell_type": "code",
   "execution_count": 5,
   "metadata": {},
   "outputs": [
    {
     "name": "stdout",
     "output_type": "stream",
     "text": [
      "[1, 2, 6, 3, 4, 1]\n"
     ]
    }
   ],
   "source": [
    "# set = {1, 2, 3}  # ❌ Overwrites the built-in set function\n",
    "my_list = [1, 2,6, 3, 4, 1]\n",
    "my_set = set(my_list)  # ❌ TypeError: 'set' object is not callable\n",
    "print(my_list)"
   ]
  }
 ],
 "metadata": {
  "kernelspec": {
   "display_name": ".venv",
   "language": "python",
   "name": "python3"
  },
  "language_info": {
   "codemirror_mode": {
    "name": "ipython",
    "version": 3
   },
   "file_extension": ".py",
   "mimetype": "text/x-python",
   "name": "python",
   "nbconvert_exporter": "python",
   "pygments_lexer": "ipython3",
   "version": "3.13.2"
  }
 },
 "nbformat": 4,
 "nbformat_minor": 2
}
