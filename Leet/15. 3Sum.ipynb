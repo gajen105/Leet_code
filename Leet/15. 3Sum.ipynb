{
 "cells": [
  {
   "cell_type": "markdown",
   "metadata": {},
   "source": [
    "Given an integer array nums, return all the triplets [nums[i], nums[j], nums[k]] such that i != j, i != k, and j != k, and nums[i] + nums[j] + nums[k] == 0.\n",
    "\n",
    "Notice that the solution set must not contain duplicate triplets."
   ]
  },
  {
   "cell_type": "code",
   "execution_count": null,
   "metadata": {},
   "outputs": [],
   "source": [
    "from typing import List\n",
    "class Solution:\n",
    "    def threeSum_1(self, nums: List[int]) -> List[List[int]]:\n",
    "        set_seen = []\n",
    "        re = []\n",
    "        n = len(nums)\n",
    "        for i in range(n-2):\n",
    "            for j in range(i+1,n):\n",
    "                for k in range(j+1,n):\n",
    "                    if nums[i]+nums[j]+nums[k]==0:\n",
    "                        li = set([nums[i],nums[j],nums[k]])\n",
    "                        if li not in set_seen:\n",
    "                            set_seen.append(li)\n",
    "                            re.append([nums[i],nums[j],nums[k]])\n",
    "        return re\n",
    "    def threeSum_2(self, nums: List[int]) -> List[List[int]]:\n",
    "        re = []\n",
    "        n = len(nums)\n",
    "        nums.sort() #sort Array\n",
    "        for i in range(n-2):\n",
    "            if i>0 and nums[i] == nums[i-1]:\n",
    "                continue\n",
    "            l,r=i+1,n-1\n",
    "            while l<r :\n",
    "                s = nums[i]+nums[l]+nums[r]\n",
    "                if s==0:\n",
    "                    re.append([nums[i],nums[l],nums[r]])\n",
    "                    # Skip duplicates for left and right pointers\n",
    "                    while l<r and nums[l]==nums[l+1]:\n",
    "                        l+=1\n",
    "                    while l<r and nums[r] == nums[r-1]:\n",
    "                        r-=1\n",
    "                    l+=1\n",
    "                    r-=1\n",
    "                elif s>0:\n",
    "                    r-=1\n",
    "                else: l+=1\n",
    "        return re\n",
    "        \n",
    "    def threeSum(self, nums: List[int]) -> List[List[int]]:\n",
    "        re = []\n",
    "        n = len(nums)\n",
    "        nums.sort() #sort Array\n",
    "        for i in range(n):\n",
    "            if i>0 and nums[i] == nums[i-1]:\n",
    "                continue\n",
    "            if nums[i]>0: return re\n",
    "            l,r=i+1,n-1\n",
    "            while l<r :\n",
    "                s = nums[i]+nums[l]+nums[r]\n",
    "                if s>0:\n",
    "                    r-=1\n",
    "                elif s<0:\n",
    "                    l+=1\n",
    "                else:\n",
    "                    re.append([nums[i],nums[l],nums[r]])\n",
    "                    # Skip duplicates for left pointers\n",
    "                    while l<r and nums[l]==nums[l+1]:\n",
    "                        l+=1\n",
    "                    l+=1\n",
    "                    r-=1\n",
    "        return re\n",
    "sol = Solution()\n",
    "nums = [-1,0,1,2]\n",
    "sol.threeSum(nums)"
   ]
  },
  {
   "cell_type": "code",
   "execution_count": null,
   "metadata": {},
   "outputs": [],
   "source": [
    "li = [-1,0,1]\n",
    "set_list = set(li)\n",
    "set_list_2 = [set([0,-1,1])]\n",
    "set_list in set_list_2"
   ]
  }
 ],
 "metadata": {
  "kernelspec": {
   "display_name": ".venv",
   "language": "python",
   "name": "python3"
  },
  "language_info": {
   "codemirror_mode": {
    "name": "ipython",
    "version": 3
   },
   "file_extension": ".py",
   "mimetype": "text/x-python",
   "name": "python",
   "nbconvert_exporter": "python",
   "pygments_lexer": "ipython3",
   "version": "3.13.1"
  }
 },
 "nbformat": 4,
 "nbformat_minor": 2
}
