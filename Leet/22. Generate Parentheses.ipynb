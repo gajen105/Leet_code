{
 "cells": [
  {
   "cell_type": "markdown",
   "metadata": {},
   "source": [
    "Given n pairs of parentheses, write a function to generate all combinations of well-formed parentheses.\n",
    "\n",
    " \n",
    "Example 1:\n",
    "\n",
    "Input: n = 3\n",
    "\n",
    "Output: [\"((()))\",\"(()())\",\"(())()\",\"()(())\",\"()()()\"]"
   ]
  },
  {
   "cell_type": "code",
   "execution_count": 18,
   "metadata": {},
   "outputs": [
    {
     "name": "stdout",
     "output_type": "stream",
     "text": [
      "['(())', '()()']\n"
     ]
    }
   ],
   "source": [
    "# from typing import List\n",
    "# class Solution(object):\n",
    "#     def generateParenthesis(self, n:int)->List[str]:\n",
    "#         result = []\n",
    "#         def backtrack(start_index = 0, path = []):\n",
    "#             if len(path)==2*n:\n",
    "#                 result.append(\"\".join(path))\n",
    "#                 return\n",
    "#             if start_index <n:\n",
    "#                 path.append(\"(\")\n",
    "#                 backtrack(start_index+1, path)\n",
    "#                 path.pop()\n",
    "#             if len(path) - start_index < start_index:\n",
    "#                 path.append(\")\")\n",
    "#                 backtrack(start_index, path)\n",
    "#                 path.pop()\n",
    "#         backtrack()\n",
    "#         return result\n",
    "# sol = Solution()\n",
    "# print(sol.generateParenthesis(2))\n",
    "from typing import List\n",
    "class Solution(object):\n",
    "    def generateParenthesis(self, n:int)->List[str]:\n",
    "        result = []\n",
    "        def backtrack(open_index,close_index, path = []):\n",
    "            if len(path) == 2*n:\n",
    "                result.append(''.join(path))\n",
    "                return\n",
    "            if open_index<n:                        #>\n",
    "                path.append('(') \n",
    "                backtrack(open_index+1,close_index, path)\n",
    "                path.pop()\n",
    "            if close_index<open_index :                 #>\n",
    "                path.append(')') \n",
    "                backtrack(open_index,close_index+1, path)\n",
    "                path.pop()\n",
    "        backtrack(0,0,[])\n",
    "        return result\n",
    "sol = Solution()\n",
    "print(sol.generateParenthesis(2))"
   ]
  }
 ],
 "metadata": {
  "kernelspec": {
   "display_name": ".venv",
   "language": "python",
   "name": "python3"
  },
  "language_info": {
   "codemirror_mode": {
    "name": "ipython",
    "version": 3
   },
   "file_extension": ".py",
   "mimetype": "text/x-python",
   "name": "python",
   "nbconvert_exporter": "python",
   "pygments_lexer": "ipython3",
   "version": "3.13.2"
  }
 },
 "nbformat": 4,
 "nbformat_minor": 2
}
