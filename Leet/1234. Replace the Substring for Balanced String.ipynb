{
 "cells": [
  {
   "cell_type": "markdown",
   "metadata": {},
   "source": [
    "You are given a string s of length n containing only four kinds of characters: 'Q', 'W', 'E', and 'R'.\n",
    "\n",
    "A string is said to be balanced if each of its characters appears n / 4 times where n is the length of the string.\n",
    "\n",
    "Return the minimum length of the substring that can be replaced with any other string of the same length to make s balanced. If s is already balanced, return 0.\n",
    "\n",
    " \n",
    "\n",
    "Example 1:\n",
    "\n",
    "Input: s = \"QWER\"\n",
    "Output: 0\n",
    "Explanation: s is already balanced.\n",
    "Example 2:\n",
    "\n",
    "Input: s = \"QQWE\"\n",
    "Output: 1\n",
    "Explanation: We need to replace a 'Q' to 'R', so that \"RQWE\" (or \"QRWE\") is balanced.\n",
    "Example 3:\n",
    "\n",
    "Input: s = \"QQQW\"\n",
    "Output: 2\n",
    "Explanation: We can replace the first \"QQ\" to \"ER\". \n",
    " \n",
    "\n",
    "Constraints:\n",
    "\n",
    "n == s.length\n",
    "4 <= n <= 105\n",
    "n is a multiple of 4.\n",
    "s contains only 'Q', 'W', 'E', and 'R'."
   ]
  },
  {
   "cell_type": "code",
   "execution_count": null,
   "metadata": {},
   "outputs": [],
   "source": [
    "class Solution:\n",
    "    def balancedString(self, s: str) -> int:\n",
    "        # from collections import Counter\n",
    "        # counter = Counter(s)\n",
    "        # n = int(len(s)/4)\n",
    "        # count = 0\n",
    "        # for  value in counter.values():\n",
    "        #     if value > n:\n",
    "        #         count += value-n\n",
    "        \n",
    "        return\n",
    "sol = Solution()\n",
    "s = 'QQQW'\n",
    "print(sol.balancedString(s))"
   ]
  }
 ],
 "metadata": {
  "kernelspec": {
   "display_name": ".venv",
   "language": "python",
   "name": "python3"
  },
  "language_info": {
   "codemirror_mode": {
    "name": "ipython",
    "version": 3
   },
   "file_extension": ".py",
   "mimetype": "text/x-python",
   "name": "python",
   "nbconvert_exporter": "python",
   "pygments_lexer": "ipython3",
   "version": "3.13.1"
  }
 },
 "nbformat": 4,
 "nbformat_minor": 2
}
