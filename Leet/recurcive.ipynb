{
 "cells": [
  {
   "cell_type": "markdown",
   "metadata": {},
   "source": [
    "Print a Linked List in Reverse\n",
    "class Solution(object):\n",
    "    def reverseList(self, head):\n",
    "        def reverse(current, previous):\n",
    "            if current.next is None:\n",
    "                return previous;\n",
    "            temp = current\n",
    "            temp.next = previous\n",
    "            current = current.next\n",
    "            new_head = reverse(current,temp)\n",
    "            return new_head\n",
    "        head = reverse(head, None)\n",
    "        return head\n",
    "\n",
    "\n",
    "Merge Two Sorted Linked Lists (Recursively)\n",
    "\n",
    "Binary Tree Traversal (Preorder, Inorder, Postorder)\n",
    "\n",
    "Subsets (Power Set Problem)\n",
    "\n",
    "N-Queens Problem\n",
    "\n",
    "Generate Parentheses (LeetCode 22)\n",
    "\n",
    "Word Search (LeetCode 79)\n"
   ]
  },
  {
   "cell_type": "code",
   "execution_count": 11,
   "metadata": {},
   "outputs": [
    {
     "data": {
      "text/plain": [
       "120"
      ]
     },
     "execution_count": 11,
     "metadata": {},
     "output_type": "execute_result"
    }
   ],
   "source": [
    "# Factorial Calculation (n!)\n",
    "def factorial(n):\n",
    "    if n==0 or n==1:\n",
    "        return 1\n",
    "    else:\n",
    "        return n*factorial(n-1)\n",
    "factorial(5)"
   ]
  },
  {
   "cell_type": "code",
   "execution_count": 22,
   "metadata": {},
   "outputs": [
    {
     "name": "stdout",
     "output_type": "stream",
     "text": [
      "0 1 1 2 3 5 8 13 21 34 55 89 144 233 377 610 987 1597 2584 4181 "
     ]
    }
   ],
   "source": [
    "# Fibonacci Sequence\n",
    "def fibonacci(n):\n",
    "    if n==0 or n==1:\n",
    "        return n\n",
    "    else:\n",
    "        return fibonacci(n-1)+fibonacci(n-2)\n",
    "for i in range(20):\n",
    "    print(fibonacci(i), end=' ')"
   ]
  },
  {
   "cell_type": "code",
   "execution_count": 24,
   "metadata": {},
   "outputs": [
    {
     "data": {
      "text/plain": [
       "'ardnejag'"
      ]
     },
     "execution_count": 24,
     "metadata": {},
     "output_type": "execute_result"
    }
   ],
   "source": [
    "# Reverse a String Using Recursion\n",
    "def reverse(s):\n",
    "    if len(s)==0:\n",
    "        return s\n",
    "    return reverse(s[1:])+s[0]\n",
    "reverse('gajendra')"
   ]
  }
 ],
 "metadata": {
  "kernelspec": {
   "display_name": ".venv",
   "language": "python",
   "name": "python3"
  },
  "language_info": {
   "codemirror_mode": {
    "name": "ipython",
    "version": 3
   },
   "file_extension": ".py",
   "mimetype": "text/x-python",
   "name": "python",
   "nbconvert_exporter": "python",
   "pygments_lexer": "ipython3",
   "version": "3.13.2"
  }
 },
 "nbformat": 4,
 "nbformat_minor": 2
}
