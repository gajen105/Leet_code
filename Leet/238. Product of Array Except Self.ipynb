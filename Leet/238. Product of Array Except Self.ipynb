{
 "cells": [
  {
   "cell_type": "markdown",
   "metadata": {},
   "source": [
    "Given an integer array nums, return an array answer such that answer[i] is equal to the product of all the elements of nums except nums[i].\n",
    "\n",
    "The product of any prefix or suffix of nums is guaranteed to fit in a 32-bit integer.\n",
    "\n",
    "You must write an algorithm that runs in O(n) time and without using the division operation.\n",
    "\n",
    " \n",
    "\n",
    "Example 1:\n",
    "\n",
    "Input: nums = [1,2,3,4]\n",
    "Output: [24,12,8,6]\n",
    "Example 2:\n",
    "\n",
    "Input: nums = [-1,1,0,-3,3]\n",
    "Output: [0,0,9,0,0]"
   ]
  },
  {
   "cell_type": "code",
   "execution_count": 73,
   "metadata": {},
   "outputs": [
    {
     "name": "stdout",
     "output_type": "stream",
     "text": [
      "[1, 1, 2, 6]\n",
      "[24, 12, 8, 6]\n"
     ]
    }
   ],
   "source": [
    "from traceback import print_tb\n",
    "from typing import List\n",
    "class Solution:\n",
    "    def productExceptSelf(self, nums: List[int]) -> List[int]:\n",
    "        n = len(nums)\n",
    "        li = [1]*n\n",
    "        prefix = 1\n",
    "        for i in range(1,n):\n",
    "            prefix = prefix*nums[i-1]\n",
    "            li[i] = prefix\n",
    "        suffix = 1\n",
    "        for i in range(n-1,0, -1):\n",
    "            li[i-n] = li[i-n]*suffix\n",
    "            suffix = suffix*nums[i]\n",
    "        li[0] = suffix\n",
    "        return li\n",
    "    \n",
    "sol = Solution()\n",
    "nums = [1,2,3,4]\n",
    "print(sol.productExceptSelf(nums)) "
   ]
  },
  {
   "cell_type": "code",
   "execution_count": null,
   "metadata": {},
   "outputs": [],
   "source": [
    "\n",
    "        n = len(nums)\n",
    "        result = [1]*n\n",
    "        prefix = 1\n",
    "        for i in range(n-1):\n",
    "            prefix = prefix*nums[i]\n",
    "            result.append(prefix)\n",
    "        suffix = 1\n",
    "        for i in range(n-1,0, -1):\n",
    "            result[i-n] = result[i-n]*suffix\n",
    "            suffix = suffix*nums[i]\n",
    "        result[0] = suffix\n",
    "        return result"
   ]
  }
 ],
 "metadata": {
  "kernelspec": {
   "display_name": ".venv",
   "language": "python",
   "name": "python3"
  },
  "language_info": {
   "codemirror_mode": {
    "name": "ipython",
    "version": 3
   },
   "file_extension": ".py",
   "mimetype": "text/x-python",
   "name": "python",
   "nbconvert_exporter": "python",
   "pygments_lexer": "ipython3",
   "version": "3.13.2"
  }
 },
 "nbformat": 4,
 "nbformat_minor": 2
}
