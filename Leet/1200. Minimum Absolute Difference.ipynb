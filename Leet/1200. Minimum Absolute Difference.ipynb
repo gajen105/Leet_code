{
 "cells": [
  {
   "cell_type": "markdown",
   "metadata": {},
   "source": [
    "Given an array of distinct integers arr, find all pairs of elements with the minimum absolute difference of any two elements.\n",
    "\n",
    "Return a list of pairs in ascending order(with respect to pairs), each pair [a, b] follows\n",
    "\n",
    "a, b are from arr\n",
    "\n",
    "a < b\n",
    "\n",
    "b - a equals to the minimum absolute difference of any two elements in arr"
   ]
  },
  {
   "cell_type": "code",
   "execution_count": 78,
   "metadata": {},
   "outputs": [
    {
     "data": {
      "text/plain": [
       "[[89, 100], [100, 111]]"
      ]
     },
     "execution_count": 78,
     "metadata": {},
     "output_type": "execute_result"
    }
   ],
   "source": [
    "import re\n",
    "from typing import List\n",
    "class Solution:\n",
    "    def minimumAbsDifference_1(self, arr: List[int]) -> List[List[int]]:\n",
    "        #step 1 find min abs value\n",
    "        arr.sort()\n",
    "        n = len(arr)\n",
    "        min_abs = float('inf')\n",
    "        for i in range(1,n):\n",
    "            min_abs = min(min_abs, arr[i]-arr[i-1])\n",
    "        li = []\n",
    "        for r in range(1,n):\n",
    "            if arr[r]-arr[r-1] == min_abs:\n",
    "                li.append([arr[r-1],arr[r]])\n",
    "        return li\n",
    "    def minimumAbsDifference(self, arr: List[int]) -> List[List[int]]:\n",
    "        arr.sort()\n",
    "        n = len(arr)\n",
    "        min_abs = float('inf')\n",
    "        i=1\n",
    "        re = []\n",
    "        while i <n:\n",
    "            if min_abs > arr[i]-arr[i-1]:\n",
    "                min_abs = arr[i]-arr[i-1]\n",
    "                re = [[arr[i-1],arr[i]]]\n",
    "            elif min_abs ==  arr[i]-arr[i-1]:\n",
    "                re.append([arr[i-1],arr[i]])\n",
    "            i+=1\n",
    "        return re\n",
    "sol = Solution()\n",
    "arr = [4,-67,89,100,111]\n",
    "sol.minimumAbsDifference_1(arr)"
   ]
  }
 ],
 "metadata": {
  "kernelspec": {
   "display_name": ".venv",
   "language": "python",
   "name": "python3"
  },
  "language_info": {
   "codemirror_mode": {
    "name": "ipython",
    "version": 3
   },
   "file_extension": ".py",
   "mimetype": "text/x-python",
   "name": "python",
   "nbconvert_exporter": "python",
   "pygments_lexer": "ipython3",
   "version": "3.13.2"
  }
 },
 "nbformat": 4,
 "nbformat_minor": 2
}
