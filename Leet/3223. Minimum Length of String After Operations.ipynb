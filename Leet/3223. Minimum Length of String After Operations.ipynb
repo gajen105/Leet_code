{
 "cells": [
  {
   "cell_type": "markdown",
   "metadata": {},
   "source": [
    "You are given a string s.\n",
    "\n",
    "You can perform the following process on s any number of times:\n",
    "\n",
    "Choose an index i in the string such that there is at least one character to the left of index i that is equal to s[i], and at least one character to the right that is also equal to s[i].\n",
    "Delete the closest character to the left of index i that is equal to s[i].\n",
    "Delete the closest character to the right of index i that is equal to s[i].\n",
    "Return the minimum length of the final string s that you can achieve.\n",
    "\n",
    " \n",
    "\n",
    "Example 1:\n",
    "\n",
    "Input: s = \"abaacbcbb\"\n",
    "\n",
    "Output: 5\n",
    "\n",
    "Explanation:\n",
    "We do the following operations:\n",
    "\n",
    "Choose index 2, then remove the characters at indices 0 and 3. The resulting string is s = \"bacbcbb\".\n",
    "Choose index 3, then remove the characters at indices 0 and 5. The resulting string is s = \"acbcb\".\n",
    "Example 2:\n",
    "\n",
    "Input: s = \"aa\"\n",
    "\n",
    "Output: 2\n",
    "\n",
    "Explanation:\n",
    "We cannot perform any operations, so we return the length of the original string.\n",
    "\n",
    " \n",
    "\n",
    "Constraints:\n",
    "\n",
    "1 <= s.length <= 2 * 105\n",
    "s consists only of lowercase English letters"
   ]
  },
  {
   "cell_type": "code",
   "execution_count": null,
   "metadata": {},
   "outputs": [],
   "source": [
    "class Solution:\n",
    "    def minimumLength(self, s: str) -> int:\n",
    "        # list_s = list(s)\n",
    "        # print (s)\n",
    "        # for i in range(1,len(s)):\n",
    "        #     for j in range(i+1,0,-1):\n",
    "        #         print(list_s, i, j,list_s[i])#, list_s[i-j],list_s[i], list_s[i+j])\n",
    "        #         if i-j>=0 and i+j <len(s) and list_s[i-j] == list_s[i+j]:\n",
    "        #             a=list_s.pop(i-j)\n",
    "        #             b= list_s.pop(i+j-1)\n",
    "        #             s = ''.join(list_s)\n",
    "        #             # print(i-j,i, i+j-1,s, list_s[i-j], a, list_s[i+j],b)\n",
    "        #             return self.minimumLength(s)\n",
    "        # return s\n",
    "        from collections import Counter\n",
    "        c = Counter(s)\n",
    "        delete_count = 0\n",
    "        for v in c.values():\n",
    "            if v % 2 == 1:\n",
    "                delete_count += v-1\n",
    "            else:\n",
    "                delete_count += v-2\n",
    "        return len(s) - delete_count\n",
    "    \n",
    "sol = Solution()\n",
    "s = 'bacbcbb'\n",
    "print(sol.minimumLength(s))"
   ]
  }
 ],
 "metadata": {
  "kernelspec": {
   "display_name": ".venv",
   "language": "python",
   "name": "python3"
  },
  "language_info": {
   "codemirror_mode": {
    "name": "ipython",
    "version": 3
   },
   "file_extension": ".py",
   "mimetype": "text/x-python",
   "name": "python",
   "nbconvert_exporter": "python",
   "pygments_lexer": "ipython3",
   "version": "3.13.1"
  }
 },
 "nbformat": 4,
 "nbformat_minor": 2
}
