{
 "cells": [
  {
   "cell_type": "markdown",
   "metadata": {},
   "source": [
    "You are given an integer array coins representing coins of different denominations and an integer amount representing a total amount of money.\n",
    "\n",
    "Return the fewest number of coins that you need to make up that amount. If that amount of money cannot be made up by any combination of the coins, return -1.\n",
    "\n",
    "You may assume that you have an infinite number of each kind of coin."
   ]
  },
  {
   "cell_type": "code",
   "execution_count": 108,
   "metadata": {},
   "outputs": [
    {
     "data": {
      "text/plain": [
       "1"
      ]
     },
     "execution_count": 108,
     "metadata": {},
     "output_type": "execute_result"
    }
   ],
   "source": [
    "from typing import List\n",
    "class Solution:\n",
    "    def coinChange(self, coins: List[int], amount: int) -> List:\n",
    "        dp = [amount+1]*(amount+1)\n",
    "        dp[0] = 0\n",
    "        for i in range(1, amount+1):\n",
    "            for c in coins:\n",
    "                if i-c>=0:\n",
    "                    dp[i] = min(dp[i], 1+dp[i-c])\n",
    "        return dp[amount] if  dp[amount] != amount+1 else -1\n",
    "\n",
    "coins = [1,2,5,6,7,8,9,10,11,12,13,14]\n",
    "amount = 11\n",
    "sol = Solution()\n",
    "sol.coinChange(coins,amount)"
   ]
  },
  {
   "cell_type": "code",
   "execution_count": 109,
   "metadata": {},
   "outputs": [
    {
     "data": {
      "text/plain": [
       "2"
      ]
     },
     "execution_count": 109,
     "metadata": {},
     "output_type": "execute_result"
    }
   ],
   "source": [
    "#RECURSION\n",
    "class Solution:\n",
    "    def dfs( self,coins , i , amount):\n",
    "        if amount==0:\n",
    "            return 0\n",
    "        if i<0 or amount<0:\n",
    "            return float('inf')\n",
    "        return min(self.dfs(coins , i , amount-coins[i]) + 1 ,\n",
    "                    self.dfs(coins , i-1 , amount))\n",
    "    def coinChange(self, coins: List[int], amount: int) -> List:\n",
    "        n = len(coins)\n",
    "        res = self.dfs(coins , n-1 , amount)\n",
    "        return res if res != float('inf') else -1\n",
    "\n",
    "coins = [1,2,5,6,7,8,9,10,12,13,14]\n",
    "amount = 11\n",
    "sol = Solution()\n",
    "sol.coinChange(coins,amount)"
   ]
  },
  {
   "cell_type": "code",
   "execution_count": 110,
   "metadata": {},
   "outputs": [
    {
     "data": {
      "text/plain": [
       "1"
      ]
     },
     "execution_count": 110,
     "metadata": {},
     "output_type": "execute_result"
    }
   ],
   "source": [
    "#RECURSION + MEMO\n",
    "class Solution:\n",
    "    def coinChange(self,coins,amount) :\n",
    "        def dfs(coins ,i ,amount):\n",
    "            if amount==0:\n",
    "                return 0\n",
    "            if i<0 or amount<0:\n",
    "                return float('inf')\n",
    "            res = dp[i][amount]\n",
    "            if(res != -1):\n",
    "                return res\n",
    "            return min(dfs(coins , i , amount-coins[i]) + 1 , dfs(coins , i-1 , amount))\n",
    "        n = len(coins)\n",
    "        dp =  [ [-1]*(amount+1) for _ in range(n)]\n",
    "        res = dfs(coins , n-1 , amount)\n",
    "        return res if res!= float('inf') else -1 \n",
    "\n",
    "coins = [1,2,5,6,7,8,9,10,11,12,13,14]\n",
    "amount = 11\n",
    "sol = Solution()\n",
    "sol.coinChange(coins,amount)"
   ]
  },
  {
   "cell_type": "code",
   "execution_count": 111,
   "metadata": {},
   "outputs": [
    {
     "data": {
      "text/plain": [
       "1"
      ]
     },
     "execution_count": 111,
     "metadata": {},
     "output_type": "execute_result"
    }
   ],
   "source": [
    "#2D DP\n",
    "class Solution:\n",
    "    def coinChange(self, coins, amount):\n",
    "        n = len(coins)\n",
    "        dp = [ [float('inf')]*(amount+1) for _ in range(n+1)]\n",
    "        for i in range(n+1):\n",
    "            dp[i][0] = 0\n",
    "            for j in range (1, amount+1):\n",
    "                if j>=coins[i-1]:\n",
    "                    dp[i][j] = min(dp[i][j-coins[i-1]]+1, dp[i-1][j])\n",
    "                else: dp[i][j] = dp[i-1][j]\n",
    "        res = dp[n][amount]\n",
    "        return res if res!= float('inf') else -1 \n",
    "\n",
    "coins = [1,2,10,11]\n",
    "amount =11\n",
    "sol = Solution()\n",
    "sol.coinChange(coins,amount)"
   ]
  },
  {
   "cell_type": "code",
   "execution_count": 112,
   "metadata": {},
   "outputs": [
    {
     "data": {
      "text/plain": [
       "1"
      ]
     },
     "execution_count": 112,
     "metadata": {},
     "output_type": "execute_result"
    }
   ],
   "source": [
    "#1D DP\n",
    "class Solution:\n",
    "    def coinChange(self, coins, amount):\n",
    "        n = len(coins)\n",
    "        dp = [float('inf')]*(amount+1)\n",
    "        dp[0] = 0\n",
    "        for i in range(n+1):\n",
    "            for j in range(1,amount+1):\n",
    "                if (j-coins[i-1])>=0:\n",
    "                    dp[j] = min(dp[j-coins[i-1]]+1, dp[j])\n",
    "        res = dp[amount]\n",
    "        return res if res!= float('inf') else -1 \n",
    "\n",
    "coins = [1,2,5,6,7,8,9,10,11,12,13,14]\n",
    "amount = 11\n",
    "sol = Solution()\n",
    "sol.coinChange(coins,amount)"
   ]
  }
 ],
 "metadata": {
  "kernelspec": {
   "display_name": ".venv",
   "language": "python",
   "name": "python3"
  },
  "language_info": {
   "codemirror_mode": {
    "name": "ipython",
    "version": 3
   },
   "file_extension": ".py",
   "mimetype": "text/x-python",
   "name": "python",
   "nbconvert_exporter": "python",
   "pygments_lexer": "ipython3",
   "version": "3.13.2"
  }
 },
 "nbformat": 4,
 "nbformat_minor": 2
}
