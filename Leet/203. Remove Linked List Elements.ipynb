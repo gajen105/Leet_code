{
 "cells": [
  {
   "cell_type": "markdown",
   "metadata": {},
   "source": [
    "Given the head of a linked list and an integer val, remove all the nodes of the linked list that has Node.val == val, and return the new head.\n",
    "\n",
    " \n",
    "\n",
    "Example 1:\n",
    "\n",
    "\n",
    "Input: head = [1,2,6,3,4,5,6], val = 6\n",
    "Output: [1,2,3,4,5]"
   ]
  },
  {
   "cell_type": "code",
   "execution_count": 1,
   "metadata": {},
   "outputs": [],
   "source": [
    "# Definition for singly-linked list.\n",
    "# class ListNode(object):\n",
    "#     def __init__(self, val=0, next=None):\n",
    "#         self.val = val\n",
    "#         self.next = next\n",
    "class Solution(object):\n",
    "    def removeElements(self, head, val):\n",
    "        \"\"\"\n",
    "        :type head: Optional[ListNode]\n",
    "        :type val: int\n",
    "        :rtype: Optional[ListNode]\n",
    "        \"\"\"\n",
    "        while head and head.val==val:\n",
    "            head=head.next\n",
    "        if not head: return None\n",
    "        current = head.next\n",
    "        previous = head\n",
    "        while current:\n",
    "            if current.val == val:\n",
    "                previous.next = current.next\n",
    "            else:\n",
    "                previous = current\n",
    "            current = current.next\n",
    "        return head"
   ]
  },
  {
   "cell_type": "code",
   "execution_count": null,
   "metadata": {},
   "outputs": [],
   "source": [
    "# Definition for singly-linked list.\n",
    "class ListNode(object):\n",
    "    def __init__(self, val=0, next=None):\n",
    "        self.val = val\n",
    "        self.next = next\n",
    "class Solution(object):\n",
    "    def removeElements(self, head, val):\n",
    "        \"\"\"\n",
    "        :type head: Optional[ListNode]\n",
    "        :type val: int\n",
    "        :rtype: Optional[ListNode]\n",
    "        \"\"\"\n",
    "        ans = ListNode(0,head)\n",
    "        current = ans.next\n",
    "        previous = ans\n",
    "        while current:\n",
    "            if current.val == val:\n",
    "                previous.next = current.next\n",
    "            else:\n",
    "                previous = current\n",
    "            current = current.next\n",
    "        return ans.next"
   ]
  },
  {
   "cell_type": "code",
   "execution_count": null,
   "metadata": {},
   "outputs": [],
   "source": [
    "# Definition for singly-linked list.\n",
    "class ListNode(object):\n",
    "    def __init__(self, val=0, next=None):\n",
    "        self.val = val\n",
    "        self.next = next\n",
    "class Solution(object):\n",
    "    def removeElements(self, head, val):\n",
    "        \"\"\"\n",
    "        :type head: Optional[ListNode]\n",
    "        :type val: int\n",
    "        :rtype: Optional[ListNode]\n",
    "        \"\"\"\n",
    "        ans = ListNode(0,head)\n",
    "        current = ans.next\n",
    "        while current:\n",
    "            if current.next.val == val:\n",
    "                current.next = current.next.next\n",
    "            else:\n",
    "                current = current.next\n",
    "        return ans.next"
   ]
  },
  {
   "cell_type": "code",
   "execution_count": 2,
   "metadata": {},
   "outputs": [],
   "source": [
    "# Definition for singly-linked list.\n",
    "class ListNode(object):\n",
    "    def __init__(self, val=0, next=None):\n",
    "        self.val = val\n",
    "        self.next = next\n",
    "class Solution(object):\n",
    "    def removeElements(self, head, val):\n",
    "        # def removeElements(head, val):\n",
    "            if not head: \n",
    "                return None\n",
    "            head.next = self.removeElements(head.next, val)\n",
    "            return head if head.val != val else head.next\n",
    "        # return removeElements(head, val)"
   ]
  }
 ],
 "metadata": {
  "kernelspec": {
   "display_name": ".venv",
   "language": "python",
   "name": "python3"
  },
  "language_info": {
   "codemirror_mode": {
    "name": "ipython",
    "version": 3
   },
   "file_extension": ".py",
   "mimetype": "text/x-python",
   "name": "python",
   "nbconvert_exporter": "python",
   "pygments_lexer": "ipython3",
   "version": "3.13.1"
  }
 },
 "nbformat": 4,
 "nbformat_minor": 2
}
