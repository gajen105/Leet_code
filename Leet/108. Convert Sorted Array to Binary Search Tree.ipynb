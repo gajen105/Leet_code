{
 "cells": [
  {
   "cell_type": "markdown",
   "metadata": {},
   "source": [
    "Given an integer array nums where the elements are sorted in ascending order, \n",
    "\n",
    "convert it to a height-balanced binary search tree."
   ]
  },
  {
   "cell_type": "code",
   "execution_count": null,
   "metadata": {
    "vscode": {
     "languageId": "plaintext"
    }
   },
   "outputs": [],
   "source": [
    "# Definition for a binary tree node.\n",
    "# class TreeNode(object):\n",
    "#     def __init__(self, val=0, left=None, right=None):\n",
    "#         self.val = val\n",
    "#         self.left = left\n",
    "#         self.right = right\n",
    "class Solution(object):\n",
    "    def sortedArrayToBST(self, nums):\n",
    "        \"\"\"\n",
    "        :type nums: List[int]\n",
    "        :rtype: Optional[TreeNode]\n",
    "        \"\"\"\n",
    "        if not nums:\n",
    "            return None\n",
    "        mid = len(nums)//2\n",
    "        root = TreeNode(nums[mid])\n",
    "        root.left = self.sortedArrayToBST(nums[:mid])\n",
    "        root.right = self.sortedArrayToBST(nums[mid+1:])\n",
    "        return root"
   ]
  },
  {
   "cell_type": "code",
   "execution_count": null,
   "metadata": {
    "vscode": {
     "languageId": "plaintext"
    }
   },
   "outputs": [],
   "source": [
    "# Definition for a binary tree node.\n",
    "# class TreeNode(object):\n",
    "#     def __init__(self, val=0, left=None, right=None):\n",
    "#         self.val = val\n",
    "#         self.left = left\n",
    "#         self.right = right\n",
    "class Solution(object):\n",
    "    def sortedArrayToBST(self, nums):\n",
    "        \"\"\"\n",
    "        :type nums: List[int]\n",
    "        :rtype: Optional[TreeNode]\n",
    "        \"\"\"\n",
    "        def insertMid(left,right):\n",
    "            if left>right:\n",
    "                return None\n",
    "            mid = (left+right)//2\n",
    "            node = TreeNode(nums[mid])\n",
    "            node.left = insertMid(left,mid-1)\n",
    "            node.right = insertMid(mid+1,right)\n",
    "            return node\n",
    "        return insertMid(0,len(nums)-1)"
   ]
  },
  {
   "cell_type": "code",
   "execution_count": null,
   "metadata": {
    "vscode": {
     "languageId": "plaintext"
    }
   },
   "outputs": [],
   "source": [
    "# Definition for a binary tree node.\n",
    "# class TreeNode(object):\n",
    "#     def __init__(self, val=0, left=None, right=None):\n",
    "#         self.val = val\n",
    "#         self.left = left\n",
    "#         self.right = right\n",
    "class Solution(object):\n",
    "    def sortedArrayToBST(self, nums):\n",
    "        \"\"\"\n",
    "        :type nums: List[int]\n",
    "        :rtype: Optional[TreeNode]\n",
    "        \"\"\"\n",
    "        from collections import deque\n",
    "        if not nums:\n",
    "            return None\n",
    "        n = len(nums)\n",
    "        mid = n//2\n",
    "        root = TreeNode(nums[mid])\n",
    "        q = deque()\n",
    "        q.append((root, 0,mid-1))\n",
    "        q.append((root, mid+1, n-1))\n",
    "        while q:\n",
    "            parent,left,right = q.popleft()\n",
    "            if left<=right:\n",
    "                mid = (left+right)//2\n",
    "                child = TreeNode(nums[mid])\n",
    "                if parent.val > nums[mid]:\n",
    "                    parent.left = child\n",
    "                else: parent.right = child\n",
    "                q.append((child,left,mid-1))\n",
    "                q.append((child,mid+1,right))\n",
    "        return root"
   ]
  }
 ],
 "metadata": {
  "language_info": {
   "name": "python"
  }
 },
 "nbformat": 4,
 "nbformat_minor": 2
}
