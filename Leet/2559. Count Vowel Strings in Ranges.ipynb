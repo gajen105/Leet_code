{
 "cells": [
  {
   "cell_type": "markdown",
   "metadata": {},
   "source": [
    "You are given a 0-indexed array of strings words and a 2D array of integers queries.\n",
    "\n",
    "Each query queries[i] = [li, ri] asks us to find the number of strings present in the range li to ri (both inclusive) of words that start and end with a vowel.\n",
    "\n",
    "Return an array ans of size queries.length, where ans[i] is the answer to the ith query.\n",
    "\n",
    "Note that the vowel letters are 'a', 'e', 'i', 'o', and 'u'.\n",
    "\n",
    " \n",
    "\n",
    "Example 1:\n",
    "\n",
    "Input: words = [\"aba\",\"bcb\",\"ece\",\"aa\",\"e\"], queries = [[0,2],[1,4],[1,1]]\n",
    "Output: [2,3,0]\n",
    "Explanation: The strings starting and ending with a vowel are \"aba\", \"ece\", \"aa\" and \"e\".\n",
    "The answer to the query [0,2] is 2 (strings \"aba\" and \"ece\").\n",
    "to query [1,4] is 3 (strings \"ece\", \"aa\", \"e\").\n",
    "to query [1,1] is 0.\n",
    "We return [2,3,0].\n",
    "Example 2:\n",
    "\n",
    "Input: words = [\"a\",\"e\",\"i\"], queries = [[0,2],[0,1],[2,2]]\n",
    "Output: [3,2,1]\n",
    "Explanation: Every string satisfies the conditions, so we return [3,2,1].\n",
    " \n",
    "\n",
    "Constraints:\n",
    "\n",
    "1 <= words.length <= 105\n",
    "1 <= words[i].length <= 40\n",
    "words[i] consists only of lowercase English letters.\n",
    "sum(words[i].length) <= 3 * 105\n",
    "1 <= queries.length <= 105\n",
    "0 <= li <= ri < words.length"
   ]
  },
  {
   "cell_type": "code",
   "execution_count": null,
   "metadata": {},
   "outputs": [],
   "source": [
    "from typing import List"
   ]
  },
  {
   "cell_type": "code",
   "execution_count": null,
   "metadata": {},
   "outputs": [],
   "source": [
    "def vowelStrings(self, words: List[str], queries: List[List[int]]) -> List[int]:\n",
    "        li = []\n",
    "        vowels = 'aeiou'\n",
    "        is_vowel_string = [\n",
    "            word[0].lower() in vowels and word[-1].lower() in vowels\n",
    "            for word in words\n",
    "        ]\n",
    "        prefix_sum = [0] * (len(words) + 1)\n",
    "        for i in range(len(words)):\n",
    "            prefix_sum[i + 1] = prefix_sum[i] + is_vowel_string[i]\n",
    "        for start, end in queries:\n",
    "            count = prefix_sum[end + 1] - prefix_sum[start]\n",
    "            li.append(count)\n",
    "\n",
    "        return li"
   ]
  },
  {
   "cell_type": "code",
   "execution_count": null,
   "metadata": {},
   "outputs": [],
   "source": [
    "words = [\"aba\",\"bcb\",\"ece\",\"aa\",\"e\"]\n",
    "queries = [[0,2],[1,4],[1,1]]\n",
    "print(vowelStrings(words, queries))"
   ]
  }
 ],
 "metadata": {
  "kernelspec": {
   "display_name": ".venv",
   "language": "python",
   "name": "python3"
  },
  "language_info": {
   "codemirror_mode": {
    "name": "ipython",
    "version": 3
   },
   "file_extension": ".py",
   "mimetype": "text/x-python",
   "name": "python",
   "nbconvert_exporter": "python",
   "pygments_lexer": "ipython3",
   "version": "3.13.1"
  }
 },
 "nbformat": 4,
 "nbformat_minor": 2
}
