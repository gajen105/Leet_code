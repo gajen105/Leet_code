{
 "cells": [
  {
   "cell_type": "markdown",
   "metadata": {},
   "source": [
    "Given an array nums of n integers where nums[i] is in the range [1, n], return an array of all the integers in the range [1, n] that do not appear in nums."
   ]
  },
  {
   "cell_type": "code",
   "execution_count": null,
   "metadata": {},
   "outputs": [],
   "source": [
    "from typing import List\n",
    "class Solution:\n",
    "    def findDisappearedNumbers(self, nums: List[int]) -> List[int]:\n",
    "        n = len(nums)\n",
    "        seen_li = [0]*n\n",
    "        for i,v in enumerate(nums):\n",
    "            seen_li[v-1]=v\n",
    "        print(seen_li)\n",
    "        li = []\n",
    "        for i,v in enumerate(seen_li):\n",
    "            if v==0:\n",
    "                li.append(i+1) \n",
    "        return li\n",
    "        \n",
    "    def findDisappearedNumbers2(self, nums: List[int]) -> List[int]:\n",
    "        n = len(nums)\n",
    "        seen_li = [True]*n\n",
    "        for v in nums:\n",
    "            seen_li[v-1]=False\n",
    "        return  [i + 1 for i in range(n) if  seen_li[i]]\n",
    "    \n",
    "    def findDisappearedNumbers3(self, nums: List[int]) -> List[int]:\n",
    "        n = len(nums)\n",
    "        re = []\n",
    "        set_nums = set(nums)\n",
    "        for i in range(1,n+1):\n",
    "            if i not in set_nums:\n",
    "                re.append(i)\n",
    "        return  re\n",
    "\n",
    "nums = [4,3,2,7,8,2,3,1]\n",
    "sol = Solution()\n",
    "print(sol.findDisappearedNumbers3(nums))"
   ]
  },
  {
   "cell_type": "code",
   "execution_count": null,
   "metadata": {},
   "outputs": [],
   "source": []
  }
 ],
 "metadata": {
  "kernelspec": {
   "display_name": ".venv",
   "language": "python",
   "name": "python3"
  },
  "language_info": {
   "codemirror_mode": {
    "name": "ipython",
    "version": 3
   },
   "file_extension": ".py",
   "mimetype": "text/x-python",
   "name": "python",
   "nbconvert_exporter": "python",
   "pygments_lexer": "ipython3",
   "version": "3.13.2"
  }
 },
 "nbformat": 4,
 "nbformat_minor": 2
}
