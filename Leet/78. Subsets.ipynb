{
 "cells": [
  {
   "cell_type": "markdown",
   "metadata": {},
   "source": [
    "Given an integer array nums of unique elements, return all possible \n",
    "subsets\n",
    " (the power set).\n",
    "\n",
    "The solution set must not contain duplicate subsets. Return the solution in any order."
   ]
  },
  {
   "cell_type": "code",
   "execution_count": null,
   "metadata": {},
   "outputs": [],
   "source": [
    "class Solution(object):\n",
    "    def subsets(self, nums):\n",
    "        \"\"\"\n",
    "        :type nums: List[int]\n",
    "        :rtype: List[List[int]]\n",
    "        \"\"\"\n",
    "        re = [[]]\n",
    "        for n in nums:\n",
    "            lis = []\n",
    "            for r in re:\n",
    "                li = r[:]\n",
    "                li.append(n)\n",
    "                lis.append(li)\n",
    "            re.extend(lis)\n",
    "        return re\n",
    "Solution().subsets([0,1,2])\n",
    "        "
   ]
  },
  {
   "cell_type": "code",
   "execution_count": null,
   "metadata": {},
   "outputs": [],
   "source": [
    "class Solution(object):\n",
    "    def subsets(self, nums):\n",
    "        \"\"\"\n",
    "        :type nums: List[int]\n",
    "        :rtype: List[List[int]]\n",
    "        \"\"\"\n",
    "        def backtrack(start, current):\n",
    "            result.append(current[:])\n",
    "            for i in range(start,len(nums)):\n",
    "                current.append(nums[i])\n",
    "                backtrack(i+1, current)\n",
    "                current.pop()\n",
    "        result = []\n",
    "        backtrack(0, [])\n",
    "        return result\n",
    "Solution().subsets([0,1,2])"
   ]
  }
 ],
 "metadata": {
  "kernelspec": {
   "display_name": ".venv",
   "language": "python",
   "name": "python3"
  },
  "language_info": {
   "codemirror_mode": {
    "name": "ipython",
    "version": 3
   },
   "file_extension": ".py",
   "mimetype": "text/x-python",
   "name": "python",
   "nbconvert_exporter": "python",
   "pygments_lexer": "ipython3",
   "version": "3.13.1"
  }
 },
 "nbformat": 4,
 "nbformat_minor": 2
}
