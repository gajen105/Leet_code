{
 "cells": [
  {
   "cell_type": "markdown",
   "metadata": {},
   "source": [
    "Given two integers n and k, return all possible combinations of k numbers chosen from the range [1, n].\n",
    "\n",
    "You may return the answer in any order.\n",
    " \n",
    "\n",
    "Example 1:\n",
    "\n",
    "Input: n = 4, k = 2\n",
    "Output: [[1,2],[1,3],[1,4],[2,3],[2,4],[3,4]]"
   ]
  },
  {
   "cell_type": "code",
   "execution_count": null,
   "metadata": {},
   "outputs": [],
   "source": [
    "class Solution(object):\n",
    "    def combine(self, n, k):\n",
    "        \"\"\"\n",
    "        :type n: int\n",
    "        :type k: int\n",
    "        :rtype: List[List[int]]\n",
    "        \"\"\"\n",
    "        def backtrack(start, current):\n",
    "            if len(current) == k:\n",
    "                result.append(current[:])\n",
    "            for i in range(start,n+1):\n",
    "                current.append(i)\n",
    "                backtrack(i+1, current)\n",
    "                current.pop()\n",
    "        result = []\n",
    "        backtrack(1,[])\n",
    "        return result\n",
    "Solution().combine(4,2)"
   ]
  },
  {
   "cell_type": "code",
   "execution_count": null,
   "metadata": {},
   "outputs": [],
   "source": [
    "class Solution(object):\n",
    "    def combine(self, n, k):\n",
    "        \"\"\"\n",
    "        :type n: int\n",
    "        :type k: int\n",
    "        :rtype: List[List[int]]\n",
    "        \"\"\"\n",
    "        combs = []\n",
    "        self.helper(1 ,[] ,combs ,n ,k)\n",
    "        return combs\n",
    "    def helper(self, i , currComb , combs , n , k):\n",
    "        if len(currComb) == k:   # if we have k elements in the current combination, add it to the result\n",
    "            combs.append(currComb[:]) # [:] is used to make a copy of the current combination, otherwise the reference will be added to the result and all the elements will be removed in the next step, so the result will be empty\n",
    "            return \n",
    "        if i > n: return  # if we have reached the end of the list, return\n",
    "        for j in range(i, n+1): # for each element in the list\n",
    "            currComb.append(j) # add the element to the current combination\n",
    "            self.helper(j+1 ,currComb , combs , n , k ) # recurse with the next element\n",
    "            currComb.pop()  # remove the element from the current combination"
   ]
  },
  {
   "cell_type": "code",
   "execution_count": null,
   "metadata": {},
   "outputs": [],
   "source": [
    "class Solution(object):\n",
    "    def combine(self, n, k): \n",
    "        result = []\n",
    "        self.backtrack(1,[],result,n,k)\n",
    "        return result  \n",
    "    def backtrack(self,j,path,result,n,k):\n",
    "        if len(path) == k:\n",
    "            result.append(path[:])\n",
    "            result\n",
    "        if j > n: \n",
    "            return \n",
    "        for i in range(j, n+1):\n",
    "            path.append(i)\n",
    "            self.backtrack(i+1,path)\n",
    "            path.pop()"
   ]
  }
 ],
 "metadata": {
  "kernelspec": {
   "display_name": ".venv",
   "language": "python",
   "name": "python3"
  },
  "language_info": {
   "codemirror_mode": {
    "name": "ipython",
    "version": 3
   },
   "file_extension": ".py",
   "mimetype": "text/x-python",
   "name": "python",
   "nbconvert_exporter": "python",
   "pygments_lexer": "ipython3",
   "version": "3.13.1"
  }
 },
 "nbformat": 4,
 "nbformat_minor": 2
}
