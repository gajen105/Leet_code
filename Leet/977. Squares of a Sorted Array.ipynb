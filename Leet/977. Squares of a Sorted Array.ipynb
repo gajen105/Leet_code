{
 "cells": [
  {
   "cell_type": "markdown",
   "metadata": {},
   "source": [
    "Given an integer array nums sorted in non-decreasing order, return an array of the squares of each number sorted in non-decreasing order.\n",
    "Follow up: Squaring each element and sorting the new array is very trivial, could you find an O(n) solution using a different approach?"
   ]
  },
  {
   "cell_type": "code",
   "execution_count": null,
   "metadata": {},
   "outputs": [],
   "source": [
    "from typing import List\n",
    "class Solution:\n",
    "    def sortedSquares(self, nums: List[int]) -> List[int]:\n",
    "        res = []\n",
    "        count=0\n",
    "        li = []\n",
    "        for i in range(len(nums)):\n",
    "            sqr =  nums[i]**2\n",
    "            if nums[i]<0:\n",
    "                li.append(sqr)\n",
    "                count+=1\n",
    "            else:\n",
    "                while count>0 and li[count-1]<=sqr:\n",
    "                    res.append(li.pop())\n",
    "                    count-=1\n",
    "                res.append(sqr)\n",
    "        if count>0:\n",
    "            res.extend(li[::-1])\n",
    "        return res\n",
    "        \n",
    "    def sortedSquares_2(self, nums: List[int]) -> List[int]:\n",
    "        res = []\n",
    "        l,r = 0,len(nums)-1\n",
    "        while True:\n",
    "            lsqure = nums[l]**2\n",
    "            rsqure = nums[r]**2\n",
    "            if lsqure>rsqure:\n",
    "                l+=1\n",
    "                res.insert(0,lsqure)\n",
    "            else:\n",
    "                r-=1\n",
    "                res.insert(0,rsqure)\n",
    "            if l>=r: break\n",
    "        return res\n",
    "\n",
    "sol = Solution()\n",
    "nums = [-10000,-9999,-7,-5,0,0,10000]\n",
    "sol.sortedSquares_2(nums) "
   ]
  },
  {
   "cell_type": "code",
   "execution_count": null,
   "metadata": {},
   "outputs": [],
   "source": [
    "a=10\n",
    "b=8\n",
    "min = [a,b]\n",
    "min.pop()\n",
    "min.pop()\n",
    "min.pop() "
   ]
  }
 ],
 "metadata": {
  "kernelspec": {
   "display_name": ".venv",
   "language": "python",
   "name": "python3"
  },
  "language_info": {
   "codemirror_mode": {
    "name": "ipython",
    "version": 3
   },
   "file_extension": ".py",
   "mimetype": "text/x-python",
   "name": "python",
   "nbconvert_exporter": "python",
   "pygments_lexer": "ipython3",
   "version": "3.13.1"
  }
 },
 "nbformat": 4,
 "nbformat_minor": 2
}
