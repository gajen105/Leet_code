{
 "cells": [
  {
   "cell_type": "markdown",
   "metadata": {},
   "source": [
    "Given an integer array nums sorted in non-decreasing order, return an array of the squares of each number sorted in non-decreasing order.\n",
    "Follow up: Squaring each element and sorting the new array is very trivial, could you find an O(n) solution using a different approach?"
   ]
  },
  {
   "cell_type": "code",
   "execution_count": 50,
   "metadata": {},
   "outputs": [
    {
     "data": {
      "text/plain": [
       "[0, 25, 49, 99980001, 100000000, 100000000]"
      ]
     },
     "execution_count": 50,
     "metadata": {},
     "output_type": "execute_result"
    }
   ],
   "source": [
    "from typing import List\n",
    "class Solution:\n",
    "    def sortedSquares(self, nums: List[int]) -> List[int]:\n",
    "        res = []\n",
    "        count=0\n",
    "        li = []\n",
    "        for i in range(len(nums)):\n",
    "            sqr =  nums[i]**2\n",
    "            if nums[i]<0:\n",
    "                li.append(sqr)\n",
    "                count+=1\n",
    "            else:\n",
    "                while count>0 and li[count-1]<=sqr:\n",
    "                    res.append(li.pop())\n",
    "                    count-=1\n",
    "                res.append(sqr)\n",
    "        if count>0:\n",
    "            res.extend(li[::-1])\n",
    "        return res\n",
    "        \n",
    "    def sortedSquares_2(self, nums: List[int]) -> List[int]:\n",
    "        res = []\n",
    "        l,r = 0,len(nums)-1\n",
    "        while True:\n",
    "            lsqure = nums[l]**2\n",
    "            rsqure = nums[r]**2\n",
    "            if lsqure>rsqure:\n",
    "                l+=1\n",
    "                res.insert(0,lsqure)\n",
    "            else:\n",
    "                r-=1\n",
    "                res.insert(0,rsqure)\n",
    "            if l>=r: break\n",
    "        return res\n",
    "\n",
    "sol = Solution()\n",
    "nums = [-10000,-9999,-7,-5,0,0,10000]\n",
    "sol.sortedSquares_2(nums) "
   ]
  },
  {
   "cell_type": "code",
   "execution_count": null,
   "metadata": {},
   "outputs": [
    {
     "ename": "IndexError",
     "evalue": "pop from empty list",
     "output_type": "error",
     "traceback": [
      "\u001b[1;31m---------------------------------------------------------------------------\u001b[0m",
      "\u001b[1;31mIndexError\u001b[0m                                Traceback (most recent call last)",
      "Cell \u001b[1;32mIn[7], line 6\u001b[0m\n\u001b[0;32m      4\u001b[0m \u001b[38;5;28mmin\u001b[39m\u001b[38;5;241m.\u001b[39mpop()\n\u001b[0;32m      5\u001b[0m \u001b[38;5;28mmin\u001b[39m\u001b[38;5;241m.\u001b[39mpop()\n\u001b[1;32m----> 6\u001b[0m \u001b[38;5;28;43mmin\u001b[39;49m\u001b[38;5;241;43m.\u001b[39;49m\u001b[43mpop\u001b[49m\u001b[43m(\u001b[49m\u001b[43m)\u001b[49m\n",
      "\u001b[1;31mIndexError\u001b[0m: pop from empty list"
     ]
    }
   ],
   "source": [
    "a=10\n",
    "b=8\n",
    "min = [a,b]\n",
    "min.pop()\n",
    "min.pop()\n",
    "min.pop() "
   ]
  }
 ],
 "metadata": {
  "kernelspec": {
   "display_name": ".venv",
   "language": "python",
   "name": "python3"
  },
  "language_info": {
   "codemirror_mode": {
    "name": "ipython",
    "version": 3
   },
   "file_extension": ".py",
   "mimetype": "text/x-python",
   "name": "python",
   "nbconvert_exporter": "python",
   "pygments_lexer": "ipython3",
   "version": "3.13.2"
  }
 },
 "nbformat": 4,
 "nbformat_minor": 2
}
