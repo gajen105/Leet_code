{
 "cells": [
  {
   "cell_type": "markdown",
   "metadata": {},
   "source": [
    "On a 2D plane, there are n points with integer coordinates points[i] = [xi, yi]. Return the minimum time in seconds to visit all the points in the order given by points.\n",
    "\n",
    "You can move according to these rules:\n",
    "\n",
    "In 1 second, you can either:\n",
    "move vertically by one unit,\n",
    "move horizontally by one unit, or\n",
    "move diagonally sqrt(2) units (in other words, move one unit vertically then one unit horizontally in 1 second).\n",
    "You have to visit the points in the same order as they appear in the array.\n",
    "You are allowed to pass through points that appear later in the order, but these do not count as visits."
   ]
  },
  {
   "cell_type": "code",
   "execution_count": null,
   "metadata": {},
   "outputs": [],
   "source": [
    "from typing import List\n",
    "class Solution:\n",
    "    def minTimeToVisitAllPoints(self, points: List[List[int]]) -> int:\n",
    "        count = 0\n",
    "        n = len(points)\n",
    "        for i in range(1,n):\n",
    "            if abs(points[i][0]-points[i-1][0]) > abs(points[i-1][1]-points[i][1]):\n",
    "                count = count+abs(points[i-1][0]-points[i][0])\n",
    "            else : count = count+abs(points[i-1][1]-points[i][1])\n",
    "        return count\n",
    "    def minTimeToVisitAllPoints2(self, points: List[List[int]]) -> int:\n",
    "        count = 0\n",
    "        for i in range(1,len(points)):\n",
    "            count += max(abs(points[i-1][0]-points[i][0]),abs(points[i-1][1]-points[i][1]))\n",
    "        return count\n",
    "points = [[1,1],[3,4],[-1,0]]\n",
    "sol = Solution()\n",
    "print(sol.minTimeToVisitAllPoints(points))"
   ]
  }
 ],
 "metadata": {
  "kernelspec": {
   "display_name": ".venv",
   "language": "python",
   "name": "python3"
  },
  "language_info": {
   "codemirror_mode": {
    "name": "ipython",
    "version": 3
   },
   "file_extension": ".py",
   "mimetype": "text/x-python",
   "name": "python",
   "nbconvert_exporter": "python",
   "pygments_lexer": "ipython3",
   "version": "3.13.1"
  }
 },
 "nbformat": 4,
 "nbformat_minor": 2
}
