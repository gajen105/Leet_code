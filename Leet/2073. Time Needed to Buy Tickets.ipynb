{
 "cells": [
  {
   "cell_type": "markdown",
   "metadata": {},
   "source": [
    "There are n people in a line queuing to buy tickets, where the 0th person is at the front of the line and the (n - 1)th person is at the back of the line.\n",
    "\n",
    "You are given a 0-indexed integer array tickets of length n where the number of tickets that the ith person would like to buy is tickets[i].\n",
    "\n",
    "Each person takes exactly 1 second to buy a ticket. A person can only buy 1 ticket at a time and has to go back to the end of the line (which happens instantaneously) in order to buy more tickets. If a person does not have any tickets left to buy, the person will leave the line.\n",
    "\n",
    "Return the time taken for the person initially at position k (0-indexed) to finish buying tickets."
   ]
  },
  {
   "cell_type": "code",
   "execution_count": 64,
   "metadata": {},
   "outputs": [
    {
     "data": {
      "text/plain": [
       "8"
      ]
     },
     "execution_count": 64,
     "metadata": {},
     "output_type": "execute_result"
    }
   ],
   "source": [
    "class Solution(object):\n",
    "    def timeRequiredToBuy(self, tickets, k):\n",
    "        \"\"\"\n",
    "        :type tickets: List[int]\n",
    "        :type k: int\n",
    "        :rtype: int\n",
    "        \"\"\"\n",
    "        total = 0\n",
    "        for i, x in enumerate(tickets):\n",
    "            if i <= k:\n",
    "                total += min(tickets[i], tickets[k])\n",
    "            else:\n",
    "                total += min(tickets[i], tickets[k] - 1)\n",
    "        return total\n",
    "\n",
    "sol = Solution()\n",
    "tickets = [5,1,1,1]\n",
    "k = 0\n",
    "sol.timeRequiredToBuy(tickets,k)"
   ]
  },
  {
   "cell_type": "code",
   "execution_count": 63,
   "metadata": {},
   "outputs": [
    {
     "name": "stdout",
     "output_type": "stream",
     "text": [
      "[] 2\n"
     ]
    }
   ],
   "source": [
    "tickets = [0, 1, 0]\n",
    "k=2\n",
    "l=2\n",
    "# while (0 in tickets[:k]):\n",
    "#     print(tickets)\n",
    "#     tickets.remove(0)\n",
    "#     l-=1\n",
    "\n",
    "print(tickets[:0],l)\n"
   ]
  }
 ],
 "metadata": {
  "kernelspec": {
   "display_name": ".venv",
   "language": "python",
   "name": "python3"
  },
  "language_info": {
   "codemirror_mode": {
    "name": "ipython",
    "version": 3
   },
   "file_extension": ".py",
   "mimetype": "text/x-python",
   "name": "python",
   "nbconvert_exporter": "python",
   "pygments_lexer": "ipython3",
   "version": "3.13.2"
  }
 },
 "nbformat": 4,
 "nbformat_minor": 2
}
