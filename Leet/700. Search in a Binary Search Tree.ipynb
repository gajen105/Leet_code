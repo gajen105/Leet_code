{
 "cells": [
  {
   "cell_type": "markdown",
   "metadata": {},
   "source": [
    "You are given the root of a binary search tree (BST) and an integer val.\n",
    "\n",
    "Find the node in the BST that the node's value equals val and return the subtree rooted with that node. If such a node does not exist, return null.\n"
   ]
  },
  {
   "cell_type": "code",
   "execution_count": null,
   "metadata": {
    "vscode": {
     "languageId": "plaintext"
    }
   },
   "outputs": [],
   "source": [
    "# Definition for a binary tree node.\n",
    "# class TreeNode(object):\n",
    "#     def __init__(self, val=0, left=None, right=None):\n",
    "#         self.val = val\n",
    "#         self.left = left\n",
    "#         self.right = right\n",
    "class Solution(object):\n",
    "    def searchBST(self, root, val):\n",
    "        \"\"\"\n",
    "        :type root: Optional[TreeNode]\n",
    "        :type val: int\n",
    "        :rtype: Optional[TreeNode]\n",
    "        \"\"\"\n",
    "        current = root\n",
    "        while current:\n",
    "            if current.val == val:\n",
    "                return current\n",
    "            elif  current.val > val:\n",
    "                current = current.left\n",
    "            else: current = current.right\n",
    "        return current\n",
    "        "
   ]
  },
  {
   "cell_type": "code",
   "execution_count": null,
   "metadata": {
    "vscode": {
     "languageId": "plaintext"
    }
   },
   "outputs": [],
   "source": [
    "# Definition for a binary tree node.\n",
    "# class TreeNode(object):\n",
    "#     def __init__(self, val=0, left=None, right=None):\n",
    "#         self.val = val\n",
    "#         self.left = left\n",
    "#         self.right = right\n",
    "class Solution(object):\n",
    "    def searchBST(self, root, val):\n",
    "        \"\"\"\n",
    "        :type root: Optional[TreeNode]\n",
    "        :type val: int\n",
    "        :rtype: Optional[TreeNode]\n",
    "        \"\"\"\n",
    "        if root is None:\n",
    "            return None\n",
    "        if root.val == val:\n",
    "            return root\n",
    "        elif  root.val > val:\n",
    "            self.searchBST(root.left, val)\n",
    "        else: self.searchBST(root.right, val)\n",
    "        "
   ]
  }
 ],
 "metadata": {
  "language_info": {
   "name": "python"
  }
 },
 "nbformat": 4,
 "nbformat_minor": 2
}
