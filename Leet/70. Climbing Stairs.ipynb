{
 "cells": [
  {
   "cell_type": "markdown",
   "metadata": {},
   "source": [
    "You are climbing a staircase. It takes n steps to reach the top.\n",
    "\n",
    "Each time you can either climb 1 or 2 steps. In how many distinct ways can you climb to the top?"
   ]
  },
  {
   "cell_type": "code",
   "execution_count": null,
   "metadata": {},
   "outputs": [],
   "source": [
    "class Solution(object):\n",
    "    def climbStairs(self, n):\n",
    "        \"\"\"\n",
    "        :type n: int\n",
    "        :rtype: int\n",
    "        \"\"\"\n",
    "        if n==1 or n==2: \n",
    "            return n\n",
    "        a = 1\n",
    "        b = 2\n",
    "        res = 0\n",
    "        for i in range(2,n):\n",
    "            res = a+b\n",
    "            a,b = b,res\n",
    "        return res\n",
    "\n",
    "sol  = Solution()\n",
    "n=3\n",
    "sol.climbStairs(n)\n",
    "        "
   ]
  },
  {
   "cell_type": "code",
   "execution_count": null,
   "metadata": {},
   "outputs": [],
   "source": [
    "class Solution(object):\n",
    "    def climbStairs(self, n):\n",
    "        \"\"\"\n",
    "        :type n: int\n",
    "        :rtype: int\n",
    "        \"\"\"\n",
    "        dp = [0]*(n+1)\n",
    "        dp[1] = 1\n",
    "        dp[2] = 2\n",
    "        for i in range(3,n+1):\n",
    "            dp[i] = dp[i-2]+dp[i-1]\n",
    "        return dp[n]\n",
    "\n",
    "sol  = Solution()\n",
    "n=3\n",
    "sol.climbStairs(n)\n",
    "        "
   ]
  }
 ],
 "metadata": {
  "kernelspec": {
   "display_name": ".venv",
   "language": "python",
   "name": "python3"
  },
  "language_info": {
   "codemirror_mode": {
    "name": "ipython",
    "version": 3
   },
   "file_extension": ".py",
   "mimetype": "text/x-python",
   "name": "python",
   "nbconvert_exporter": "python",
   "pygments_lexer": "ipython3",
   "version": "3.13.1"
  }
 },
 "nbformat": 4,
 "nbformat_minor": 2
}
