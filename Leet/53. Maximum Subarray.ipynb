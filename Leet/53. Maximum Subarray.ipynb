{
 "cells": [
  {
   "cell_type": "markdown",
   "metadata": {},
   "source": [
    "Given an integer array nums, find the \n",
    "subarray\n",
    " with the largest sum, and return its sum."
   ]
  },
  {
   "cell_type": "code",
   "execution_count": null,
   "metadata": {},
   "outputs": [],
   "source": [
    "class Solution(object):\n",
    "    def maxSubArray(self, nums):\n",
    "        \"\"\"\n",
    "        :type nums: List[int]\n",
    "        :rtype: int\n",
    "        \"\"\"\n",
    "        msum = 0\n",
    "        res = 0\n",
    "        for r in range(len(nums)):\n",
    "            if msum + nums[r]> 0:\n",
    "                msum = msum+ nums[r]\n",
    "                res = max(msum, res)\n",
    "            else: msum = 0\n",
    "        return res\n",
    "\n",
    "sol = Solution()\n",
    "nums = [-2,1,-3,4,-1,2,1,-5,4]\n",
    "sol.maxSubArray(nums)"
   ]
  }
 ],
 "metadata": {
  "kernelspec": {
   "display_name": ".venv",
   "language": "python",
   "name": "python3"
  },
  "language_info": {
   "codemirror_mode": {
    "name": "ipython",
    "version": 3
   },
   "file_extension": ".py",
   "mimetype": "text/x-python",
   "name": "python",
   "nbconvert_exporter": "python",
   "pygments_lexer": "ipython3",
   "version": "3.13.1"
  }
 },
 "nbformat": 4,
 "nbformat_minor": 2
}
