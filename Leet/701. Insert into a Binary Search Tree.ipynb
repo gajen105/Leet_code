{
 "cells": [
  {
   "cell_type": "markdown",
   "metadata": {},
   "source": [
    "You are given the root node of a binary search tree (BST) and a value to insert into the tree. Return the root node of the BST after the insertion. It is guaranteed that the new value does not exist in the original BST.\n",
    "\n",
    "Notice that there may exist multiple valid ways for the insertion, as long as the tree remains a BST after insertion. You can return any of them."
   ]
  },
  {
   "cell_type": "code",
   "execution_count": null,
   "metadata": {
    "vscode": {
     "languageId": "plaintext"
    }
   },
   "outputs": [],
   "source": [
    "# Definition for a binary tree node.\n",
    "# class TreeNode(object):\n",
    "#     def __init__(self, val=0, left=None, right=None):\n",
    "#         self.val = val\n",
    "#         self.left = left\n",
    "#         self.right = right\n",
    "class Solution(object):\n",
    "    def rInsertIntoBST(self, root, val):\n",
    "        if root is None:\n",
    "            return TreeNode(val)\n",
    "        if root.val > val:\n",
    "            root.left = self.rInsertIntoBST(root.left, val)\n",
    "        elif root.val < val:\n",
    "            root.right = self.rInsertIntoBST(root.right, val)\n",
    "        else:\n",
    "            node = TreeNode(val)\n",
    "            \n",
    "        return root\n",
    "\n",
    "    def insertIntoBST(self, root, val):\n",
    "        \"\"\"\n",
    "        :type root: Optional[TreeNode]\n",
    "        :type val: int\n",
    "        :rtype: Optional[TreeNode]\n",
    "        \"\"\"\n",
    "        return self.rInsertIntoBST(root, val)\n",
    "\n",
    "        "
   ]
  },
  {
   "cell_type": "code",
   "execution_count": null,
   "metadata": {
    "vscode": {
     "languageId": "plaintext"
    }
   },
   "outputs": [],
   "source": [
    "# Definition for a binary tree node.\n",
    "# class TreeNode(object):\n",
    "#     def __init__(self, val=0, left=None, right=None):\n",
    "#         self.val = val\n",
    "#         self.left = left\n",
    "#         self.right = right\n",
    "class Solution(object):\n",
    "    def insertIntoBST(self, root, val):\n",
    "        \"\"\"\n",
    "        :type root: Optional[TreeNode]\n",
    "        :type val: int\n",
    "        :rtype: Optional[TreeNode]\n",
    "        \"\"\"\n",
    "        new_node = TreeNode(val)\n",
    "        if root is None:\n",
    "            return new_node\n",
    "        current = root\n",
    "        while True:\n",
    "            if current.val > val:\n",
    "                if current.left:\n",
    "                    current = current.left\n",
    "                else:\n",
    "                    current.left = new_node\n",
    "                    break\n",
    "            else:\n",
    "                if current.right:\n",
    "                    current = current.right\n",
    "                else:\n",
    "                    current.right=new_node\n",
    "                    break\n",
    "        return root\n",
    "        "
   ]
  }
 ],
 "metadata": {
  "language_info": {
   "name": "python"
  }
 },
 "nbformat": 4,
 "nbformat_minor": 2
}
