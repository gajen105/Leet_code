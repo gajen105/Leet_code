{
 "cells": [
  {
   "cell_type": "code",
   "execution_count": 84,
   "metadata": {},
   "outputs": [
    {
     "name": "stdout",
     "output_type": "stream",
     "text": [
      "aacabaa\n",
      "acabaa\n",
      "c\n",
      "abaa\n",
      "b\n",
      "aa\n",
      "a\n",
      "aa\n"
     ]
    }
   ],
   "source": [
    "class Solution:\n",
    "    def longestPalindrome(self, s: str) -> str:\n",
    "        def isPalindrom(s):\n",
    "            n = len(s)\n",
    "            i,j = 0,n-1\n",
    "            while i!=n//2:\n",
    "                if s[i]!=s[j]:\n",
    "                    return False\n",
    "                i+=1\n",
    "                j-=1\n",
    "            return True     \n",
    "        n = len(s)\n",
    "        s=s[:]\n",
    "        longestP = ''\n",
    "        for i in range(n):\n",
    "            first_char = s[0]\n",
    "            index = s.rfind(first_char)\n",
    "            if index != -1:\n",
    "                string = s[:index+1]\n",
    "                print(string)\n",
    "                if isPalindrom(string) and len(string) > len(longestP):\n",
    "                    longestP = string\n",
    "                s = s[1:]\n",
    "        return longestP\n",
    "sol = Solution()\n",
    "s = 'aacabaa'\n",
    "print(sol.longestPalindrome(s))\n"
   ]
  },
  {
   "cell_type": "code",
   "execution_count": 69,
   "metadata": {},
   "outputs": [
    {
     "name": "stdout",
     "output_type": "stream",
     "text": [
      "a C\n",
      "False\n"
     ]
    }
   ],
   "source": [
    "s= 'aBC'\n",
    "def isPalindrom(s):\n",
    "    n = len(s)\n",
    "    i,j = 0,n-1\n",
    "    while i!=n//2:\n",
    "        if s[i]!=s[j]:\n",
    "            return False\n",
    "        i+=1\n",
    "        j-=1\n",
    "    return True\n",
    "print(isPalindrom(s))"
   ]
  }
 ],
 "metadata": {
  "kernelspec": {
   "display_name": ".venv",
   "language": "python",
   "name": "python3"
  },
  "language_info": {
   "codemirror_mode": {
    "name": "ipython",
    "version": 3
   },
   "file_extension": ".py",
   "mimetype": "text/x-python",
   "name": "python",
   "nbconvert_exporter": "python",
   "pygments_lexer": "ipython3",
   "version": "3.13.2"
  }
 },
 "nbformat": 4,
 "nbformat_minor": 2
}
