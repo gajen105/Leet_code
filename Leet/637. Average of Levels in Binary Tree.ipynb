{
 "cells": [
  {
   "cell_type": "code",
   "execution_count": null,
   "metadata": {},
   "outputs": [],
   "source": [
    "# Definition for a binary tree node.\n",
    "# class TreeNode(object):\n",
    "#     def __init__(self, val=0, left=None, right=None):\n",
    "#         self.val = val\n",
    "#         self.left = left\n",
    "#         self.right = right\n",
    "class Solution(object):\n",
    "    def averageOfLevels(self, root):\n",
    "        \"\"\"\n",
    "        :type root: Optional[TreeNode]\n",
    "        :rtype: List[float]\n",
    "        \"\"\"\n",
    "        from collections import deque\n",
    "        if root is None:\n",
    "            return []\n",
    "        queue = deque()\n",
    "        queue.append(root)\n",
    "        ans = []\n",
    "        while queue:\n",
    "            # level = []\n",
    "            avg = 0\n",
    "            n = len(queue)\n",
    "            for i in range(len(queue)):\n",
    "                node = queue.popleft()\n",
    "                avg+=node.val\n",
    "                if node.left: queue.append(node.left)\n",
    "                if node.right: queue.append(node.right)\n",
    "            ans.append(round(avg/float(n), 5))\n",
    "\n",
    "        return ans\n",
    "        "
   ]
  }
 ],
 "metadata": {
  "kernelspec": {
   "display_name": ".venv",
   "language": "python",
   "name": "python3"
  },
  "language_info": {
   "codemirror_mode": {
    "name": "ipython",
    "version": 3
   },
   "file_extension": ".py",
   "mimetype": "text/x-python",
   "name": "python",
   "nbconvert_exporter": "python",
   "pygments_lexer": "ipython3",
   "version": "3.13.2"
  }
 },
 "nbformat": 4,
 "nbformat_minor": 2
}
