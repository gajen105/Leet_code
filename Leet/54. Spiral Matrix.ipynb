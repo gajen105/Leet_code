{
 "cells": [
  {
   "cell_type": "markdown",
   "metadata": {},
   "source": [
    "Given an m x n matrix, return all elements of the matrix in spiral order."
   ]
  },
  {
   "cell_type": "code",
   "execution_count": null,
   "metadata": {},
   "outputs": [],
   "source": [
    "from typing import List\n",
    "class Solution:\n",
    "    def spiralOrder(self, matrix: List[List[int]]) -> List[int]:\n",
    "        m = len(matrix)\n",
    "        n = len(matrix[0])\n",
    "        i,j=0,0\n",
    "        max_len = m*n\n",
    "        a=0\n",
    "        li=[]\n",
    "        while i<m and a<n :\n",
    "            j=i\n",
    "            while j<n: #left\n",
    "                li.append(matrix[i][j])\n",
    "                j+=1\n",
    "            k=i+1\n",
    "            while k<m: #down\n",
    "                li.append(matrix[k][n-1])\n",
    "                k+=1\n",
    "            n-=1\n",
    "            j=n-1\n",
    "            # print(k,i)\n",
    "            while j>=i and j <n: #right\n",
    "                li.append(matrix[m-1][j])\n",
    "                j-=1 \n",
    "            m-=1\n",
    "            k=m-1\n",
    "            while i<k and i<n: #up\n",
    "                li.append(matrix[k][a])\n",
    "                k-=1\n",
    "            i+=1\n",
    "            a+=1\n",
    "        return li[:max_len]\n",
    "    def spiralOrder2(self, matrix: List[List[int]]) -> List[int]:\n",
    "        re=list()\n",
    "        while matrix:\n",
    "            re+=(matrix.pop(0)) #left\n",
    "            if matrix and matrix[0]:\n",
    "                for row in matrix:\n",
    "                    re.append(row.pop()) #down\n",
    "            if matrix:\n",
    "                re+=(matrix.pop()[::-1]) #right\n",
    "            if matrix and matrix[0]:\n",
    "                for row in matrix[::-1]:\n",
    "                    re.append(row.pop()) #up\n",
    "        return re\n",
    "sol = Solution()\n",
    "matrix = [[1],[2],[3],[4],[5],[6],[7],[8],[9],[10]]\n",
    "print(sol.spiralOrder2(matrix)) \n",
    "\n",
    "# [1, 2, 3, 4, 8, 12, 11, 10, 9, 5, 6, 7, 6]\n",
    "# [1, 2, 3, 4, 8, 12, 11, 10, 9, 5, 6, 7]\n"
   ]
  },
  {
   "cell_type": "code",
   "execution_count": null,
   "metadata": {},
   "outputs": [],
   "source": []
  }
 ],
 "metadata": {
  "kernelspec": {
   "display_name": ".venv",
   "language": "python",
   "name": "python3"
  },
  "language_info": {
   "codemirror_mode": {
    "name": "ipython",
    "version": 3
   },
   "file_extension": ".py",
   "mimetype": "text/x-python",
   "name": "python",
   "nbconvert_exporter": "python",
   "pygments_lexer": "ipython3",
   "version": "3.13.1"
  }
 },
 "nbformat": 4,
 "nbformat_minor": 2
}
