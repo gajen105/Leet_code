{
 "cells": [
  {
   "cell_type": "markdown",
   "metadata": {},
   "source": [
    "Given the root of a Binary Search Tree (BST), return the minimum absolute difference between the values of any two different nodes in the tree."
   ]
  },
  {
   "cell_type": "code",
   "execution_count": null,
   "metadata": {
    "vscode": {
     "languageId": "plaintext"
    }
   },
   "outputs": [],
   "source": [
    "# Definition for a binary tree node.\n",
    "# class TreeNode(object):\n",
    "#     def __init__(self, val=0, left=None, right=None):\n",
    "#         self.val = val\n",
    "#         self.left = left\n",
    "#         self.right = right\n",
    "class Solution(object):\n",
    "    def getMinimumDifference(self, root):\n",
    "        \"\"\"\n",
    "        :type root: Optional[TreeNode]\n",
    "        :rtype: int\n",
    "        \"\"\"\n",
    "        res = float('inf')\n",
    "        prev = float('-inf')\n",
    "        stack = []\n",
    "        while root or stack:\n",
    "            if root:\n",
    "                stack.append(root)\n",
    "                root = root.left\n",
    "            else:\n",
    "                node = stack.pop()\n",
    "                res  = min(res, node.val - prev)\n",
    "                prev = node.val\n",
    "                root = node.right\n",
    "        return res\n"
   ]
  },
  {
   "cell_type": "code",
   "execution_count": null,
   "metadata": {
    "vscode": {
     "languageId": "plaintext"
    }
   },
   "outputs": [],
   "source": [
    "class Solution(object):\n",
    "    def getMinimumDifference(self, root):\n",
    "        prev = None\n",
    "        res = float('inf')\n",
    "\n",
    "        def inorder(node):\n",
    "            nonlocal prev, res\n",
    "            if not node:\n",
    "                return\n",
    "            inorder(node.left)\n",
    "            if prev is not None:\n",
    "                res = min(res, node.val - prev)\n",
    "            prev = node.val\n",
    "            inorder(node.right)\n",
    "\n",
    "        inorder(root)\n",
    "        return res\n"
   ]
  }
 ],
 "metadata": {
  "language_info": {
   "name": "python"
  }
 },
 "nbformat": 4,
 "nbformat_minor": 2
}
