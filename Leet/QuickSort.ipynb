{
 "cells": [
  {
   "cell_type": "code",
   "execution_count": null,
   "metadata": {},
   "outputs": [],
   "source": [
    "def quickSort(li):\n",
    "    if len(li) <= 1:\n",
    "        return li\n",
    "    left,loc,right = 0,0,len(li)-1\n",
    "    while left!=right:\n",
    "        print(li,len(li),loc, left,right)\n",
    "        while li[loc] <=li[right]:\n",
    "            right-=1\n",
    "        li[loc],li[right] = li[right],li[loc]\n",
    "        loc = right\n",
    "        while li[loc]> li[left]:\n",
    "            left+=1\n",
    "        li[loc],li[left] = li[left],li[loc]\n",
    "        loc=left\n",
    "    print(li[:left],li[right:],li[loc])\n",
    "    li[:left] = quickSort(li[:left])\n",
    "    li[right+1:]= quickSort(li[right+1:])\n",
    "    return li\n",
    "nums =[50,20,37,91,64,18,18,43,59,72,81,-1]\n",
    "print(quickSort(nums))"
   ]
  },
  {
   "cell_type": "code",
   "execution_count": null,
   "metadata": {},
   "outputs": [],
   "source": [
    "li = [-1, 20, 37, 43, 18, 18]\n",
    "li[5]"
   ]
  },
  {
   "cell_type": "code",
   "execution_count": null,
   "metadata": {},
   "outputs": [],
   "source": [
    "def quickSort2(nums):\n",
    "    if len(nums)<=1:\n",
    "        return nums\n",
    "    else:\n",
    "        pivot = nums[0]\n",
    "        lesser = [x for x in nums[1:] if x<=pivot]\n",
    "        greater = [x for x in nums[1:] if x> pivot]\n",
    "        print(lesser, greater, pivot)\n",
    "        return quickSort2(lesser)+[pivot]+quickSort2(greater)\n",
    "nums =[50,20,37,91,18,64,18,43,59,72,81,-1]\n",
    "print(quickSort2(nums))"
   ]
  }
 ],
 "metadata": {
  "kernelspec": {
   "display_name": ".venv",
   "language": "python",
   "name": "python3"
  },
  "language_info": {
   "codemirror_mode": {
    "name": "ipython",
    "version": 3
   },
   "file_extension": ".py",
   "mimetype": "text/x-python",
   "name": "python",
   "nbconvert_exporter": "python",
   "pygments_lexer": "ipython3",
   "version": "3.13.1"
  }
 },
 "nbformat": 4,
 "nbformat_minor": 2
}
