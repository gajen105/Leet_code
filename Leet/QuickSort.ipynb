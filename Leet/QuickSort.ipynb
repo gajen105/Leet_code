{
 "cells": [
  {
   "cell_type": "code",
   "execution_count": 115,
   "metadata": {},
   "outputs": [
    {
     "name": "stdout",
     "output_type": "stream",
     "text": [
      "[50, 20, 37, 91, 64, 18, 18, 43, 59, 72, 81, -1] 12 0 0 11\n",
      "[-1, 20, 37, 50, 64, 18, 18, 43, 59, 72, 81, 91] 12 3 3 11\n",
      "[-1, 20, 37, 43, 50, 18, 18, 64, 59, 72, 81, 91] 12 4 4 7\n",
      "[-1, 20, 37, 43, 18, 18] [50, 64, 59, 72, 81, 91] 50\n",
      "[-1, 20, 37, 43, 18, 18] 6 0 0 5\n"
     ]
    },
    {
     "ename": "IndexError",
     "evalue": "list index out of range",
     "output_type": "error",
     "traceback": [
      "\u001b[1;31m---------------------------------------------------------------------------\u001b[0m",
      "\u001b[1;31mIndexError\u001b[0m                                Traceback (most recent call last)",
      "Cell \u001b[1;32mIn[115], line 20\u001b[0m\n\u001b[0;32m     18\u001b[0m     \u001b[38;5;28;01mreturn\u001b[39;00m li\n\u001b[0;32m     19\u001b[0m nums \u001b[38;5;241m=\u001b[39m[\u001b[38;5;241m50\u001b[39m,\u001b[38;5;241m20\u001b[39m,\u001b[38;5;241m37\u001b[39m,\u001b[38;5;241m91\u001b[39m,\u001b[38;5;241m64\u001b[39m,\u001b[38;5;241m18\u001b[39m,\u001b[38;5;241m18\u001b[39m,\u001b[38;5;241m43\u001b[39m,\u001b[38;5;241m59\u001b[39m,\u001b[38;5;241m72\u001b[39m,\u001b[38;5;241m81\u001b[39m,\u001b[38;5;241m-\u001b[39m\u001b[38;5;241m1\u001b[39m]\n\u001b[1;32m---> 20\u001b[0m \u001b[38;5;28mprint\u001b[39m(\u001b[43mquickSort\u001b[49m\u001b[43m(\u001b[49m\u001b[43mnums\u001b[49m\u001b[43m)\u001b[49m)\n",
      "Cell \u001b[1;32mIn[115], line 16\u001b[0m, in \u001b[0;36mquickSort\u001b[1;34m(li)\u001b[0m\n\u001b[0;32m     14\u001b[0m     loc\u001b[38;5;241m=\u001b[39mleft\n\u001b[0;32m     15\u001b[0m \u001b[38;5;28mprint\u001b[39m(li[:left],li[right:],li[loc])\n\u001b[1;32m---> 16\u001b[0m li[:left] \u001b[38;5;241m=\u001b[39m \u001b[43mquickSort\u001b[49m\u001b[43m(\u001b[49m\u001b[43mli\u001b[49m\u001b[43m[\u001b[49m\u001b[43m:\u001b[49m\u001b[43mleft\u001b[49m\u001b[43m]\u001b[49m\u001b[43m)\u001b[49m\n\u001b[0;32m     17\u001b[0m li[right\u001b[38;5;241m+\u001b[39m\u001b[38;5;241m1\u001b[39m:]\u001b[38;5;241m=\u001b[39m quickSort(li[right\u001b[38;5;241m+\u001b[39m\u001b[38;5;241m1\u001b[39m:])\n\u001b[0;32m     18\u001b[0m \u001b[38;5;28;01mreturn\u001b[39;00m li\n",
      "Cell \u001b[1;32mIn[115], line 7\u001b[0m, in \u001b[0;36mquickSort\u001b[1;34m(li)\u001b[0m\n\u001b[0;32m      5\u001b[0m \u001b[38;5;28;01mwhile\u001b[39;00m left\u001b[38;5;241m!=\u001b[39mright:\n\u001b[0;32m      6\u001b[0m     \u001b[38;5;28mprint\u001b[39m(li,\u001b[38;5;28mlen\u001b[39m(li),loc, left,right)\n\u001b[1;32m----> 7\u001b[0m     \u001b[38;5;28;01mwhile\u001b[39;00m li[loc] \u001b[38;5;241m<\u001b[39m\u001b[38;5;241m=\u001b[39m\u001b[43mli\u001b[49m\u001b[43m[\u001b[49m\u001b[43mright\u001b[49m\u001b[43m]\u001b[49m:\n\u001b[0;32m      8\u001b[0m         right\u001b[38;5;241m-\u001b[39m\u001b[38;5;241m=\u001b[39m\u001b[38;5;241m1\u001b[39m\n\u001b[0;32m      9\u001b[0m     li[loc],li[right] \u001b[38;5;241m=\u001b[39m li[right],li[loc]\n",
      "\u001b[1;31mIndexError\u001b[0m: list index out of range"
     ]
    }
   ],
   "source": [
    "def quickSort(li):\n",
    "    if len(li) <= 1:\n",
    "        return li\n",
    "    left,loc,right = 0,0,len(li)-1\n",
    "    while left!=right:\n",
    "        print(li,len(li),loc, left,right)\n",
    "        while li[loc] <=li[right]:\n",
    "            right-=1\n",
    "        li[loc],li[right] = li[right],li[loc]\n",
    "        loc = right\n",
    "        while li[loc]> li[left]:\n",
    "            left+=1\n",
    "        li[loc],li[left] = li[left],li[loc]\n",
    "        loc=left\n",
    "    print(li[:left],li[right:],li[loc])\n",
    "    li[:left] = quickSort(li[:left])\n",
    "    li[right+1:]= quickSort(li[right+1:])\n",
    "    return li\n",
    "nums =[50,20,37,91,64,18,18,43,59,72,81,-1]\n",
    "print(quickSort(nums))"
   ]
  },
  {
   "cell_type": "code",
   "execution_count": 118,
   "metadata": {},
   "outputs": [
    {
     "data": {
      "text/plain": [
       "18"
      ]
     },
     "execution_count": 118,
     "metadata": {},
     "output_type": "execute_result"
    }
   ],
   "source": [
    "li = [-1, 20, 37, 43, 18, 18]\n",
    "li[5]"
   ]
  },
  {
   "cell_type": "code",
   "execution_count": 102,
   "metadata": {},
   "outputs": [
    {
     "name": "stdout",
     "output_type": "stream",
     "text": [
      "[20, 37, 18, 18, 43, -1] [91, 64, 59, 72, 81] 50\n",
      "[18, 18, -1] [37, 43] 20\n",
      "[18, -1] [] 18\n",
      "[-1] [] 18\n",
      "[] [43] 37\n",
      "[64, 59, 72, 81] [] 91\n",
      "[59] [72, 81] 64\n",
      "[] [81] 72\n",
      "[-1, 18, 18, 20, 37, 43, 50, 59, 64, 72, 81, 91]\n"
     ]
    }
   ],
   "source": [
    "def quickSort2(nums):\n",
    "    if len(nums)<=1:\n",
    "        return nums\n",
    "    else:\n",
    "        pivot = nums[0]\n",
    "        lesser = [x for x in nums[1:] if x<=pivot]\n",
    "        greater = [x for x in nums[1:] if x> pivot]\n",
    "        print(lesser, greater, pivot)\n",
    "        return quickSort2(lesser)+[pivot]+quickSort2(greater)\n",
    "nums =[50,20,37,91,18,64,18,43,59,72,81,-1]\n",
    "print(quickSort2(nums))"
   ]
  }
 ],
 "metadata": {
  "kernelspec": {
   "display_name": ".venv",
   "language": "python",
   "name": "python3"
  },
  "language_info": {
   "codemirror_mode": {
    "name": "ipython",
    "version": 3
   },
   "file_extension": ".py",
   "mimetype": "text/x-python",
   "name": "python",
   "nbconvert_exporter": "python",
   "pygments_lexer": "ipython3",
   "version": "3.13.2"
  }
 },
 "nbformat": 4,
 "nbformat_minor": 2
}
