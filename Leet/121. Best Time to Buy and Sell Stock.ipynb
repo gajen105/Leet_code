{
 "cells": [
  {
   "cell_type": "markdown",
   "metadata": {},
   "source": [
    "You are given an array prices where prices[i] is the price of a given stock on the ith day.\n",
    "\n",
    "You want to maximize your profit by choosing a single day to buy one stock and choosing a different day in the future to sell that stock.\n",
    "\n",
    "Return the maximum profit you can achieve from this transaction. If you cannot achieve any profit, return 0.\n",
    "\n",
    " \n",
    "\n",
    "Example 1:\n",
    "\n",
    "Input: prices = [7,1,5,3,6,4]\n",
    "Output: 5\n",
    "Explanation: Buy on day 2 (price = 1) and sell on day 5 (price = 6), profit = 6-1 = 5.\n",
    "Note that buying on day 2 and selling on day 1 is not allowed because you must buy before you sell.\n",
    "Example 2:\n",
    "\n",
    "Input: prices = [7,6,4,3,1]\n",
    "Output: 0\n",
    "Explanation: In this case, no transactions are done and the max profit = 0.\n",
    " \n",
    "\n",
    "Constraints:\n",
    "\n",
    "1 <= prices.length <= 105\n",
    "0 <= prices[i] <= 104"
   ]
  },
  {
   "cell_type": "code",
   "execution_count": 40,
   "metadata": {},
   "outputs": [
    {
     "name": "stdout",
     "output_type": "stream",
     "text": [
      "6\n"
     ]
    }
   ],
   "source": [
    "from typing import List\n",
    "class Solution:\n",
    "    def maxProfit(self, prices: List[int]) -> int:\n",
    "        profit = 0\n",
    "        buy = float(\"inf\")\n",
    "        for i in range(0,len(prices)):\n",
    "            if buy > prices[i]:\n",
    "                buy = prices[i]\n",
    "            else:\n",
    "                profit = max(prices[i] - buy, profit)\n",
    "            profit = profit\n",
    "        return profit\n",
    "    def maxProfit_2(self, prices: List[int]) -> int:\n",
    "        profit = 0\n",
    "        l,r = 0,1\n",
    "        while r <len(prices):\n",
    "            if prices[r]>prices[l]:\n",
    "                profit = max((prices[r]-prices[l]), profit)\n",
    "            else :\n",
    "                l=r\n",
    "            r+=1\n",
    "        return profit\n",
    "        # for i in range(1,len(prices)):\n",
    "        #     if prices[i]>prices[l]:\n",
    "        #         profit = max((prices[i]-prices[l]), profit)\n",
    "        #     else :\n",
    "        #         l=i\n",
    "        # return profit\n",
    "sol = Solution()\n",
    "prices = [1,4,4,3,7]\n",
    "# print(prices[1])\n",
    "print(sol.maxProfit_2(prices))"
   ]
  }
 ],
 "metadata": {
  "kernelspec": {
   "display_name": ".venv",
   "language": "python",
   "name": "python3"
  },
  "language_info": {
   "codemirror_mode": {
    "name": "ipython",
    "version": 3
   },
   "file_extension": ".py",
   "mimetype": "text/x-python",
   "name": "python",
   "nbconvert_exporter": "python",
   "pygments_lexer": "ipython3",
   "version": "3.13.2"
  }
 },
 "nbformat": 4,
 "nbformat_minor": 2
}
