{
 "cells": [
  {
   "cell_type": "markdown",
   "metadata": {},
   "source": [
    "Given an array nums of distinct integers, return all the possible \n",
    "permutations\n",
    ". You can return the answer in any order.\n",
    "\n",
    " \n",
    "\n",
    "Example 1:\n",
    "\n",
    "Input: nums = [1,2,3]\n",
    "Output: [[1,2,3],[1,3,2],[2,1,3],[2,3,1],[3,1,2],[3,2,1]]\n",
    "Example 2:"
   ]
  },
  {
   "cell_type": "code",
   "execution_count": 29,
   "metadata": {},
   "outputs": [
    {
     "name": "stdout",
     "output_type": "stream",
     "text": [
      "0 [] [2, 3] [] [1] []\n",
      "0 [] [3] [1] [2] []\n",
      "0 [] [] [1, 2] [3] []\n",
      "**********\n",
      "1 [2] [] [1] [3] [[1, 2, 3]]\n",
      "0 [] [] [1, 3] [2] [[1, 2, 3]]\n",
      "**********\n",
      "**********\n",
      "1 [1] [3] [] [2] [[1, 2, 3], [1, 3, 2]]\n",
      "0 [] [3] [2] [1] [[1, 2, 3], [1, 3, 2]]\n",
      "0 [] [] [2, 1] [3] [[1, 2, 3], [1, 3, 2]]\n",
      "**********\n",
      "1 [1] [] [2] [3] [[1, 2, 3], [1, 3, 2], [2, 1, 3]]\n",
      "0 [] [] [2, 3] [1] [[1, 2, 3], [1, 3, 2], [2, 1, 3]]\n",
      "**********\n",
      "**********\n",
      "2 [1, 2] [] [] [3] [[1, 2, 3], [1, 3, 2], [2, 1, 3], [2, 3, 1]]\n",
      "0 [] [2] [3] [1] [[1, 2, 3], [1, 3, 2], [2, 1, 3], [2, 3, 1]]\n",
      "0 [] [] [3, 1] [2] [[1, 2, 3], [1, 3, 2], [2, 1, 3], [2, 3, 1]]\n",
      "**********\n",
      "1 [1] [] [3] [2] [[1, 2, 3], [1, 3, 2], [2, 1, 3], [2, 3, 1], [3, 1, 2]]\n",
      "0 [] [] [3, 2] [1] [[1, 2, 3], [1, 3, 2], [2, 1, 3], [2, 3, 1], [3, 1, 2]]\n",
      "**********\n",
      "**********\n",
      "**********\n"
     ]
    },
    {
     "data": {
      "text/plain": [
       "[[1, 2, 3], [1, 3, 2], [2, 1, 3], [2, 3, 1], [3, 1, 2], [3, 2, 1]]"
      ]
     },
     "execution_count": 29,
     "metadata": {},
     "output_type": "execute_result"
    }
   ],
   "source": [
    "class Solution(object):\n",
    "    def permute(self, nums):\n",
    "        \"\"\"\n",
    "        :type nums: List[int]\n",
    "        :rtype: List[List[int]]\n",
    "        \"\"\"\n",
    "        def dfs(nums, path, res): # path is the current path, res is the result\n",
    "            if not nums: # if nums is empty, then we have found a solution\n",
    "                res.append(path) # append the current path to the result\n",
    "                return # return to the previous level\n",
    "            for i in range(len(nums)): # iterate through the nums\n",
    "                print(i, nums[:i], nums[i + 1:], path,  [nums[i]], res)\n",
    "                dfs(nums[:i] + nums[i + 1:], path + [nums[i]], res) # recursively call dfs with the current path and the current number\n",
    "            print(\"*\"*10)\n",
    "        res = []\n",
    "        dfs(nums, [], res)\n",
    "        return res\n",
    "Solution().permute([1,2,3])"
   ]
  },
  {
   "cell_type": "code",
   "execution_count": 27,
   "metadata": {},
   "outputs": [
    {
     "data": {
      "text/plain": [
       "[[1, 2, 3], [1, 3, 2], [2, 1, 3], [3, 2, 1]]"
      ]
     },
     "execution_count": 27,
     "metadata": {},
     "output_type": "execute_result"
    }
   ],
   "source": [
    "class Solution(object):\n",
    "    def permute(self, nums):\n",
    "        \"\"\"\n",
    "        :type nums: List[int]\n",
    "        :rtype: List[List[int]]\n",
    "        \"\"\"\n",
    "        def backtrack(start, end):\n",
    "            if start == end:\n",
    "                result.append(nums[:])\n",
    "                return\n",
    "            for i in range(start, end):\n",
    "                nums[start], nums[i] = nums[i], nums[start]\n",
    "                backtrack(i+1, end)\n",
    "                nums[start], nums[i] = nums[i], nums[start]\n",
    "            pass\n",
    "        result = []\n",
    "        backtrack(0, len(nums))\n",
    "        return result\n",
    "Solution().permute([1,2,3])"
   ]
  }
 ],
 "metadata": {
  "kernelspec": {
   "display_name": ".venv",
   "language": "python",
   "name": "python3"
  },
  "language_info": {
   "codemirror_mode": {
    "name": "ipython",
    "version": 3
   },
   "file_extension": ".py",
   "mimetype": "text/x-python",
   "name": "python",
   "nbconvert_exporter": "python",
   "pygments_lexer": "ipython3",
   "version": "3.13.2"
  }
 },
 "nbformat": 4,
 "nbformat_minor": 2
}
