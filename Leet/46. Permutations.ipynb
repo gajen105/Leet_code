{
 "cells": [
  {
   "cell_type": "markdown",
   "metadata": {},
   "source": [
    "Given an array nums of distinct integers, return all the possible \n",
    "permutations\n",
    ". You can return the answer in any order.\n",
    "\n",
    " \n",
    "\n",
    "Example 1:\n",
    "\n",
    "Input: nums = [1,2,3]\n",
    "Output: [[1,2,3],[1,3,2],[2,1,3],[2,3,1],[3,1,2],[3,2,1]]\n",
    "Example 2:"
   ]
  },
  {
   "cell_type": "code",
   "execution_count": 26,
   "metadata": {},
   "outputs": [
    {
     "data": {
      "text/plain": [
       "[[1, 2, 3], [1, 3, 2], [2, 1, 3], [2, 3, 1], [3, 1, 2], [3, 2, 1]]"
      ]
     },
     "execution_count": 26,
     "metadata": {},
     "output_type": "execute_result"
    }
   ],
   "source": [
    "class Solution(object):\n",
    "    def permute(self, nums):\n",
    "        \"\"\"\n",
    "        :type nums: List[int]\n",
    "        :rtype: List[List[int]]\n",
    "        \"\"\"\n",
    "        def dfs(nums, path, res): # path is the current path, res is the result\n",
    "            if not nums: # if nums is empty, then we have found a solution\n",
    "                res.append(path) # append the current path to the result\n",
    "                return # return to the previous level\n",
    "            for i in range(len(nums)): # iterate through the nums\n",
    "                dfs(nums[:i] + nums[i + 1:], path + [nums[i]], res) # recursively call dfs with the current path and the current number\n",
    "        res = []\n",
    "        dfs(nums, [], res)\n",
    "        return res\n",
    "Solution().permute([1,2,3])"
   ]
  },
  {
   "cell_type": "code",
   "execution_count": 48,
   "metadata": {},
   "outputs": [
    {
     "data": {
      "text/plain": [
       "[[1, 2], [2, 1]]"
      ]
     },
     "execution_count": 48,
     "metadata": {},
     "output_type": "execute_result"
    }
   ],
   "source": [
    "from typing import List\n",
    "class Solution(object):\n",
    "    def permute(self, nums: List[int]) -> List[List[int]]:\n",
    "        result = []\n",
    "        self.dfs(nums, [], result)\n",
    "        return result\n",
    "    def dfs(self,nums:List[int], current_nums:List[int], result:List[List[int]]):\n",
    "        if len(nums) ==0:# is None\n",
    "            result.append(current_nums)\n",
    "            return\n",
    "        for i in range(len(nums)):\n",
    "            self.dfs(nums[:i]+nums[i+1:], current_nums+[nums[i]], result)\n",
    "Solution().permute([1,2])"
   ]
  },
  {
   "cell_type": "code",
   "execution_count": 27,
   "metadata": {},
   "outputs": [
    {
     "data": {
      "text/plain": [
       "[[1, 2, 3], [1, 3, 2], [2, 1, 3], [3, 2, 1]]"
      ]
     },
     "execution_count": 27,
     "metadata": {},
     "output_type": "execute_result"
    }
   ],
   "source": [
    "from typing import List\n",
    "class Solution(object):\n",
    "    def permute(self, nums: List[int]) -> List[List[int]]:\n",
    "        def backtrack(start, end):\n",
    "            if start == len(nums):\n",
    "                result.append(nums[:])\n",
    "                return\n",
    "            for i in range(start, len(nums)):\n",
    "                nums[start], nums[i] = nums[i], nums[start]\n",
    "                backtrack(i+1, len(nums))\n",
    "                nums[start], nums[i] = nums[i], nums[start]\n",
    "        result = []\n",
    "        backtrack(0, len(nums))\n",
    "        return result\n",
    "Solution().permute([1,2,3])"
   ]
  },
  {
   "cell_type": "code",
   "execution_count": 29,
   "metadata": {},
   "outputs": [
    {
     "data": {
      "text/plain": [
       "[[1, 2, 3], [1, 3, 2], [2, 1, 3], [3, 2, 1]]"
      ]
     },
     "execution_count": 29,
     "metadata": {},
     "output_type": "execute_result"
    }
   ],
   "source": [
    "from typing import List\n",
    "class Solution(object):\n",
    "    def permute(self, nums: List[int]) -> List[List[int]]:\n",
    "        result = []\n",
    "        def backtrack(current: int, end: int):\n",
    "            if current == end:\n",
    "                result.append(nums[:])\n",
    "            for i in range(current, end):\n",
    "                nums[current], nums[i] = nums[i],nums[current]\n",
    "                backtrack(i+1,end)\n",
    "                nums[current], nums[i] = nums[i],nums[current]\n",
    "        backtrack(0,len(nums))\n",
    "        return result\n",
    "Solution().permute([1,2,3])"
   ]
  },
  {
   "cell_type": "code",
   "execution_count": 45,
   "metadata": {},
   "outputs": [
    {
     "data": {
      "text/plain": [
       "[]"
      ]
     },
     "execution_count": 45,
     "metadata": {},
     "output_type": "execute_result"
    }
   ],
   "source": []
  }
 ],
 "metadata": {
  "kernelspec": {
   "display_name": ".venv",
   "language": "python",
   "name": "python3"
  },
  "language_info": {
   "codemirror_mode": {
    "name": "ipython",
    "version": 3
   },
   "file_extension": ".py",
   "mimetype": "text/x-python",
   "name": "python",
   "nbconvert_exporter": "python",
   "pygments_lexer": "ipython3",
   "version": "3.13.2"
  }
 },
 "nbformat": 4,
 "nbformat_minor": 2
}
