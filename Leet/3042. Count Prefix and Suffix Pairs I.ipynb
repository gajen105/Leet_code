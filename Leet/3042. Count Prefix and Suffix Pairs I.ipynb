{
 "cells": [
  {
   "cell_type": "markdown",
   "metadata": {},
   "source": [
    "You are given a 0-indexed string array words.\n",
    "\n",
    "Let's define a boolean function isPrefixAndSuffix that takes two strings, str1 and str2:\n",
    "\n",
    "isPrefixAndSuffix(str1, str2) returns true if str1 is both a \n",
    "prefix\n",
    " and a \n",
    "suffix\n",
    " of str2, and false otherwise.\n",
    "For example, isPrefixAndSuffix(\"aba\", \"ababa\") is true because \"aba\" is a prefix of \"ababa\" and also a suffix, but isPrefixAndSuffix(\"abc\", \"abcd\") is false.\n",
    "\n",
    "Return an integer denoting the number of index pairs (i, j) such that i < j, and isPrefixAndSuffix(words[i], words[j]) is true.\n",
    "\n",
    " \n",
    "\n",
    "Example 1:\n",
    "\n",
    "Input: words = [\"a\",\"aba\",\"ababa\",\"aa\"]\n",
    "Output: 4\n",
    "Explanation: In this example, the counted index pairs are:\n",
    "i = 0 and j = 1 because isPrefixAndSuffix(\"a\", \"aba\") is true.\n",
    "i = 0 and j = 2 because isPrefixAndSuffix(\"a\", \"ababa\") is true.\n",
    "i = 0 and j = 3 because isPrefixAndSuffix(\"a\", \"aa\") is true.\n",
    "i = 1 and j = 2 because isPrefixAndSuffix(\"aba\", \"ababa\") is true.\n",
    "Therefore, the answer is 4.\n",
    "Example 2:\n",
    "\n",
    "Input: words = [\"pa\",\"papa\",\"ma\",\"mama\"]\n",
    "Output: 2\n",
    "Explanation: In this example, the counted index pairs are:\n",
    "i = 0 and j = 1 because isPrefixAndSuffix(\"pa\", \"papa\") is true.\n",
    "i = 2 and j = 3 because isPrefixAndSuffix(\"ma\", \"mama\") is true.\n",
    "Therefore, the answer is 2.  \n",
    "Example 3:\n",
    "\n",
    "Input: words = [\"abab\",\"ab\"]\n",
    "Output: 0\n",
    "Explanation: In this example, the only valid index pair is i = 0 and j = 1, and isPrefixAndSuffix(\"abab\", \"ab\") is false.\n",
    "Therefore, the answer is 0.\n",
    " \n",
    "\n",
    "Constraints:\n",
    "\n",
    "1 <= words.length <= 50\n",
    "1 <= words[i].length <= 10\n",
    "words[i] consists only of lowercase English letters"
   ]
  },
  {
   "cell_type": "code",
   "execution_count": null,
   "metadata": {},
   "outputs": [],
   "source": [
    "from typing import List\n",
    "class Solution:\n",
    "    def countPrefixSuffixPairs(self, words: List[str]) -> int:\n",
    "        n =len(words)\n",
    "        count = 0\n",
    "        for i in range(n-1):\n",
    "            prefix = words[i]\n",
    "            prefix_l = len(prefix)\n",
    "            for j in range(i+1,n):\n",
    "                if prefix==words[j][:prefix_l] and prefix==words[j][-prefix_l:]:\n",
    "                    count+=1\n",
    "        return count"
   ]
  },
  {
   "cell_type": "code",
   "execution_count": null,
   "metadata": {},
   "outputs": [],
   "source": [
    "def countPrefixSuffixPairs( words: List[str]) -> int:\n",
    "        n =len(words)\n",
    "        count = 0\n",
    "        for i in range(n-1):\n",
    "            prefix = words[i]\n",
    "            prefix_l = len(prefix)\n",
    "            for j in range(i+1,n):\n",
    "                print(prefix,prefix_l,words[j][:prefix_l],words[j][-prefix_l:])\n",
    "                if prefix==words[j][:prefix_l] and prefix==words[j][-prefix_l:]:\n",
    "                    count+=1\n",
    "        return count\n",
    "words = [\"abab\",\"ab\"]\n",
    "print(countPrefixSuffixPairs(words))"
   ]
  }
 ],
 "metadata": {
  "kernelspec": {
   "display_name": ".venv",
   "language": "python",
   "name": "python3"
  },
  "language_info": {
   "codemirror_mode": {
    "name": "ipython",
    "version": 3
   },
   "file_extension": ".py",
   "mimetype": "text/x-python",
   "name": "python",
   "nbconvert_exporter": "python",
   "pygments_lexer": "ipython3",
   "version": "3.13.1"
  }
 },
 "nbformat": 4,
 "nbformat_minor": 2
}
