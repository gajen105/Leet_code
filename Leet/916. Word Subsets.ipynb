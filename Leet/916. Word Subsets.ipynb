{
 "cells": [
  {
   "cell_type": "markdown",
   "metadata": {
    "application/vnd.databricks.v1+cell": {
     "cellMetadata": {
      "byteLimit": 2048000,
      "rowLimit": 10000
     },
     "inputWidgets": {},
     "nuid": "993d02bb-f10e-4dc5-946c-4b5273173c58",
     "showTitle": false,
     "tableResultSettingsMap": {},
     "title": ""
    }
   },
   "source": [
    "You are given two string arrays words1 and words2.\n",
    "\n",
    "A string b is a subset of string a if every letter in b occurs in a including multiplicity.\n",
    "\n",
    "For example, \"wrr\" is a subset of \"warrior\" but is not a subset of \"world\".\n",
    "A string a from words1 is universal if for every string b in words2, b is a subset of a.\n",
    "\n",
    "Return an array of all the universal strings in words1. You may return the answer in any order.\n",
    "\n",
    " \n",
    "\n",
    "Example 1:\n",
    "\n",
    "Input: words1 = [\"amazon\",\"apple\",\"facebook\",\"google\",\"leetcode\"], words2 = [\"e\",\"o\"]\n",
    "\n",
    "Output: [\"facebook\",\"google\",\"leetcode\"]\n",
    "\n",
    "Example 2:\n",
    "\n",
    "Input: words1 = [\"amazon\",\"apple\",\"facebook\",\"google\",\"leetcode\"], words2 = [\"lc\",\"eo\"]\n",
    "\n",
    "Output: [\"leetcode\"]\n",
    "\n",
    "Example 3:\n",
    "\n",
    "Input: words1 = [\"acaac\",\"cccbb\",\"aacbb\",\"caacc\",\"bcbbb\"], words2 = [\"c\",\"cc\",\"b\"]\n",
    "\n",
    "Output: [\"cccbb\"]\n",
    "\n",
    " \n",
    "\n",
    "Constraints:\n",
    "\n",
    "1 <= words1.length, words2.length <= 104\n",
    "1 <= words1[i].length, words2[i].length <= 10\n",
    "words1[i] and words2[i] consist only of lowercase English letters.\n",
    "All the strings of words1 are unique."
   ]
  },
  {
   "cell_type": "code",
   "execution_count": 0,
   "metadata": {
    "application/vnd.databricks.v1+cell": {
     "cellMetadata": {
      "byteLimit": 2048000,
      "rowLimit": 10000
     },
     "inputWidgets": {},
     "nuid": "eec4374e-61d4-45ab-892d-7dffcc44f93f",
     "showTitle": false,
     "tableResultSettingsMap": {},
     "title": ""
    }
   },
   "outputs": [],
   "source": [
    "from typing import List\n",
    "class Solution:\n",
    "    def wordSubsets(self, words1: List[str], words2: List[str]) -> List[str]:\n",
    "        from collections import Counter\n",
    "        char_dict=Counter()\n",
    "        for word in words2:\n",
    "            word_count = Counter(word)\n",
    "            for char, freq in word_count.items():\n",
    "                char_dict[char] = max(char_dict[char], freq)\n",
    "        li = []\n",
    "        for word in words1:\n",
    "            word_dict = Counter(word)\n",
    "            if all(char_dict[key]<=word_dict[key] for key in char_dict.keys()):\n",
    "                    li.append(word)\n",
    "        return li\n",
    "\n",
    "sol = Solution()\n",
    "words1 = [\"amazon\",\"apple\",\"facebook\",\"google\",\"leetcode\"]\n",
    "words2 = [\"lo\",\"eo\"]\n",
    "print(sol.wordSubsets(words1, words2))"
   ]
  }
 ],
 "metadata": {
  "application/vnd.databricks.v1+notebook": {
   "computePreferences": null,
   "dashboards": [],
   "environmentMetadata": null,
   "language": "python",
   "notebookMetadata": {
    "pythonIndentUnit": 4
   },
   "notebookName": "916. Word Subsets",
   "widgets": {}
  },
  "kernelspec": {
   "display_name": ".venv",
   "language": "python",
   "name": "python3"
  },
  "language_info": {
   "name": "python"
  }
 },
 "nbformat": 4,
 "nbformat_minor": 0
}
