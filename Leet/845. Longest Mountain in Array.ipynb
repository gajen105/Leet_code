{
 "cells": [
  {
   "cell_type": "markdown",
   "metadata": {},
   "source": [
    "You may recall that an array arr is a mountain array if and only if:\n",
    "\n",
    "arr.length >= 3\n",
    "There exists some index i (0-indexed) with 0 < i < arr.length - 1 such that:\n",
    "arr[0] < arr[1] < ... < arr[i - 1] < arr[i]\n",
    "arr[i] > arr[i + 1] > ... > arr[arr.length - 1]\n",
    "Given an integer array arr, return the length of the longest subarray, which is a mountain. Return 0 if there is no mountain subarray."
   ]
  }
 ],
 "metadata": {
  "language_info": {
   "name": "python"
  }
 },
 "nbformat": 4,
 "nbformat_minor": 2
}
