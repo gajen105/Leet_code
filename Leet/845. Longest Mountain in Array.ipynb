{
 "cells": [
  {
   "cell_type": "markdown",
   "metadata": {},
   "source": [
    "You may recall that an array arr is a mountain array if and only if:\n",
    "\n",
    "arr.length >= 3\n",
    "There exists some index i (0-indexed) with 0 < i < arr.length - 1 such that:\n",
    "arr[0] < arr[1] < ... < arr[i - 1] < arr[i]\n",
    "arr[i] > arr[i + 1] > ... > arr[arr.length - 1]\n",
    "Given an integer array arr, return the length of the longest subarray, which is a mountain. Return 0 if there is no mountain subarray."
   ]
  },
  {
   "cell_type": "code",
   "execution_count": 335,
   "metadata": {},
   "outputs": [
    {
     "data": {
      "text/plain": [
       "5"
      ]
     },
     "execution_count": 335,
     "metadata": {},
     "output_type": "execute_result"
    }
   ],
   "source": [
    "from typing import List\n",
    "class Solution:\n",
    "    def longestMountain(self, arr: List[int]) -> int: \n",
    "        n = len(arr)\n",
    "        if n==1 or n==2: return 0\n",
    "        result = 0\n",
    "        for i in range(1,n-1):\n",
    "            if arr[i-1] <arr[i] >arr[i+1]:\n",
    "                l=r=i #peak\n",
    "                while l>=0 and arr[l]>arr[l-1]: #start\n",
    "                    l-=1\n",
    "                while r<n-2 and arr[r]>arr[r+1]: #end\n",
    "                    r+=1\n",
    "                # print(l,r,arr[l],arr[r])\n",
    "                result = max(result,r-l+1)\n",
    "        return result\n",
    "arr = [2,1,4,7,3,2,5]\n",
    "sol = Solution()\n",
    "sol.longestMountain(arr)"
   ]
  },
  {
   "cell_type": "code",
   "execution_count": 307,
   "metadata": {},
   "outputs": [
    {
     "data": {
      "text/plain": [
       "5"
      ]
     },
     "execution_count": 307,
     "metadata": {},
     "output_type": "execute_result"
    }
   ],
   "source": [
    "from typing import List\n",
    "class Solution:\n",
    "    def longestMountain(self, arr: List[int]) -> int: \n",
    "        n = len(arr)\n",
    "        if n<3: \n",
    "            return 0\n",
    "        count = 0\n",
    "        l = 0 \n",
    "        while l<n-2:\n",
    "            while l < n-1 and arr[l]>=arr[l+1]: #get lowest \n",
    "                l+=1\n",
    "            r=l\n",
    "            while r<n-1 and arr[r]<arr[r+1]: # to get peak\n",
    "                r+=1\n",
    "            peak = r\n",
    "            while r<n-1 and arr[r]>arr[r+1]:\n",
    "                r+=1\n",
    "            if peak>l and r>peak:\n",
    "                count = max(count,r-l+1)\n",
    "            l=r\n",
    "        return (count)\n",
    "        \n",
    "arr = [2,1,4,7,3,2,5]\n",
    "sol = Solution()\n",
    "sol.longestMountain(arr)"
   ]
  },
  {
   "cell_type": "code",
   "execution_count": 296,
   "metadata": {},
   "outputs": [
    {
     "data": {
      "text/plain": [
       "0"
      ]
     },
     "execution_count": 296,
     "metadata": {},
     "output_type": "execute_result"
    }
   ],
   "source": [
    "from typing import List\n",
    "\n",
    "class Solution:\n",
    "    def longestMountain_1(self, arr: List[int]) -> int: \n",
    "        n = len(arr)\n",
    "        if n < 3:\n",
    "            return 0  # A mountain requires at least 3 elements\n",
    "\n",
    "\n",
    "arr = [0,1,2,3,4,5,4,3,2,1,0]\n",
    "sol = Solution()\n",
    "sol.longestMountain_1(arr)"
   ]
  }
 ],
 "metadata": {
  "kernelspec": {
   "display_name": ".venv",
   "language": "python",
   "name": "python3"
  },
  "language_info": {
   "codemirror_mode": {
    "name": "ipython",
    "version": 3
   },
   "file_extension": ".py",
   "mimetype": "text/x-python",
   "name": "python",
   "nbconvert_exporter": "python",
   "pygments_lexer": "ipython3",
   "version": "3.13.2"
  }
 },
 "nbformat": 4,
 "nbformat_minor": 2
}
