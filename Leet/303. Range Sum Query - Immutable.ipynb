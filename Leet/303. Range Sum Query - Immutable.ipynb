{
 "cells": [
  {
   "cell_type": "markdown",
   "metadata": {},
   "source": [
    "Given an integer array nums, handle multiple queries of the following type:\n",
    "\n",
    "Calculate the sum of the elements of nums between indices left and right inclusive where left <= right.\n",
    "\n",
    "Implement the NumArray class:\n",
    "\n",
    "NumArray(int[] nums) Initializes the object with the integer array nums.\n",
    "int sumRange(int left, int right) Returns the sum of the elements of nums between indices left and right inclusive (i.e. nums[left] + nums[left + 1] + ... + nums[right]).\n",
    " "
   ]
  },
  {
   "cell_type": "code",
   "execution_count": null,
   "metadata": {},
   "outputs": [],
   "source": [
    "class NumArray(object):\n",
    "\n",
    "    def __init__(self, nums):\n",
    "        \"\"\"\n",
    "        :type nums: List[int]\n",
    "        \"\"\"\n",
    "        self.nums = nums\n",
    "        \n",
    "\n",
    "    def sumRange(self, left, right):\n",
    "        \"\"\"\n",
    "        :type left: int\n",
    "        :type right: int\n",
    "        :rtype: int\n",
    "        \"\"\"\n",
    "        return sum(self.nums[left:right+1])\n",
    "\n",
    "\n",
    "# Your NumArray object will be instantiated and called as such:\n",
    "# obj = NumArray(nums)\n",
    "# param_1 = obj.sumRange(left,right)"
   ]
  },
  {
   "cell_type": "code",
   "execution_count": null,
   "metadata": {},
   "outputs": [],
   "source": [
    "class NumArray(object):\n",
    "\n",
    "    def __init__(self, nums):\n",
    "        \"\"\"\n",
    "        :type nums: List[int]\n",
    "        \"\"\"\n",
    "        self.prefixArray = []\n",
    "        s = 0\n",
    "        for n in nums:\n",
    "            s+=n\n",
    "            self.prefixArray.append(s)\n",
    "        \n",
    "\n",
    "    def sumRange(self, left, right):\n",
    "        \"\"\"\n",
    "        :type left: int\n",
    "        :type right: int\n",
    "        :rtype: int\n",
    "        \"\"\"\n",
    "        if left == 0:\n",
    "            return self.prefixArray[right]\n",
    "        return self.prefixArray[right] - self.prefixArray[left-1]\n",
    "\n",
    "\n",
    "# Your NumArray object will be instantiated and called as such:\n",
    "nums = [-2,0,3,-5,2,-1]\n",
    "obj = NumArray(nums)\n",
    "obj.prefixArray\n",
    "# param_1 = obj.sumRange(left,right)"
   ]
  }
 ],
 "metadata": {
  "kernelspec": {
   "display_name": ".venv",
   "language": "python",
   "name": "python3"
  },
  "language_info": {
   "codemirror_mode": {
    "name": "ipython",
    "version": 3
   },
   "file_extension": ".py",
   "mimetype": "text/x-python",
   "name": "python",
   "nbconvert_exporter": "python",
   "pygments_lexer": "ipython3",
   "version": "3.13.1"
  }
 },
 "nbformat": 4,
 "nbformat_minor": 2
}
