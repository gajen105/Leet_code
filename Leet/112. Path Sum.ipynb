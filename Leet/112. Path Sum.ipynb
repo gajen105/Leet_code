{
 "cells": [
  {
   "cell_type": "markdown",
   "metadata": {},
   "source": [
    "Given the root of a binary tree and an integer targetSum, return true if the tree has a root-to-leaf path such that adding up all the values along the path equals targetSum.\n",
    "\n",
    "A leaf is a node with no children."
   ]
  },
  {
   "cell_type": "code",
   "execution_count": null,
   "metadata": {},
   "outputs": [],
   "source": [
    "# Definition for a binary tree node.\n",
    "# class TreeNode(object):\n",
    "#     def __init__(self, val=0, left=None, right=None):\n",
    "#         self.val = val\n",
    "#         self.left = left\n",
    "#         self.right = right\n",
    "class Solution(object):\n",
    "    def hasPathSum(self, root, targetSum):\n",
    "        \"\"\"\n",
    "        :type root: Optional[TreeNode]\n",
    "        :type targetSum: int\n",
    "        :rtype: bool\n",
    "        \"\"\"\n",
    "        if root is None:\n",
    "            return False\n",
    "        if targetSum == root.val and root.left is None and root.right is None:\n",
    "            return True\n",
    "        return self.hasPathSum(root.left,targetSum-root.val) or self.hasPathSum(root.right,targetSum-root.val)\n",
    "                "
   ]
  },
  {
   "cell_type": "code",
   "execution_count": null,
   "metadata": {},
   "outputs": [],
   "source": [
    "# Definition for a binary tree node.\n",
    "# class TreeNode(object):\n",
    "#     def __init__(self, val=0, left=None, right=None):\n",
    "#         self.val = val\n",
    "#         self.left = left\n",
    "#         self.right = right\n",
    "class Solution(object):\n",
    "    def hasPathSum(self, root, targetSum):\n",
    "        \"\"\"\n",
    "        :type root: Optional[TreeNode]\n",
    "        :type targetSum: int\n",
    "        :rtype: bool\n",
    "        \"\"\"\n",
    "        if root is None:\n",
    "            return False\n",
    "        stack = [(root,root.val)]\n",
    "        while stack:\n",
    "            node, current_sum = stack.pop()\n",
    "            print(current_sum)\n",
    "            if node.left is None and node.right is None and current_sum==targetSum:\n",
    "                return True\n",
    "            if node.left:\n",
    "                stack.append((node.left, current_sum+node.left.val))\n",
    "            if node.right:\n",
    "                stack.append((node.right, current_sum+node.right.val))\n",
    "        return False"
   ]
  }
 ],
 "metadata": {
  "kernelspec": {
   "display_name": ".venv",
   "language": "python",
   "name": "python3"
  },
  "language_info": {
   "name": "python",
   "version": "3.13.1"
  }
 },
 "nbformat": 4,
 "nbformat_minor": 2
}
