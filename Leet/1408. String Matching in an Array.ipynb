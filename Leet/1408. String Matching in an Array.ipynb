{
 "cells": [
  {
   "cell_type": "markdown",
   "metadata": {},
   "source": [
    "Given an array of string words, return all strings in words that is a substring of another word. You can return the answer in any order.\n",
    "\n",
    "A substring is a contiguous sequence of characters within a string\n",
    "\n",
    " \n",
    "\n",
    "Example 1:\n",
    "\n",
    "Input: words = [\"mass\",\"as\",\"hero\",\"superhero\"]\n",
    "Output: [\"as\",\"hero\"]\n",
    "Explanation: \"as\" is substring of \"mass\" and \"hero\" is substring of \"superhero\".\n",
    "[\"hero\",\"as\"] is also a valid answer.\n",
    "Example 2:\n",
    "\n",
    "Input: words = [\"leetcode\",\"et\",\"code\"]\n",
    "Output: [\"et\",\"code\"]\n",
    "Explanation: \"et\", \"code\" are substring of \"leetcode\".\n",
    "Example 3:\n",
    "\n",
    "Input: words = [\"blue\",\"green\",\"bu\"]\n",
    "Output: []\n",
    "Explanation: No string of words is substring of another string.\n",
    " \n",
    "\n",
    "Constraints:\n",
    "\n",
    "1 <= words.length <= 100\n",
    "1 <= words[i].length <= 30\n",
    "words[i] contains only lowercase English letters.\n",
    "All the strings of words are unique."
   ]
  },
  {
   "cell_type": "code",
   "execution_count": null,
   "metadata": {},
   "outputs": [],
   "source": [
    "from typing import List\n",
    "class Solution:\n",
    "    def stringMatching(self, words: List[str]) -> List[str]:\n",
    "        li = []\n",
    "        # words = sorted(words, key=len)\n",
    "        for i in range(len(words)):\n",
    "            word = words[i]\n",
    "            for j in range(len(words)):\n",
    "                if i == j:\n",
    "                    pass\n",
    "                elif word in words[j]:\n",
    "                    li.append(words[i])\n",
    "                    break\n",
    "        return(li)"
   ]
  },
  {
   "cell_type": "code",
   "execution_count": null,
   "metadata": {},
   "outputs": [],
   "source": [
    "words = [\"mass\",\"as\",\"hero\",\"superhero\"]\n",
    "sol = Solution()\n",
    "print(sol.stringMatching(words))"
   ]
  }
 ],
 "metadata": {
  "kernelspec": {
   "display_name": ".venv",
   "language": "python",
   "name": "python3"
  },
  "language_info": {
   "codemirror_mode": {
    "name": "ipython",
    "version": 3
   },
   "file_extension": ".py",
   "mimetype": "text/x-python",
   "name": "python",
   "nbconvert_exporter": "python",
   "pygments_lexer": "ipython3",
   "version": "3.13.1"
  }
 },
 "nbformat": 4,
 "nbformat_minor": 2
}
