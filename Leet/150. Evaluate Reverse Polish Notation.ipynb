{
 "cells": [
  {
   "cell_type": "code",
   "execution_count": null,
   "metadata": {},
   "outputs": [],
   "source": [
    "# You are given an array of strings tokens that represents an arithmetic expression in a Reverse Polish Notation.\n",
    "\n",
    "# Evaluate the expression. Return an integer that represents the value of the expression.\n",
    "\n",
    "# Note that:\n",
    "\n",
    "# The valid operators are '+', '-', '*', and '/'.\n",
    "# Each operand may be an integer or another expression.\n",
    "# The division between two integers always truncates toward zero.\n",
    "# There will not be any division by zero.\n",
    "# The input represents a valid arithmetic expression in a reverse polish notation.\n",
    "# The answer and all the intermediate calculations can be represented in a 32-bit integer.\n",
    " \n",
    "\n",
    "# Example 1:\n",
    "\n",
    "# Input: tokens = [\"2\",\"1\",\"+\",\"3\",\"*\"]\n",
    "# Output: 9\n",
    "# Explanation: ((2 + 1) * 3) = 9\n",
    "\n",
    "\n",
    "class Solution(object):\n",
    "    def evalRPN(self, tokens):\n",
    "        \"\"\"\n",
    "        :type tokens: List[str]\n",
    "        :rtype: int\n",
    "        \"\"\"\n",
    "        operator = ['+', '-', '*', '/']\n",
    "        stack = []\n",
    "        for token in tokens:\n",
    "            if token in operator:\n",
    "                b=stack.pop()\n",
    "                a=stack.pop()\n",
    "                if token == '+':\n",
    "                    stack.append(a+b)\n",
    "                elif token == '-':\n",
    "                    stack.append(a-b)\n",
    "                elif token == '*':\n",
    "                    stack.append(a*b)\n",
    "                elif token == '/':\n",
    "                    stack.append(int(a/b))\n",
    "            else:\n",
    "                stack.append(int(token))\n",
    "        return stack[0]\n",
    "\n",
    "sol = Solution()\n",
    "l = [\"10\",\"6\",\"9\",\"3\",\"+\",\"-11\",\"*\",\"/\",\"*\",\"17\",\"+\",\"5\",\"+\"]\n",
    "print(sol.evalRPN(l))\n"
   ]
  },
  {
   "cell_type": "code",
   "execution_count": null,
   "metadata": {},
   "outputs": [],
   "source": [
    "eval("
   ]
  },
  {
   "cell_type": "code",
   "execution_count": null,
   "metadata": {},
   "outputs": [],
   "source": []
  },
  {
   "cell_type": "code",
   "execution_count": null,
   "metadata": {},
   "outputs": [],
   "source": []
  }
 ],
 "metadata": {
  "kernelspec": {
   "display_name": ".venv",
   "language": "python",
   "name": "python3"
  },
  "language_info": {
   "codemirror_mode": {
    "name": "ipython",
    "version": 3
   },
   "file_extension": ".py",
   "mimetype": "text/x-python",
   "name": "python",
   "nbconvert_exporter": "python",
   "pygments_lexer": "ipython3",
   "version": "3.13.2"
  }
 },
 "nbformat": 4,
 "nbformat_minor": 2
}
