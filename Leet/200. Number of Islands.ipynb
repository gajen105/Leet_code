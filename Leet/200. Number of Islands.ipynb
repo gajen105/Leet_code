{
 "cells": [
  {
   "cell_type": "markdown",
   "metadata": {},
   "source": [
    "Given an m x n 2D binary grid grid which represents a map of '1's (land) and '0's (water), return the number of islands.\n",
    "\n",
    "An island is surrounded by water and is formed by connecting adjacent lands horizontally or vertically. You may assume all four edges of the grid are all surrounded by water."
   ]
  },
  {
   "cell_type": "code",
   "execution_count": 67,
   "metadata": {},
   "outputs": [
    {
     "data": {
      "text/plain": [
       "1"
      ]
     },
     "execution_count": 67,
     "metadata": {},
     "output_type": "execute_result"
    }
   ],
   "source": [
    "from collections import deque\n",
    "from typing import List\n",
    "class Solution:\n",
    "    def dfs(self,grid,i,j):\n",
    "        if i<0 or i>=len(grid) or j<0 or j>=len(grid[0]) or grid[i][j]!='1' :\n",
    "            return\n",
    "        grid[i][j] = '2'\n",
    "        self.dfs(grid,i+1,j)\n",
    "        self.dfs(grid,i-1,j)\n",
    "        self.dfs(grid,i,j+1)\n",
    "        self.dfs(grid,i,j-1)\n",
    "    def numIslands(self, grid: List[List[str]]) -> int:             \n",
    "        count = 0\n",
    "        for i in range(len(grid)):\n",
    "            for j in range(len(grid[0])):\n",
    "                if grid[i][j]=='1':\n",
    "                    self.dfs(grid,i,j)\n",
    "                    count+=1\n",
    "        return count\n",
    "\n",
    "    def numIslands1(self, grid: List[List[str]]) -> int:  \n",
    "        def bfs(r,c):\n",
    "            q = deque()\n",
    "            q.append((r,c))\n",
    "            visited.add((r,c))\n",
    "            while q :\n",
    "                direction = [(0,1),(0,-1),(1,0),(-1,0)]\n",
    "                rq,cq = q.popleft()\n",
    "                for i,j in direction:\n",
    "                    rv,cv = rq+i,cq+j\n",
    "                    if rv in range(m) and cv in range(n) and grid[rv][cv]=='1' and (rv,cv) not in visited :\n",
    "                        visited.add((rv,cv))\n",
    "                        q.append((rv,cv))\n",
    "\n",
    "        m = len(grid)\n",
    "        n = len(grid[0])\n",
    "        visited = set()\n",
    "        count = 0\n",
    "        for r in range(m):\n",
    "            for c in range(n):\n",
    "                if grid[r][c]=='1' and (r,c) not in visited:\n",
    "                    bfs(r,c)\n",
    "                    count +=1                \n",
    "        return count\n",
    "\n",
    "\n",
    "\n",
    "sol = Solution()\n",
    "grid =  [[\"1\",\"1\",\"0\",\"1\",\"1\"],\n",
    "         [\"1\",\"1\",\"0\",\"1\",\"1\"],\n",
    "         [\"1\",\"1\",\"0\",\"0\",\"1\"],\n",
    "         [\"0\",\"1\",\"1\",\"1\",\"1\"]]\n",
    "\n",
    "\n",
    "sol.numIslands1(grid) "
   ]
  }
 ],
 "metadata": {
  "kernelspec": {
   "display_name": ".venv",
   "language": "python",
   "name": "python3"
  },
  "language_info": {
   "codemirror_mode": {
    "name": "ipython",
    "version": 3
   },
   "file_extension": ".py",
   "mimetype": "text/x-python",
   "name": "python",
   "nbconvert_exporter": "python",
   "pygments_lexer": "ipython3",
   "version": "3.13.2"
  }
 },
 "nbformat": 4,
 "nbformat_minor": 2
}
