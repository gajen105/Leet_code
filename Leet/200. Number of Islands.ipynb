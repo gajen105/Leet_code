{
 "cells": [
  {
   "cell_type": "markdown",
   "metadata": {},
   "source": [
    "Given an m x n 2D binary grid grid which represents a map of '1's (land) and '0's (water), return the number of islands.\n",
    "\n",
    "An island is surrounded by water and is formed by connecting adjacent lands horizontally or vertically. You may assume all four edges of the grid are all surrounded by water."
   ]
  },
  {
   "cell_type": "code",
   "execution_count": 50,
   "metadata": {},
   "outputs": [
    {
     "data": {
      "text/plain": [
       "2"
      ]
     },
     "execution_count": 50,
     "metadata": {},
     "output_type": "execute_result"
    }
   ],
   "source": [
    "from typing import List\n",
    "class Solution:\n",
    "    def dfs(self,grid,i,j):\n",
    "        if i<0 or i>=len(grid) or j<0 or j>=len(grid[0]) or grid[i][j]!='1' :\n",
    "            return\n",
    "        grid[i][j] = '2'\n",
    "        self.dfs(grid,i+1,j)\n",
    "        self.dfs(grid,i-1,j)\n",
    "        self.dfs(grid,i,j+1)\n",
    "        self.dfs(grid,i,j-1)\n",
    "    def numIslands(self, grid: List[List[str]]) -> int:             \n",
    "        count = 0\n",
    "        for i in range(len(grid)):\n",
    "            for j in range(len(grid[0])):\n",
    "                if grid[i][j]=='1':\n",
    "                    self.dfs(grid,i,j)\n",
    "                    count+=1\n",
    "        return count\n",
    "\n",
    "    def numIslands1(self, grid: List[List[str]]) -> int: # wrong \n",
    "        m = len(grid)\n",
    "        n = len(grid[0])\n",
    "        count = 0\n",
    "        for i in range(m):\n",
    "            for j in range(n):\n",
    "                if grid[i][j]=='1':\n",
    "                    print (i,j)\n",
    "                    if i>0 and j>0 and grid[i-1][j]=='1' and grid[i][j-1]=='1':\n",
    "                        count-=1\n",
    "                        continue\n",
    "                    if i>0 and grid[i-1][j]=='1':\n",
    "                        continue\n",
    "                    if j>0 and grid[i][j-1]=='1':\n",
    "                        continue \n",
    "                    count+=1\n",
    "                    print (i,j, count)\n",
    "        return count\n",
    "\n",
    "\n",
    "\n",
    "sol = Solution()\n",
    "grid =  [[\"1\",\"1\",\"0\",\"1\",\"1\"],\n",
    "         [\"1\",\"1\",\"0\",\"1\",\"1\"],\n",
    "         [\"1\",\"1\",\"0\",\"0\",\"1\"],\n",
    "         [\"0\",\"0\",\"1\",\"1\",\"1\"]]\n",
    "\n",
    "\n",
    "sol.numIslands(grid) "
   ]
  }
 ],
 "metadata": {
  "kernelspec": {
   "display_name": ".venv",
   "language": "python",
   "name": "python3"
  },
  "language_info": {
   "codemirror_mode": {
    "name": "ipython",
    "version": 3
   },
   "file_extension": ".py",
   "mimetype": "text/x-python",
   "name": "python",
   "nbconvert_exporter": "python",
   "pygments_lexer": "ipython3",
   "version": "3.13.2"
  }
 },
 "nbformat": 4,
 "nbformat_minor": 2
}
