{
 "cells": [
  {
   "cell_type": "markdown",
   "metadata": {},
   "source": [
    "Given a string s, return the number of unique palindromes of length three that are a subsequence of s.\n",
    "\n",
    "Note that even if there are multiple ways to obtain the same subsequence, it is still only counted once.\n",
    "\n",
    "A palindrome is a string that reads the same forwards and backwards.\n",
    "\n",
    "A subsequence of a string is a new string generated from the original string with some characters (can be none) deleted without changing the relative order of the remaining characters.\n",
    "\n",
    "For example, \"ace\" is a subsequence of \"abcde\".\n",
    " \n",
    "\n",
    "Example 1:\n",
    "\n",
    "Input: s = \"aabca\"\n",
    "Output: 3\n",
    "Explanation: The 3 palindromic subsequences of length 3 are:\n",
    "- \"aba\" (subsequence of \"aabca\")\n",
    "- \"aaa\" (subsequence of \"aabca\")\n",
    "- \"aca\" (subsequence of \"aabca\")\n",
    "Example 2:\n",
    "\n",
    "Input: s = \"adc\"\n",
    "Output: 0\n",
    "Explanation: There are no palindromic subsequences of length 3 in \"adc\".\n",
    "Example 3:\n",
    "\n",
    "Input: s = \"bbcbaba\"\n",
    "Output: 4\n",
    "Explanation: The 4 palindromic subsequences of length 3 are:\n",
    "- \"bbb\" (subsequence of \"bbcbaba\")\n",
    "- \"bcb\" (subsequence of \"bbcbaba\")\n",
    "- \"bab\" (subsequence of \"bbcbaba\")\n",
    "- \"aba\" (subsequence of \"bbcbaba\")\n",
    " \n",
    "\n",
    "Constraints:\n",
    "\n",
    "3 <= s.length <= 105\n",
    "s consists of only lowercase English letters"
   ]
  },
  {
   "cell_type": "code",
   "execution_count": 109,
   "metadata": {},
   "outputs": [],
   "source": [
    "class Solution:\n",
    "    def countPalindromicSubsequence(self, s: str) -> int:\n",
    "        # s = 'aabca'\n",
    "        unique = set()\n",
    "        for i in range (1,len(s)-2):\n",
    "            index = s[i:].rfind(s[i-1])\n",
    "            # if  index != -1:\n",
    "            for j in range (i,index+i):\n",
    "                unique.add(s[i-1]+s[j]+s[index+i])\n",
    "        return len(unique)"
   ]
  },
  {
   "cell_type": "code",
   "execution_count": 227,
   "metadata": {},
   "outputs": [],
   "source": [
    "class Solution:\n",
    "    def countPalindromicSubsequence(self, s: str) -> int:\n",
    "        unique = set()\n",
    "        seen_li = []\n",
    "        for i in range (1,len(s)-1):\n",
    "            first_s = s[0]\n",
    "            s = s[1:]\n",
    "            if first_s not in seen_li:\n",
    "                seen_li.append(first_s)\n",
    "                index = s.rfind(first_s)\n",
    "                if  index != -1:\n",
    "                    for j in set(s[:index]):\n",
    "                        unique.add(first_s+j+s[index])\n",
    "        return(len(unique))"
   ]
  },
  {
   "cell_type": "code",
   "execution_count": 237,
   "metadata": {},
   "outputs": [
    {
     "name": "stdout",
     "output_type": "stream",
     "text": [
      "4\n"
     ]
    }
   ],
   "source": [
    "s = \"bbcbaba\"\n",
    "sol = Solution()\n",
    "print(sol.countPalindromicSubsequence(s))"
   ]
  }
 ],
 "metadata": {
  "kernelspec": {
   "display_name": ".venv",
   "language": "python",
   "name": "python3"
  },
  "language_info": {
   "codemirror_mode": {
    "name": "ipython",
    "version": 3
   },
   "file_extension": ".py",
   "mimetype": "text/x-python",
   "name": "python",
   "nbconvert_exporter": "python",
   "pygments_lexer": "ipython3",
   "version": "3.13.1"
  }
 },
 "nbformat": 4,
 "nbformat_minor": 2
}
