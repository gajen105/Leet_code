{
 "cells": [
  {
   "cell_type": "code",
   "execution_count": 117,
   "metadata": {},
   "outputs": [],
   "source": [
    "class Node:\n",
    "    def __init__(self, data,left=None, right=None):\n",
    "        self.left = left\n",
    "        self.data = data\n",
    "        self.right = right"
   ]
  },
  {
   "cell_type": "code",
   "execution_count": 118,
   "metadata": {},
   "outputs": [],
   "source": [
    "class BinaryTree:\n",
    "    def __init__(self, root=None):\n",
    "        self.root = root\n",
    "        self.count = 0\n",
    "    def insertion(self, data):\n",
    "        node = Node(data)\n",
    "        if self.root is None:\n",
    "            self.root = node\n",
    "        else:\n",
    "            perent = self.root\n",
    "            while True:\n",
    "                if perent.data > data:\n",
    "                    if not perent.left:\n",
    "                        perent.left = node\n",
    "                        break\n",
    "                    perent = perent.left\n",
    "                else : \n",
    "                    if not perent.right:\n",
    "                        perent.right = node\n",
    "                        break\n",
    "                    perent = perent.right \n",
    "        self.count +=1\n",
    "    def is_leaf_node(node):\n",
    "        return node.left is None and node.right is None \n",
    "    def deletion_if_nonechild(self, data):\n",
    "        if self.root is not None:\n",
    "            if self.root.data == data:\n",
    "                if self.root.left is None and self.root.right is None:\n",
    "                    self.root = None\n",
    "                else: raise IndexError(\"Root have child\")\n",
    "            else:\n",
    "                perent = self.root\n",
    "                while True:\n",
    "                    if perent.data> data:\n",
    "                        child = perent.left\n",
    "                        print (child.data)\n",
    "                        if child.data == data and child.left is None and child.right is None:\n",
    "                            perent.left = None\n",
    "                            break\n",
    "                    else : \n",
    "                        child = perent.right\n",
    "                        if child.data == data and child.left is None and child.right is None:\n",
    "                            perent.right = None\n",
    "                            break\n",
    "                    perent = child\n",
    "                data = child.data\n",
    "                self.count -= 1\n",
    "            return data\n",
    "    def insert(self, data):\n",
    "        self.root = self.rinsert(self.root, data)\n",
    "    def rinsert(self, root, data):\n",
    "        if root is None:\n",
    "            return Node(data)\n",
    "        if root.data > data:\n",
    "            root.left = self.rinsert(root.left, data)\n",
    "        elif root.data < data:\n",
    "            root.right = self.rinsert(root.right, data)\n",
    "        return root"
   ]
  },
  {
   "cell_type": "code",
   "execution_count": 1,
   "metadata": {},
   "outputs": [
    {
     "ename": "NameError",
     "evalue": "name 'BinaryTree' is not defined",
     "output_type": "error",
     "traceback": [
      "\u001b[1;31m---------------------------------------------------------------------------\u001b[0m",
      "\u001b[1;31mNameError\u001b[0m                                 Traceback (most recent call last)",
      "Cell \u001b[1;32mIn[1], line 1\u001b[0m\n\u001b[1;32m----> 1\u001b[0m bt \u001b[38;5;241m=\u001b[39m \u001b[43mBinaryTree\u001b[49m()\n\u001b[0;32m      2\u001b[0m bt\u001b[38;5;241m.\u001b[39minsertion(\u001b[38;5;241m50\u001b[39m)\n\u001b[0;32m      3\u001b[0m bt\u001b[38;5;241m.\u001b[39minsertion(\u001b[38;5;241m60\u001b[39m) \n",
      "\u001b[1;31mNameError\u001b[0m: name 'BinaryTree' is not defined"
     ]
    }
   ],
   "source": [
    "bt = BinaryTree()\n",
    "bt.insertion(50)\n",
    "bt.insertion(60) \n",
    "bt.insertion(40)\n",
    "bt.insertion(30)\n",
    "print(bt.deletion(45))\n",
    "# print(bt.count)\n"
   ]
  }
 ],
 "metadata": {
  "kernelspec": {
   "display_name": ".venv",
   "language": "python",
   "name": "python3"
  },
  "language_info": {
   "codemirror_mode": {
    "name": "ipython",
    "version": 3
   },
   "file_extension": ".py",
   "mimetype": "text/x-python",
   "name": "python",
   "nbconvert_exporter": "python",
   "pygments_lexer": "ipython3",
   "version": "3.13.1"
  }
 },
 "nbformat": 4,
 "nbformat_minor": 2
}
