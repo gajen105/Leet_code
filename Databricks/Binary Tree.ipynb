{
 "cells": [
  {
   "cell_type": "code",
   "execution_count": 117,
   "metadata": {},
   "outputs": [],
   "source": [
    "class Node:\n",
    "    def __init__(self, left, data, right):\n",
    "        self.left = left\n",
    "        self.data = data\n",
    "        self.right = right"
   ]
  },
  {
   "cell_type": "code",
   "execution_count": 118,
   "metadata": {},
   "outputs": [],
   "source": [
    "class BinaryTree:\n",
    "    def __init__(self, root=None):\n",
    "        self.root = root\n",
    "        self.count = 0\n",
    "    def insertion(self, data):\n",
    "        node = Node(None,data, None)\n",
    "        if self.root is None:\n",
    "            self.root = node\n",
    "        else:\n",
    "            perent = self.root\n",
    "            while True:\n",
    "                if perent.data > data:\n",
    "                    if not perent.left:\n",
    "                        perent.left = node\n",
    "                        break\n",
    "                    perent = perent.left\n",
    "                else : \n",
    "                    if not perent.right:\n",
    "                        perent.right = node\n",
    "                        break\n",
    "                    perent = perent.right \n",
    "        self.count +=1\n",
    "    def is_leaf_node(node):\n",
    "        return node.left is None and node.right is None \n",
    "    def deletion(self, data):\n",
    "        if self.root is not None:\n",
    "            if self.root.data == data:\n",
    "                if self.root.left is None and self.root.right is None:\n",
    "                    self.root = None\n",
    "                else: raise IndexError(\"Root have child\")\n",
    "            else:\n",
    "                perent = self.root\n",
    "                while True:\n",
    "                    if perent.data> data:\n",
    "                        child = perent.left\n",
    "                        print (child.data)\n",
    "                        if child.data == data and child.left is None and child.right is None:\n",
    "                            perent.left = None\n",
    "                            break\n",
    "                    else : \n",
    "                        child = perent.right\n",
    "                        if child.data == data and child.left is None and child.right is None:\n",
    "                            perent.right = None\n",
    "                            break\n",
    "                    perent = child\n",
    "                data = child.data\n",
    "                self.count -= 1\n",
    "            return data\n",
    "    def traversal(self, root):\n",
    "        if self.root is not None:\n",
    "            if root.left is None and root is None:\n",
    "                print(root.data)\n",
    "\n",
    "\n",
    "\n",
    "\n",
    "\n"
   ]
  },
  {
   "cell_type": "code",
   "execution_count": 119,
   "metadata": {},
   "outputs": [
    {
     "name": "stdout",
     "output_type": "stream",
     "text": [
      "40\n",
      "30\n",
      "30\n"
     ]
    }
   ],
   "source": [
    "bt = BinaryTree()\n",
    "bt.insertion(50)\n",
    "bt.insertion(60) \n",
    "bt.insertion(40)\n",
    "bt.insertion(30)\n",
    "print(bt.deletion(30))\n",
    "# print(bt.count)\n"
   ]
  }
 ],
 "metadata": {
  "kernelspec": {
   "display_name": ".venv",
   "language": "python",
   "name": "python3"
  },
  "language_info": {
   "codemirror_mode": {
    "name": "ipython",
    "version": 3
   },
   "file_extension": ".py",
   "mimetype": "text/x-python",
   "name": "python",
   "nbconvert_exporter": "python",
   "pygments_lexer": "ipython3",
   "version": "3.13.1"
  }
 },
 "nbformat": 4,
 "nbformat_minor": 2
}
