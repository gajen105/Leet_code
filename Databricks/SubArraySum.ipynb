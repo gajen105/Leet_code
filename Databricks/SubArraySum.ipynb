{
 "cells": [
  {
   "cell_type": "markdown",
   "metadata": {},
   "source": [
    "Problem: Given a sorted array and a target sum, find two numbers that add up to the target. "
   ]
  },
  {
   "cell_type": "code",
   "execution_count": null,
   "metadata": {},
   "outputs": [],
   "source": [
    "def two_sum_sorted(arr, target):\n",
    "    left, right = 0, len(arr)-1\n",
    "    sum = 0\n",
    "    while left !=right:\n",
    "        sum = arr[left] + arr[right]\n",
    "        if sum == target:\n",
    "            return [left, right]\n",
    "        if sum > target:\n",
    "            right -= 1\n",
    "        else: left += 1\n",
    "    return []\n",
    "\n",
    "print(two_sum_sorted([1, 2, 3, 4, 6], 6))  # Output: [1, 3]"
   ]
  }
 ],
 "metadata": {
  "kernelspec": {
   "display_name": ".venv",
   "language": "python",
   "name": "python3"
  },
  "language_info": {
   "codemirror_mode": {
    "name": "ipython",
    "version": 3
   },
   "file_extension": ".py",
   "mimetype": "text/x-python",
   "name": "python",
   "nbconvert_exporter": "python",
   "pygments_lexer": "ipython3",
   "version": "3.13.1"
  }
 },
 "nbformat": 4,
 "nbformat_minor": 2
}
