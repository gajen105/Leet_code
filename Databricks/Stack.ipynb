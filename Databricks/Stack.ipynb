{
 "cells": [
  {
   "cell_type": "code",
   "execution_count": 3,
   "metadata": {},
   "outputs": [
    {
     "ename": "AttributeError",
     "evalue": "'Stack' object has no attribute '__stack'",
     "output_type": "error",
     "traceback": [
      "\u001b[1;31m---------------------------------------------------------------------------\u001b[0m",
      "\u001b[1;31mAttributeError\u001b[0m                            Traceback (most recent call last)",
      "Cell \u001b[1;32mIn[3], line 15\u001b[0m\n\u001b[0;32m     13\u001b[0m         \u001b[38;5;28;01mreturn\u001b[39;00m \u001b[38;5;28mlen\u001b[39m(\u001b[38;5;28mself\u001b[39m\u001b[38;5;241m.\u001b[39m__stack)\n\u001b[0;32m     14\u001b[0m stack \u001b[38;5;241m=\u001b[39m Stack()\n\u001b[1;32m---> 15\u001b[0m s \u001b[38;5;241m=\u001b[39m \u001b[43mstack\u001b[49m\u001b[38;5;241;43m.\u001b[39;49m\u001b[43m__stack\u001b[49m\n\u001b[0;32m     16\u001b[0m \u001b[38;5;28mprint\u001b[39m(stack\u001b[38;5;241m.\u001b[39mis_empty())\n\u001b[0;32m     17\u001b[0m stack\u001b[38;5;241m.\u001b[39mpush(\u001b[38;5;241m1\u001b[39m)\n",
      "\u001b[1;31mAttributeError\u001b[0m: 'Stack' object has no attribute '__stack'"
     ]
    }
   ],
   "source": [
    "class Stack:\n",
    "    def __init__(self):\n",
    "        self.__stack = []\n",
    "    def push(self, data):\n",
    "        self.__stack.append(data)\n",
    "    def pop(self):\n",
    "        return self.__stack.pop()\n",
    "    def peek(self):\n",
    "        return self.__stack[-1]\n",
    "    def is_empty(self):\n",
    "        return len(self.__stack) == 0\n",
    "    def size(self):\n",
    "        return len(self.__stack)\n",
    "stack = Stack()\n",
    "s = stack.__stack\n",
    "print(stack.is_empty())\n",
    "stack.push(1)\n",
    "stack.push(2)\n",
    "stack.push(3)\n",
    "print(stack.size())\n",
    "print(stack.peek())\n",
    "print(stack.pop())\n",
    "print(stack.peek())\n",
    "print(stack.is_empty())\n",
    "print(stack.pop())\n",
    "print(stack.pop())\n",
    "print(stack.is_empty())"
   ]
  }
 ],
 "metadata": {
  "kernelspec": {
   "display_name": ".venv",
   "language": "python",
   "name": "python3"
  },
  "language_info": {
   "codemirror_mode": {
    "name": "ipython",
    "version": 3
   },
   "file_extension": ".py",
   "mimetype": "text/x-python",
   "name": "python",
   "nbconvert_exporter": "python",
   "pygments_lexer": "ipython3",
   "version": "3.13.1"
  }
 },
 "nbformat": 4,
 "nbformat_minor": 2
}
