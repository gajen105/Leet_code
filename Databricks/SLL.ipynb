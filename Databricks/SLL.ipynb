{
 "cells": [
  {
   "cell_type": "markdown",
   "metadata": {},
   "source": []
  },
  {
   "cell_type": "markdown",
   "metadata": {},
   "source": [
    "class Node:\n",
    "    def __init__(self, data):\n",
    "        self.data = data\n",
    "        self.next = None\n",
    "\n",
    "class SinglyLinkedList:\n",
    "    def __init__(self):\n",
    "        self.head = None\n",
    "\n",
    "    def append(self, data):\n",
    "        new_node = Node(data)\n",
    "        if not self.head:\n",
    "            self.head = new_node\n",
    "            return\n",
    "        last_node = self.head\n",
    "        while last_node.next:\n",
    "            last_node = last_node.next\n",
    "        last_node.next = new_node\n",
    "\n",
    "    def print_list(self):\n",
    "        current_node = self.head\n",
    "        while current_node:\n",
    "            print(current_node.data)\n",
    "            current_node = current_node.next\n",
    "\n",
    "# Example usage:\n",
    "sll = SinglyLinkedList()\n",
    "sll.append(1)\n",
    "sll.append(2)\n",
    "sll.append(3)\n",
    "sll.print_list()"
   ]
  },
  {
   "cell_type": "code",
   "execution_count": 149,
   "metadata": {
    "application/vnd.databricks.v1+cell": {
     "cellMetadata": {},
     "inputWidgets": {},
     "nuid": "d63ff2d2-df17-4101-8049-48f73c00f938",
     "showTitle": false,
     "tableResultSettingsMap": {},
     "title": ""
    }
   },
   "outputs": [
    {
     "name": "stdout",
     "output_type": "stream",
     "text": [
      "1 3 2 110 5 6 7 8 1\n",
      "3\n",
      "2\n",
      "110\n",
      "5\n",
      "6\n",
      "7\n",
      "8\n"
     ]
    }
   ],
   "source": [
    "class Node:\n",
    "    def __init__(self, data, next=None):\n",
    "        self.data = data\n",
    "        self.next = next\n",
    "class SLLIerator:\n",
    "    def __init__(self,start):\n",
    "        self.current = start\n",
    "    def __iter__(self):\n",
    "        return self\n",
    "    def __next__(self):\n",
    "        if not self.current:\n",
    "            raise StopIteration\n",
    "        data = self.current.data\n",
    "        self.current = self.current.next\n",
    "        return data\n",
    "\n",
    "class SLL:\n",
    "    def __init__(self, start=None):\n",
    "        self.start = start\n",
    "    def insert_at_start(self, data):\n",
    "        node = Node(data, self.start)\n",
    "        self.start = node\n",
    "    def insert_at_end(self, data):\n",
    "        node = Node(data)\n",
    "        current = self.start\n",
    "        while current.next:\n",
    "            current = current.next\n",
    "        current.next = node\n",
    "    def insert_after(self, data, after):\n",
    "        current = self.start\n",
    "        while current.next:\n",
    "            if current.data ==after:\n",
    "                break;\n",
    "            current = current.next\n",
    "        current.next = Node(data, current.next)\n",
    "    def delete_at_start(self):\n",
    "        self.start = self.start.next\n",
    "    def delete_at_end(self):\n",
    "        current = self.start\n",
    "        while current.next.next:\n",
    "            # print(current.data, end=' ')\n",
    "            current = current.next\n",
    "        current.next = None\n",
    "    def delete(self, data):\n",
    "        current = self.start\n",
    "        while current.next.next:\n",
    "            if current.next.data == data:\n",
    "                break\n",
    "            current = current.next\n",
    "        current.next = current.next.next\n",
    "    def printsll(self):\n",
    "        current = self.start\n",
    "        while current:\n",
    "            print(current.data, end=' ')\n",
    "            current = current.next\n",
    "    def __iter__(self):\n",
    "        return SLLIerator(self.start)\n",
    "\n",
    "\n",
    "\n",
    "\n",
    "sll = SLL()\n",
    "sll.insert_at_start(2)\n",
    "sll.insert_at_start(1)\n",
    "sll.insert_at_end(110)\n",
    "sll.insert_after(3, 1)\n",
    "sll.insert_after(5, 4)\n",
    "sll.insert_after(6, 5)\n",
    "sll.insert_after(7, 6)\n",
    "sll.insert_after(8, 7)\n",
    "# sll.delete_at_start()\n",
    "# sll.delete_at_end()\n",
    "# sll.delete_at_end()\n",
    "sll.printsll()\n",
    "for i in sll:\n",
    "    print(i)\n"
   ]
  },
  {
   "cell_type": "code",
   "execution_count": 138,
   "metadata": {},
   "outputs": [
    {
     "name": "stdout",
     "output_type": "stream",
     "text": [
      "2 3 110 "
     ]
    }
   ],
   "source": [
    "sll.delete(111)\n",
    "sll.delete(5)\n",
    "sll.printsll()"
   ]
  }
 ],
 "metadata": {
  "application/vnd.databricks.v1+notebook": {
   "computePreferences": null,
   "dashboards": [],
   "environmentMetadata": {
    "base_environment": "",
    "client": "2"
   },
   "language": "python",
   "notebookMetadata": {
    "pythonIndentUnit": 4
   },
   "notebookName": "SLL",
   "widgets": {}
  },
  "kernelspec": {
   "display_name": ".venv",
   "language": "python",
   "name": "python3"
  },
  "language_info": {
   "codemirror_mode": {
    "name": "ipython",
    "version": 3
   },
   "file_extension": ".py",
   "mimetype": "text/x-python",
   "name": "python",
   "nbconvert_exporter": "python",
   "pygments_lexer": "ipython3",
   "version": "3.13.1"
  }
 },
 "nbformat": 4,
 "nbformat_minor": 0
}
