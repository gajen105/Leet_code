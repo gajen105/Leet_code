{
 "cells": [
  {
   "cell_type": "code",
   "execution_count": 27,
   "metadata": {},
   "outputs": [
    {
     "name": "stdout",
     "output_type": "stream",
     "text": [
      "[-1, 3, 3, 4, 5, 5, 5, 10, 11, 20, 22, 23, 25, 30, 33, 37, 50, 60, 655]\n"
     ]
    }
   ],
   "source": [
    "def merge(li1,li2):\n",
    "    n1,n2 = len(li1),len(li2)\n",
    "    i,j=0,0\n",
    "    li=[]\n",
    "    while i<n1 and j<n2:\n",
    "        if li1[i]<li2[j]:\n",
    "            li.append(li1[i])\n",
    "            i+=1\n",
    "        else:\n",
    "            li.append(li2[j])\n",
    "            j+=1\n",
    "    if i<n1:\n",
    "        li.extend(li1[i:])\n",
    "    if j<n2:\n",
    "        li.extend(li2[j:])\n",
    "    return li\n",
    "def mergeSort(li):\n",
    "    if len(li)<=1:\n",
    "        return li\n",
    "    n = len(li)\n",
    "    mid = n//2\n",
    "    left = mergeSort(li[:mid])\n",
    "    right = mergeSort(li[mid:])\n",
    "    li = merge(left,right)\n",
    "    return li\n",
    "nums =[50,20,30,60,10,22,11,25,37,-1,33,4,3,5,3,5,23,5,655]\n",
    "print(mergeSort(nums))"
   ]
  }
 ],
 "metadata": {
  "kernelspec": {
   "display_name": ".venv",
   "language": "python",
   "name": "python3"
  },
  "language_info": {
   "codemirror_mode": {
    "name": "ipython",
    "version": 3
   },
   "file_extension": ".py",
   "mimetype": "text/x-python",
   "name": "python",
   "nbconvert_exporter": "python",
   "pygments_lexer": "ipython3",
   "version": "3.13.1"
  }
 },
 "nbformat": 4,
 "nbformat_minor": 2
}
