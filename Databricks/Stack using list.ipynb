{
 "cells": [
  {
   "cell_type": "code",
   "execution_count": null,
   "metadata": {},
   "outputs": [],
   "source": [
    "class Stack:\n",
    "    def __init__(self):\n",
    "        self.__stack = []\n",
    "    def push(self, data):\n",
    "        self.__stack.append(data)\n",
    "    def is_empty(self):\n",
    "        return len(self.__stack) == 0\n",
    "    def pop(self):\n",
    "        if self.is_empty():\n",
    "            raise IndexError(\"pop from empty stack\")\n",
    "        return self.__stack.pop()\n",
    "    def peek(self):\n",
    "        if self.is_empty():\n",
    "            raise IndexError(\"pop from empty stack\")\n",
    "        return self.__stack[-1]\n",
    "    def size(self):\n",
    "        return len(self.__stack)\n",
    "stack = Stack()\n",
    "print(stack.is_empty())\n",
    "stack.push(1)\n",
    "stack.push(2)\n",
    "stack.push(3)\n",
    "print(stack.size())\n",
    "print(stack.peek())\n",
    "print(stack.pop())\n",
    "print(stack.peek())\n",
    "print(stack.is_empty())\n",
    "print(stack.pop())\n",
    "print(stack.pop())\n",
    "print(stack.is_empty())"
   ]
  }
 ],
 "metadata": {
  "kernelspec": {
   "display_name": ".venv",
   "language": "python",
   "name": "python3"
  },
  "language_info": {
   "codemirror_mode": {
    "name": "ipython",
    "version": 3
   },
   "file_extension": ".py",
   "mimetype": "text/x-python",
   "name": "python",
   "nbconvert_exporter": "python",
   "pygments_lexer": "ipython3",
   "version": "3.13.1"
  }
 },
 "nbformat": 4,
 "nbformat_minor": 2
}
