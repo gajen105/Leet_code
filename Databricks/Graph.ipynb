{
 "cells": [
  {
   "cell_type": "code",
   "execution_count": 2,
   "metadata": {},
   "outputs": [],
   "source": [
    "class Graph:\n",
    "    def __init__(self, vno):\n",
    "        self.vertex_count = vno\n",
    "        self.adj_matrix =  [ [0]*vno for r in range( vno )]\n",
    "    def add_edge(self, u,v, weight = 1):\n",
    "        if 0<=u<self.vertex_count and  0<=v<self.vertex_count:\n",
    "            self.adj_matrix[u][v] = weight\n",
    "            self.adj_matrix[v][u] = weight\n",
    "        else: print(\"Invalid Vertex\")\n",
    "    def remove_edge(self, u,v):\n",
    "        if 0<=u<self.vertex_count and  0<=v<self.vertex_count:\n",
    "            self.adj_matrix[u][v] = 0\n",
    "            self.adj_matrix[v][u] = 0\n",
    "        else: print(\"Invalid Vertex\")\n",
    "    def has_edge(self, u,v):\n",
    "        if 0<=u<self.vertex_count and  0<=v<self.vertex_count:\n",
    "            return self.adj_matrix[u][v] !=0\n",
    "        else: print(\"Invalid Vertex\")\n",
    "    def print_adj_matrix(self):\n",
    "        for row_list in self.adj_matrix:\n",
    "            print(\" \".join(map(str, row_list)))"
   ]
  },
  {
   "cell_type": "code",
   "execution_count": 3,
   "metadata": {},
   "outputs": [
    {
     "name": "stdout",
     "output_type": "stream",
     "text": [
      "0 1 1\n",
      "1 0 5\n",
      "1 5 0\n",
      "\n",
      "0 1 1\n",
      "1 0 10\n",
      "1 10 0\n"
     ]
    }
   ],
   "source": [
    "g = Graph(3) \n",
    "g.add_edge(0,1)\n",
    "g.add_edge(0,2)\n",
    "g.add_edge(1,2,5)\n",
    "g.add_edge(1,2,5)\n",
    "g.print_adj_matrix() \n",
    "g.remove_edge(1,2)\n",
    "g.add_edge(1,2,10)\n",
    "print()\n",
    "g.print_adj_matrix() "
   ]
  },
  {
   "cell_type": "code",
   "execution_count": 5,
   "metadata": {},
   "outputs": [
    {
     "name": "stdout",
     "output_type": "stream",
     "text": [
      "0 1 1 0 0\n",
      "1 0 2 3 0\n",
      "1 2 0 3 4\n",
      "0 3 3 0 4\n",
      "0 0 4 4 0\n"
     ]
    }
   ],
   "source": [
    "g = Graph(5)\n",
    "g.add_edge(0,1)\n",
    "g.add_edge(0,2)\n",
    "g.add_edge(1,2,2)\n",
    "g.add_edge(1,3,3)\n",
    "g.add_edge(2,3,3)\n",
    "g.add_edge(4,3,4)\n",
    "g.add_edge(4,2,4)\n",
    "g.print_adj_matrix()"
   ]
  }
 ],
 "metadata": {
  "kernelspec": {
   "display_name": ".venv",
   "language": "python",
   "name": "python3"
  },
  "language_info": {
   "codemirror_mode": {
    "name": "ipython",
    "version": 3
   },
   "file_extension": ".py",
   "mimetype": "text/x-python",
   "name": "python",
   "nbconvert_exporter": "python",
   "pygments_lexer": "ipython3",
   "version": "3.13.2"
  }
 },
 "nbformat": 4,
 "nbformat_minor": 2
}
