{
 "cells": [
  {
   "cell_type": "code",
   "execution_count": 3,
   "metadata": {},
   "outputs": [
    {
     "name": "stdout",
     "output_type": "stream",
     "text": [
      "40\n",
      "40\n",
      "30\n",
      "30\n"
     ]
    }
   ],
   "source": [
    "class Node:\n",
    "    def __init__(self, data, next):\n",
    "        self.data = data\n",
    "        self.next = next\n",
    "class Stack:\n",
    "    def __init__(self, start=None):\n",
    "        self.__start = start\n",
    "        self.stack_count = 0\n",
    "    def is_empty(self):\n",
    "        return self.__start is None\n",
    "    def push(self, data):\n",
    "        self.stack_count += 1\n",
    "        self.__start = Node(data, self.__start)\n",
    "    def pop(self):\n",
    "        if self.is_empty():\n",
    "            raise IndexError(\"pop from empty stack\")\n",
    "        self.stack_count -= 1\n",
    "        data = self.__start.data\n",
    "        self.__start = self.__start.next      \n",
    "        return data \n",
    "    def peek(self):\n",
    "        if self.is_empty():\n",
    "            raise IndexError(\"pop from empty stack\")\n",
    "        data = self.__start.data    \n",
    "        return data \n",
    "    \n",
    "stack = Stack()\n",
    "stack.push(10)\n",
    "stack.push(20)\n",
    "stack.push(30)\n",
    "stack.push(40)\n",
    "print(stack.peek())\n",
    "print(stack.pop())\n",
    "print(stack.peek())\n",
    "print(stack.pop())"
   ]
  }
 ],
 "metadata": {
  "kernelspec": {
   "display_name": ".venv",
   "language": "python",
   "name": "python3"
  },
  "language_info": {
   "codemirror_mode": {
    "name": "ipython",
    "version": 3
   },
   "file_extension": ".py",
   "mimetype": "text/x-python",
   "name": "python",
   "nbconvert_exporter": "python",
   "pygments_lexer": "ipython3",
   "version": "3.13.1"
  }
 },
 "nbformat": 4,
 "nbformat_minor": 2
}
