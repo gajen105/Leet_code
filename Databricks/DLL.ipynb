{
 "cells": [
  {
   "cell_type": "code",
   "execution_count": 39,
   "metadata": {},
   "outputs": [
    {
     "name": "stdout",
     "output_type": "stream",
     "text": [
      "1 2 3 4 \n"
     ]
    }
   ],
   "source": [
    "class Node:\n",
    "    def __init__(self, data, prev=None, next=None):\n",
    "        self.data = data\n",
    "        self.prev = prev\n",
    "        self.next = next\n",
    "class DLL:\n",
    "    def __init__(self, start=None):\n",
    "        self.start = start\n",
    "    def insert_at_start(self, data):\n",
    "        if self.start is None:\n",
    "            self.start = Node(data,None,None)\n",
    "        else: \n",
    "            self.start = Node(data,None,self.start)\n",
    "            self.start.prev = self.start\n",
    "    def insert_at_end(self, data):\n",
    "        if self.start is None:\n",
    "            self.start = Node(data,None,None)\n",
    "        else:\n",
    "            current = self.start\n",
    "            while current.next:\n",
    "                current = current.next\n",
    "            current.next = Node(data, current, None)\n",
    "    def printDll(self):\n",
    "        current = self.start\n",
    "        while current:\n",
    "            print(current.data, end = ' ')\n",
    "            current = current.next\n",
    "        print()\n",
    "\n",
    "dll = DLL()\n",
    "dll.insert_at_start(4)\n",
    "dll.insert_at_start(3)\n",
    "dll.insert_at_start(2)\n",
    "dll.insert_at_start(1)\n",
    "dll.printDll()"
   ]
  }
 ],
 "metadata": {
  "kernelspec": {
   "display_name": ".venv",
   "language": "python",
   "name": "python3"
  },
  "language_info": {
   "codemirror_mode": {
    "name": "ipython",
    "version": 3
   },
   "file_extension": ".py",
   "mimetype": "text/x-python",
   "name": "python",
   "nbconvert_exporter": "python",
   "pygments_lexer": "ipython3",
   "version": "3.13.1"
  }
 },
 "nbformat": 4,
 "nbformat_minor": 2
}
