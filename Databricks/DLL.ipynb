{
 "cells": [
  {
   "cell_type": "code",
   "execution_count": 43,
   "metadata": {},
   "outputs": [],
   "source": [
    "class Node:\n",
    "    def __init__(self, data, prev=None, next=None):\n",
    "        self.data = data\n",
    "        self.prev = prev\n",
    "        self.next = next\n",
    "class DLL:\n",
    "    def __init__(self, start=None):\n",
    "        self.start = start\n",
    "    def insert_at_start(self, data):\n",
    "        if self.start is None:\n",
    "            self.start = Node(data,None,None)\n",
    "        else: \n",
    "            self.start = Node(data,None,self.start)\n",
    "            self.start.prev = self.start\n",
    "    def insert_at_end(self, data):\n",
    "        if self.start is None:\n",
    "            self.start = Node(data,None,None)\n",
    "        else:\n",
    "            current = self.start\n",
    "            while current.next:\n",
    "                current = current.next\n",
    "            current.next = Node(data, current, None)\n",
    "    def insert_after(self, data, after):\n",
    "        current = self.start\n",
    "        while current.next:\n",
    "            if current.data == after:\n",
    "                break\n",
    "            current = current.next\n",
    "        current.next = Node(data, current, current.next)\n",
    "    def insert_before(self, data, before):\n",
    "        current = self.start\n",
    "        while current.next:\n",
    "            if current.data == before:\n",
    "                break\n",
    "            current = current.next\n",
    "        current.prev = Node(data, current.prev, current)\n",
    "    def delete_at_start(self):\n",
    "        self.start = self.start.next\n",
    "        self.start.prev = None\n",
    "    def delete_at_end(self):\n",
    "        current = self.start\n",
    "        while current.next:\n",
    "            current = current.next\n",
    "        current.prev.next = None\n",
    "    def delete(self, data):\n",
    "        current = self.start\n",
    "        while current.next:\n",
    "            if current.data == data:\n",
    "                break\n",
    "            current = current.next\n",
    "        current.prev.next = current.next\n",
    "        if current.next is not None:\n",
    "            current.next.prev = current.prev\n",
    "        \n",
    "    def printDll(self):\n",
    "        current = self.start\n",
    "        while current:\n",
    "            print(current.data, end = ' ')\n",
    "            current = current.next\n",
    "        print()"
   ]
  },
  {
   "cell_type": "code",
   "execution_count": 46,
   "metadata": {},
   "outputs": [
    {
     "name": "stdout",
     "output_type": "stream",
     "text": [
      "2 3 4 5 6 8 \n"
     ]
    }
   ],
   "source": [
    "dll = DLL()\n",
    "dll.insert_at_start(4)\n",
    "dll.insert_at_start(3)\n",
    "dll.insert_at_start(2)\n",
    "dll.insert_at_start(1)\n",
    "dll.insert_at_end(8)\n",
    "dll.insert_at_end(9)\n",
    "dll.insert_at_end(10)\n",
    "dll.insert_after(5,4)\n",
    "dll.insert_after(6,5)\n",
    "dll.insert_before(7,8)\n",
    "dll.delete_at_start()\n",
    "dll.delete_at_end()\n",
    "dll.delete(9)\n",
    "dll.printDll()"
   ]
  }
 ],
 "metadata": {
  "kernelspec": {
   "display_name": ".venv",
   "language": "python",
   "name": "python3"
  },
  "language_info": {
   "codemirror_mode": {
    "name": "ipython",
    "version": 3
   },
   "file_extension": ".py",
   "mimetype": "text/x-python",
   "name": "python",
   "nbconvert_exporter": "python",
   "pygments_lexer": "ipython3",
   "version": "3.13.1"
  }
 },
 "nbformat": 4,
 "nbformat_minor": 2
}
