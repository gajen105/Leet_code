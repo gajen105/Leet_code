{
 "cells": [
  {
   "cell_type": "code",
   "execution_count": null,
   "metadata": {},
   "outputs": [],
   "source": [
    "class Queue:\n",
    "    def __init__(self):\n",
    "        self.queue = []\n",
    "        self.count = 0\n",
    "    def is_empty(self):\n",
    "        return len(self.queue) == 0\n",
    "    def enqueue(self, data):\n",
    "        self.queue.append(data)\n",
    "        self.count+=1\n",
    "    def dequeue(self):\n",
    "        if self.is_empty():\n",
    "            raise IndexError(\"Queue UnderFlow\")\n",
    "        data = self.queue.pop(0)\n",
    "        self.count-=1\n",
    "        return data\n",
    "    def get_front(self):\n",
    "        if self.is_empty():\n",
    "            raise IndexError(\"Queue UnderFlow\")\n",
    "        return self.queue[0]\n",
    "    def get_rear(self):\n",
    "        if self.is_empty():\n",
    "            raise IndexError(\"Queue UnderFlow\")\n",
    "        return self.queue[-1]\n",
    "    def size(self):\n",
    "        return self.count"
   ]
  },
  {
   "cell_type": "code",
   "execution_count": null,
   "metadata": {},
   "outputs": [],
   "source": [
    "queue = Queue()\n",
    "print(queue.is_empty())\n",
    "try:\n",
    "    print(queue.get_front())\n",
    "except IndexError as e:\n",
    "    print(e.args[0])\n",
    "queue.enqueue(1)\n",
    "queue.enqueue(2)\n",
    "queue.enqueue(3)\n",
    "queue.enqueue(4)\n",
    "queue.enqueue(5)\n",
    "print(queue.get_front())\n",
    "print(queue.get_rear())\n",
    "print(queue.dequeue())\n",
    "print(queue.get_front())\n",
    "print(queue.size())"
   ]
  }
 ],
 "metadata": {
  "kernelspec": {
   "display_name": ".venv",
   "language": "python",
   "name": "python3"
  },
  "language_info": {
   "codemirror_mode": {
    "name": "ipython",
    "version": 3
   },
   "file_extension": ".py",
   "mimetype": "text/x-python",
   "name": "python",
   "nbconvert_exporter": "python",
   "pygments_lexer": "ipython3",
   "version": "3.13.1"
  }
 },
 "nbformat": 4,
 "nbformat_minor": 2
}
