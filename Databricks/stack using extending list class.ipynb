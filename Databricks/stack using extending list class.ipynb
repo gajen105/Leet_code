{
 "cells": [
  {
   "cell_type": "code",
   "execution_count": 1,
   "metadata": {},
   "outputs": [
    {
     "name": "stdout",
     "output_type": "stream",
     "text": [
      "3\n",
      "2\n",
      "2\n",
      "False\n",
      "2\n",
      "1\n",
      "True\n"
     ]
    },
    {
     "ename": "IndexError",
     "evalue": "pop from empty stack",
     "output_type": "error",
     "traceback": [
      "\u001b[1;31m---------------------------------------------------------------------------\u001b[0m",
      "\u001b[1;31mIndexError\u001b[0m                                Traceback (most recent call last)",
      "Cell \u001b[1;32mIn[1], line 28\u001b[0m\n\u001b[0;32m     26\u001b[0m \u001b[38;5;28mprint\u001b[39m(stack\u001b[38;5;241m.\u001b[39mpop())\n\u001b[0;32m     27\u001b[0m \u001b[38;5;28mprint\u001b[39m(stack\u001b[38;5;241m.\u001b[39mis_empty())\n\u001b[1;32m---> 28\u001b[0m \u001b[38;5;28mprint\u001b[39m(\u001b[43mstack\u001b[49m\u001b[38;5;241;43m.\u001b[39;49m\u001b[43mpop\u001b[49m\u001b[43m(\u001b[49m\u001b[43m)\u001b[49m)\n",
      "Cell \u001b[1;32mIn[1], line 8\u001b[0m, in \u001b[0;36mstack.pop\u001b[1;34m(self)\u001b[0m\n\u001b[0;32m      6\u001b[0m \u001b[38;5;28;01mdef\u001b[39;00m\u001b[38;5;250m \u001b[39m\u001b[38;5;21mpop\u001b[39m(\u001b[38;5;28mself\u001b[39m):\n\u001b[0;32m      7\u001b[0m     \u001b[38;5;28;01mif\u001b[39;00m \u001b[38;5;28mself\u001b[39m\u001b[38;5;241m.\u001b[39mis_empty():\n\u001b[1;32m----> 8\u001b[0m         \u001b[38;5;28;01mraise\u001b[39;00m \u001b[38;5;167;01mIndexError\u001b[39;00m(\u001b[38;5;124m\"\u001b[39m\u001b[38;5;124mpop from empty stack\u001b[39m\u001b[38;5;124m\"\u001b[39m)\n\u001b[0;32m      9\u001b[0m     \u001b[38;5;28;01mreturn\u001b[39;00m \u001b[38;5;28msuper\u001b[39m()\u001b[38;5;241m.\u001b[39mpop()\n",
      "\u001b[1;31mIndexError\u001b[0m: pop from empty stack"
     ]
    }
   ],
   "source": [
    "class stack(list):\n",
    "    def push(self, item):\n",
    "        self.append(item)\n",
    "    def is_empty(self):\n",
    "        return len(self) == 0\n",
    "    def pop(self):\n",
    "        if self.is_empty():\n",
    "            raise IndexError(\"pop from empty stack\")\n",
    "        return super().pop()\n",
    "    def peek(self):\n",
    "        if self.is_empty():\n",
    "            raise IndexError(\"pop from empty stack\")\n",
    "        return self[-1]\n",
    "    def size(self):\n",
    "        return len(self)\n",
    "    \n",
    "stack = stack()\n",
    "stack.push(1)\n",
    "stack.push(2)\n",
    "stack.push(3)\n",
    "print(stack.pop())\n",
    "print(stack.peek())\n",
    "print(stack.size())\n",
    "print(stack.is_empty())\n",
    "print(stack.pop())\n",
    "print(stack.pop())\n",
    "print(stack.is_empty())\n",
    "print(stack.pop())"
   ]
  }
 ],
 "metadata": {
  "kernelspec": {
   "display_name": ".venv",
   "language": "python",
   "name": "python3"
  },
  "language_info": {
   "codemirror_mode": {
    "name": "ipython",
    "version": 3
   },
   "file_extension": ".py",
   "mimetype": "text/x-python",
   "name": "python",
   "nbconvert_exporter": "python",
   "pygments_lexer": "ipython3",
   "version": "3.13.1"
  }
 },
 "nbformat": 4,
 "nbformat_minor": 2
}
