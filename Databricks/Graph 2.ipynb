{
 "cells": [
  {
   "cell_type": "code",
   "execution_count": 1,
   "metadata": {},
   "outputs": [],
   "source": [
    "class Graph:\n",
    "    def __init__(self,vno):\n",
    "        self.vertex_count = vno\n",
    "        self.adj_matrix = {}\n",
    "    def add_edge(self, u,v):\n",
    "        if 0<=u<self.vertex_count and  0<=v<self.vertex_count:\n",
    "            self.adj_matrix[u] = self.adj_matrix[u].append(v) if self.adj_matrix[u] else [v]\n",
    "            self.adj_matrix[v] = self.adj_matrix[v].append(u) if self.adj_matrix[v] else [u]\n",
    "        else: print(\"Invalid Vertex\")\n",
    "    def remove_edge(self, u,v):\n",
    "        if 0<=u<self.vertex_count and  0<=v<self.vertex_count:\n",
    "            self.adj_matrix[u] = self.adj_matrix[u].remove(v) if self.adj_matrix[u] else []\n",
    "            self.adj_matrix[v] = self.adj_matrix[v].remove(u) if self.adj_matrix[v] else []\n",
    "        else: print(\"Invalid Vertex\")\n",
    "    def has_edge(self, u,v):\n",
    "        if 0<=u<self.vertex_count and  0<=v<self.vertex_count:\n",
    "            return self.adj_matrix[u][v] !=0\n",
    "        else: print(\"Invalid Vertex\")\n",
    "    def print_adj_matrix(self):\n",
    "        for row_list in self.adj_matrix:\n",
    "            print(\" \".join(map(str, row_list)))"
   ]
  }
 ],
 "metadata": {
  "kernelspec": {
   "display_name": ".venv",
   "language": "python",
   "name": "python3"
  },
  "language_info": {
   "codemirror_mode": {
    "name": "ipython",
    "version": 3
   },
   "file_extension": ".py",
   "mimetype": "text/x-python",
   "name": "python",
   "nbconvert_exporter": "python",
   "pygments_lexer": "ipython3",
   "version": "3.13.1"
  }
 },
 "nbformat": 4,
 "nbformat_minor": 2
}
