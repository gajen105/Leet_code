{
 "cells": [
  {
   "cell_type": "code",
   "execution_count": 17,
   "metadata": {},
   "outputs": [],
   "source": [
    "class Graph:\n",
    "    def __init__(self,vno):\n",
    "        self.vertex_count = vno\n",
    "        self.adj_matrix = {v:[] for v in range(vno)}\n",
    "    def add_edge(self, u,v, weight=1):\n",
    "        if 0<=u<self.vertex_count and  0<=v<self.vertex_count:\n",
    "            self.adj_matrix[u].append((v, weight)) \n",
    "            self.adj_matrix[v].append((u, weight)) \n",
    "        else: print(\"Invalid Vertex\")\n",
    "    def remove_edge(self, u,v):\n",
    "        if 0<=u<self.vertex_count and  0<=v<self.vertex_count:\n",
    "            self.adj_matrix[u] = [ (vertex, weitgh) for vertex,weitgh in self.adj_matrix[u] if vertex !=v]\n",
    "            self.adj_matrix[v] = [ (vertex, weitgh) for vertex,weitgh in self.adj_matrix[v] if vertex !=u]\n",
    "        else: print(\"Invalid Vertex\")\n",
    "    def has_edge(self, u,v):\n",
    "        if 0<=u<self.vertex_count and  0<=v<self.vertex_count:\n",
    "            return any( vertex == v for vertex, x in self.adj_matrix[u])\n",
    "        else: \n",
    "            print(\"Invalid Vertex\")\n",
    "\n",
    "    def print_adj_matrix(self):\n",
    "        for vertex,list in self.adj_matrix.items():\n",
    "            print(f\"V {vertex}: {list}\")"
   ]
  },
  {
   "cell_type": "code",
   "execution_count": 20,
   "metadata": {},
   "outputs": [
    {
     "name": "stdout",
     "output_type": "stream",
     "text": [
      "V 0: [(1, 1), (2, 1)]\n",
      "V 1: [(0, 1), (2, 5)]\n",
      "V 2: [(0, 1), (1, 5)]\n",
      "\n",
      "V 0: [(1, 1), (2, 1)]\n",
      "V 1: [(0, 1)]\n",
      "V 2: [(0, 1)]\n"
     ]
    }
   ],
   "source": [
    "g = Graph(3)\n",
    "g.add_edge(0,1)\n",
    "g.add_edge(0,2)\n",
    "g.add_edge(1,2,5)\n",
    "g.print_adj_matrix() \n",
    "g.remove_edge(1,2)\n",
    "print()\n",
    "g.print_adj_matrix() "
   ]
  }
 ],
 "metadata": {
  "kernelspec": {
   "display_name": ".venv",
   "language": "python",
   "name": "python3"
  },
  "language_info": {
   "codemirror_mode": {
    "name": "ipython",
    "version": 3
   },
   "file_extension": ".py",
   "mimetype": "text/x-python",
   "name": "python",
   "nbconvert_exporter": "python",
   "pygments_lexer": "ipython3",
   "version": "3.13.1"
  }
 },
 "nbformat": 4,
 "nbformat_minor": 2
}
