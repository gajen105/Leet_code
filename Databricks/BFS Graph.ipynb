{
 "cells": [
  {
   "cell_type": "code",
   "execution_count": 68,
   "metadata": {},
   "outputs": [],
   "source": [
    "class Queue:\n",
    "    def __init__(self):\n",
    "        self.queue = []\n",
    "        self.count = 0\n",
    "    def is_empty(self):\n",
    "        return len(self.queue) == 0\n",
    "    def enqueue(self, data):\n",
    "        self.queue.append(data)\n",
    "        self.count+=1\n",
    "    def dequeue(self):\n",
    "        if self.is_empty():\n",
    "            raise IndexError(\"Queue UnderFlow\")\n",
    "        data = self.queue.pop(0)\n",
    "        self.count-=1\n",
    "        return data\n",
    "    def get_front(self):\n",
    "        if self.is_empty():\n",
    "            raise IndexError(\"Queue UnderFlow\")\n",
    "        return self.queue[0]\n",
    "    def get_rear(self):\n",
    "        if self.is_empty():\n",
    "            raise IndexError(\"Queue UnderFlow\")\n",
    "        return self.queue[-1]\n",
    "    def size(self):\n",
    "        return self.count"
   ]
  },
  {
   "cell_type": "code",
   "execution_count": 69,
   "metadata": {},
   "outputs": [],
   "source": [
    "class Graph:\n",
    "    def __init__(self,vno):\n",
    "        self.vertex_count = vno\n",
    "        self.adj_matrix = {v:[] for v in range(vno)}\n",
    "    def add_edge(self, u,v, weight=1):\n",
    "        if 0<=u<self.vertex_count and  0<=v<self.vertex_count:\n",
    "            self.adj_matrix[u].append((v, weight)) \n",
    "            self.adj_matrix[v].append((u, weight)) \n",
    "        else: print(\"Invalid Vertex\")\n",
    "    def remove_edge(self, u,v):\n",
    "        if 0<=u<self.vertex_count and  0<=v<self.vertex_count:\n",
    "            self.adj_matrix[u] = [ (vertex, weitgh) for vertex,weitgh in self.adj_matrix[u] if vertex !=v]\n",
    "            self.adj_matrix[v] = [ (vertex, weitgh) for vertex,weitgh in self.adj_matrix[v] if vertex !=u]\n",
    "        else: print(\"Invalid Vertex\")\n",
    "    def has_edge(self, u,v):\n",
    "        if 0<=u<self.vertex_count and  0<=v<self.vertex_count:\n",
    "            return any( vertex == v for vertex, x in self.adj_matrix[u])\n",
    "        else: \n",
    "            print(\"Invalid Vertex\")\n",
    "\n",
    "    def print_adj_matrix(self):\n",
    "        for vertex,list in self.adj_matrix.items():\n",
    "            print(f\"V {vertex}: {list}\")\n",
    "    def bfs(self, source):\n",
    "        q = Queue()\n",
    "        visited = [False]*self.vertex_count\n",
    "        q.enqueue(source)\n",
    "        visited[source] = True\n",
    "        while not q.is_empty():\n",
    "            value = q.get_front()\n",
    "            print(str(value)+ \" is visited\")\n",
    "            li = [ v for v,w in self.adj_matrix[value]]\n",
    "            print(str(value)+ \" is connected to \", li)\n",
    "            q.dequeue()\n",
    "            for v,w in self.adj_matrix[value]:\n",
    "                if visited[v] == False:\n",
    "                    q.enqueue(v)\n",
    "                    visited[v]=True\n"
   ]
  },
  {
   "cell_type": "code",
   "execution_count": null,
   "metadata": {},
   "outputs": [],
   "source": [
    "g = Graph(5)\n",
    "g.add_edge(0,1)\n",
    "g.add_edge(0,2)\n",
    "g.add_edge(1,2,2)\n",
    "g.add_edge(1,3,3)\n",
    "g.add_edge(2,3,3)\n",
    "g.add_edge(4,3,4)\n",
    "g.add_edge(4,2,4)\n",
    "# g.print_adj_matrix()\n",
    "g.bfs(0) "
   ]
  }
 ],
 "metadata": {
  "kernelspec": {
   "display_name": ".venv",
   "language": "python",
   "name": "python3"
  },
  "language_info": {
   "codemirror_mode": {
    "name": "ipython",
    "version": 3
   },
   "file_extension": ".py",
   "mimetype": "text/x-python",
   "name": "python",
   "nbconvert_exporter": "python",
   "pygments_lexer": "ipython3",
   "version": "3.13.2"
  }
 },
 "nbformat": 4,
 "nbformat_minor": 2
}
