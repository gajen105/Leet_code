{
 "cells": [
  {
   "cell_type": "code",
   "execution_count": 5,
   "metadata": {},
   "outputs": [],
   "source": [
    "from SLL import *"
   ]
  },
  {
   "cell_type": "code",
   "execution_count": 6,
   "metadata": {},
   "outputs": [
    {
     "name": "stdout",
     "output_type": "stream",
     "text": [
      "3\n",
      "2\n",
      "False\n",
      "2\n",
      "1\n",
      "True\n"
     ]
    }
   ],
   "source": [
    "class Stack(SLL):\n",
    "    def __init__(self):\n",
    "        super().__init__()\n",
    "        self.count = 0\n",
    "    def is_empty(self):\n",
    "        return super().is_empty()\n",
    "    def push(self, data):\n",
    "        self.count += 1\n",
    "        self.insert_at_start(data)\n",
    "    def pop(self):\n",
    "        if self.is_empty():\n",
    "            raise IndexError(\"stack is empty\")\n",
    "        self.count -= 1\n",
    "        data = self.start.data\n",
    "        self.delete_at_start()\n",
    "        return data\n",
    "    def peek(self):\n",
    "        return self.start.data\n",
    "stack = Stack()\n",
    "stack.push(1)\n",
    "stack.push(2)\n",
    "stack.push(3)\n",
    "print(stack.pop())\n",
    "print(stack.peek())\n",
    "# print(stack.size())\n",
    "print(stack.is_empty())\n",
    "print(stack.pop())\n",
    "print(stack.pop())\n",
    "print(stack.is_empty())\n",
    "# print(stack.pop())"
   ]
  }
 ],
 "metadata": {
  "kernelspec": {
   "display_name": ".venv",
   "language": "python",
   "name": "python3"
  },
  "language_info": {
   "codemirror_mode": {
    "name": "ipython",
    "version": 3
   },
   "file_extension": ".py",
   "mimetype": "text/x-python",
   "name": "python",
   "nbconvert_exporter": "python",
   "pygments_lexer": "ipython3",
   "version": "3.13.1"
  }
 },
 "nbformat": 4,
 "nbformat_minor": 2
}
