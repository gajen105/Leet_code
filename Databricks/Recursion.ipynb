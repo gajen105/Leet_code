{
 "cells": [
  {
   "cell_type": "code",
   "execution_count": null,
   "metadata": {},
   "outputs": [],
   "source": [
    "#print first N natural numbers\n",
    "def printN(n):\n",
    "    if n>0:\n",
    "        printN(n-1)\n",
    "    print(n, end = ' ')\n",
    "    # printN(n-1)\n",
    "(printN(2))\n",
    "print(printN(10))\n",
    "print(printN(20))"
   ]
  },
  {
   "cell_type": "code",
   "execution_count": null,
   "metadata": {},
   "outputs": [],
   "source": [
    "#print N in reverse\n",
    "def printResN(n):\n",
    "    print(n, end = ' ')\n",
    "    if n>0:\n",
    "        printResN(n-1)\n",
    "(printResN(10))"
   ]
  },
  {
   "cell_type": "code",
   "execution_count": null,
   "metadata": {},
   "outputs": [],
   "source": [
    "#print N odd numbers\n",
    "def printN_odd(n):\n",
    "    if n>0:\n",
    "        printN_odd(n-1)\n",
    "    print(2*n-1, end = ' ')\n",
    "(printN_odd(10))"
   ]
  },
  {
   "cell_type": "code",
   "execution_count": null,
   "metadata": {},
   "outputs": [],
   "source": [
    "#print N Even numbers\n",
    "def printN_even(n):\n",
    "    if n>0:\n",
    "        printN_even(n-1)\n",
    "    print(2*n, end = ' ')\n",
    "(printN_even(10))"
   ]
  },
  {
   "cell_type": "code",
   "execution_count": null,
   "metadata": {},
   "outputs": [],
   "source": [
    "#print N odd numbers Reverse\n",
    "def printResN_odd(n):\n",
    "    print(2*n, end = ' ')\n",
    "    if n>0:\n",
    "        printResN_odd(n-1)\n",
    "(printResN_odd(10))"
   ]
  },
  {
   "cell_type": "code",
   "execution_count": null,
   "metadata": {},
   "outputs": [],
   "source": [
    "#print N Even numbers Reverse\n",
    "def printResN_even(n):\n",
    "    print(2*n-1, end = ' ')\n",
    "    if n>1:\n",
    "        printResN_even(n-1)\n",
    "printResN_even(10)"
   ]
  },
  {
   "cell_type": "code",
   "execution_count": null,
   "metadata": {},
   "outputs": [],
   "source": [
    "#sum N numbers \n",
    "def sumN(n):\n",
    "    if n==1:\n",
    "        return 1\n",
    "    return n +sumN(n-1)\n",
    "sumN(5)"
   ]
  },
  {
   "cell_type": "code",
   "execution_count": null,
   "metadata": {},
   "outputs": [],
   "source": [
    "#sum N Odd numbers \n",
    "def sumNOdd(n):\n",
    "    if n==1:\n",
    "        return 1\n",
    "    return 2*n-1 +sumNOdd(n-1)\n",
    "sumNOdd(4)"
   ]
  },
  {
   "cell_type": "code",
   "execution_count": null,
   "metadata": {},
   "outputs": [],
   "source": [
    "#sum N Even numbers \n",
    "def sumNOdd(n):\n",
    "    if n==1:\n",
    "        return 2\n",
    "    return 2*n +sumNOdd(n-1)\n",
    "sumNOdd(4)"
   ]
  },
  {
   "cell_type": "code",
   "execution_count": null,
   "metadata": {},
   "outputs": [],
   "source": [
    "#calculate factorial of Number \n",
    "def factorial(n):\n",
    "    if n==1:\n",
    "        return 1\n",
    "    return n*factorial(n-1)\n",
    "factorial(5)"
   ]
  },
  {
   "cell_type": "code",
   "execution_count": null,
   "metadata": {},
   "outputs": [],
   "source": [
    "#sum N Even numbers \n",
    "def squareSumN(n):\n",
    "    if n==1:\n",
    "        return 1\n",
    "    return n**2 +squareSumN(n-1)\n",
    "squareSumN(3)"
   ]
  }
 ],
 "metadata": {
  "kernelspec": {
   "display_name": ".venv",
   "language": "python",
   "name": "python3"
  },
  "language_info": {
   "codemirror_mode": {
    "name": "ipython",
    "version": 3
   },
   "file_extension": ".py",
   "mimetype": "text/x-python",
   "name": "python",
   "nbconvert_exporter": "python",
   "pygments_lexer": "ipython3",
   "version": "3.13.1"
  }
 },
 "nbformat": 4,
 "nbformat_minor": 2
}
