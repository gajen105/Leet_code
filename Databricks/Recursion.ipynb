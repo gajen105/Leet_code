{
 "cells": [
  {
   "cell_type": "code",
   "execution_count": 54,
   "metadata": {},
   "outputs": [
    {
     "name": "stdout",
     "output_type": "stream",
     "text": [
      "0 1 2 0 1 2 3 4 5 6 7 8 9 10 None\n",
      "0 1 2 3 4 5 6 7 8 9 10 11 12 13 14 15 16 17 18 19 20 None\n"
     ]
    }
   ],
   "source": [
    "#print first N natural numbers\n",
    "def printN(n):\n",
    "    if n>0:\n",
    "        printN(n-1)\n",
    "    print(n, end = ' ')\n",
    "    # printN(n-1)\n",
    "(printN(2))\n",
    "print(printN(10))\n",
    "print(printN(20))"
   ]
  },
  {
   "cell_type": "code",
   "execution_count": 16,
   "metadata": {},
   "outputs": [
    {
     "name": "stdout",
     "output_type": "stream",
     "text": [
      "10 9 8 7 6 5 4 3 2 1 0 "
     ]
    }
   ],
   "source": [
    "#print N in reverse\n",
    "def printResN(n):\n",
    "    print(n, end = ' ')\n",
    "    if n>0:\n",
    "        printResN(n-1)\n",
    "(printResN(10))"
   ]
  },
  {
   "cell_type": "code",
   "execution_count": 34,
   "metadata": {},
   "outputs": [
    {
     "name": "stdout",
     "output_type": "stream",
     "text": [
      "-1 1 3 5 7 9 11 13 15 17 19 "
     ]
    }
   ],
   "source": [
    "#print N odd numbers\n",
    "def printN_odd(n):\n",
    "    if n>0:\n",
    "        printN_odd(n-1)\n",
    "    print(2*n-1, end = ' ')\n",
    "(printN_odd(10))"
   ]
  },
  {
   "cell_type": "code",
   "execution_count": 35,
   "metadata": {},
   "outputs": [
    {
     "name": "stdout",
     "output_type": "stream",
     "text": [
      "0 2 4 6 8 10 12 14 16 18 20 "
     ]
    }
   ],
   "source": [
    "#print N Even numbers\n",
    "def printN_even(n):\n",
    "    if n>0:\n",
    "        printN_even(n-1)\n",
    "    print(2*n, end = ' ')\n",
    "(printN_even(10))"
   ]
  },
  {
   "cell_type": "code",
   "execution_count": 36,
   "metadata": {},
   "outputs": [
    {
     "name": "stdout",
     "output_type": "stream",
     "text": [
      "20 18 16 14 12 10 8 6 4 2 0 "
     ]
    }
   ],
   "source": [
    "#print N odd numbers Reverse\n",
    "def printResN_odd(n):\n",
    "    print(2*n, end = ' ')\n",
    "    if n>0:\n",
    "        printResN_odd(n-1)\n",
    "(printResN_odd(10))"
   ]
  },
  {
   "cell_type": "code",
   "execution_count": 38,
   "metadata": {},
   "outputs": [
    {
     "name": "stdout",
     "output_type": "stream",
     "text": [
      "19 17 15 13 11 9 7 5 3 1 "
     ]
    }
   ],
   "source": [
    "#print N Even numbers Reverse\n",
    "def printResN_even(n):\n",
    "    print(2*n-1, end = ' ')\n",
    "    if n>1:\n",
    "        printResN_even(n-1)\n",
    "printResN_even(10)"
   ]
  },
  {
   "cell_type": "code",
   "execution_count": 41,
   "metadata": {},
   "outputs": [
    {
     "data": {
      "text/plain": [
       "15"
      ]
     },
     "execution_count": 41,
     "metadata": {},
     "output_type": "execute_result"
    }
   ],
   "source": [
    "#sum N numbers \n",
    "def sumN(n):\n",
    "    if n==1:\n",
    "        return 1\n",
    "    return n +sumN(n-1)\n",
    "sumN(5)"
   ]
  },
  {
   "cell_type": "code",
   "execution_count": 44,
   "metadata": {},
   "outputs": [
    {
     "data": {
      "text/plain": [
       "16"
      ]
     },
     "execution_count": 44,
     "metadata": {},
     "output_type": "execute_result"
    }
   ],
   "source": [
    "#sum N Odd numbers \n",
    "def sumNOdd(n):\n",
    "    if n==1:\n",
    "        return 1\n",
    "    return 2*n-1 +sumNOdd(n-1)\n",
    "sumNOdd(4)"
   ]
  },
  {
   "cell_type": "code",
   "execution_count": 46,
   "metadata": {},
   "outputs": [
    {
     "data": {
      "text/plain": [
       "20"
      ]
     },
     "execution_count": 46,
     "metadata": {},
     "output_type": "execute_result"
    }
   ],
   "source": [
    "#sum N Even numbers \n",
    "def sumNOdd(n):\n",
    "    if n==1:\n",
    "        return 2\n",
    "    return 2*n +sumNOdd(n-1)\n",
    "sumNOdd(4)"
   ]
  },
  {
   "cell_type": "code",
   "execution_count": 53,
   "metadata": {},
   "outputs": [
    {
     "data": {
      "text/plain": [
       "120"
      ]
     },
     "execution_count": 53,
     "metadata": {},
     "output_type": "execute_result"
    }
   ],
   "source": [
    "#calculate factorial of Number \n",
    "def factorial(n):\n",
    "    if n==1:\n",
    "        return 1\n",
    "    return n*factorial(n-1)\n",
    "factorial(5)"
   ]
  },
  {
   "cell_type": "code",
   "execution_count": 50,
   "metadata": {},
   "outputs": [
    {
     "data": {
      "text/plain": [
       "14"
      ]
     },
     "execution_count": 50,
     "metadata": {},
     "output_type": "execute_result"
    }
   ],
   "source": [
    "#sum N Even numbers \n",
    "def squareSumN(n):\n",
    "    if n==1:\n",
    "        return 1\n",
    "    return n**2 +squareSumN(n-1)\n",
    "squareSumN(3)"
   ]
  }
 ],
 "metadata": {
  "kernelspec": {
   "display_name": ".venv",
   "language": "python",
   "name": "python3"
  },
  "language_info": {
   "codemirror_mode": {
    "name": "ipython",
    "version": 3
   },
   "file_extension": ".py",
   "mimetype": "text/x-python",
   "name": "python",
   "nbconvert_exporter": "python",
   "pygments_lexer": "ipython3",
   "version": "3.13.1"
  }
 },
 "nbformat": 4,
 "nbformat_minor": 2
}
