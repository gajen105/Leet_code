{
 "cells": [
  {
   "cell_type": "markdown",
   "metadata": {},
   "source": [
    "Given a binary tree, find its minimum depth.\n",
    "\n",
    "The minimum depth is the number of nodes along the shortest path from the root node down to the nearest leaf node.\n",
    "\n",
    "Note: A leaf is a node with no children."
   ]
  },
  {
   "cell_type": "code",
   "execution_count": 2,
   "metadata": {},
   "outputs": [],
   "source": [
    "# Definition for a binary tree node.\n",
    "# class TreeNode(object):\n",
    "#     def __init__(self, val=0, left=None, right=None):\n",
    "#         self.val = val\n",
    "#         self.left = left\n",
    "#         self.right = right\n",
    "class Solution(object):\n",
    "    def minDepth(self, root):\n",
    "        \"\"\"\n",
    "        :type root: Optional[TreeNode]\n",
    "        :rtype: int\n",
    "        \"\"\"\n",
    "        from collections import deque\n",
    "        if root is None:\n",
    "            return 0\n",
    "        q = deque()\n",
    "        q.append(root)\n",
    "        depth =1\n",
    "        while q:\n",
    "            for i in range(len(q)):\n",
    "                node = q.popleft()\n",
    "                if node.left is None and node.right is None:\n",
    "                    return depth\n",
    "                if node.left: q.append(node.left)\n",
    "                if node.right: q.append(node.right)\n",
    "            depth+=1\n",
    "        return depth\n",
    "    \n",
    "        "
   ]
  },
  {
   "cell_type": "code",
   "execution_count": null,
   "metadata": {},
   "outputs": [],
   "source": [
    "# Definition for a binary tree node.\n",
    "# class TreeNode(object):\n",
    "#     def __init__(self, val=0, left=None, right=None):\n",
    "#         self.val = val\n",
    "#         self.left = left\n",
    "#         self.right = right\n",
    "class Solution(object):\n",
    "    def minDepth(self, root):\n",
    "        \"\"\"\n",
    "        :type root: Optional[TreeNode]\n",
    "        :rtype: int\n",
    "        \"\"\"\n",
    "        if root is None:\n",
    "            return 0\n",
    "        left = self.minDepth(root.left)\n",
    "        right = self.minDepth(root.right)\n",
    "        if left ==0 or right ==0:\n",
    "            return left+right+1\n",
    "        return min(left,right)+1"
   ]
  }
 ],
 "metadata": {
  "kernelspec": {
   "display_name": ".venv",
   "language": "python",
   "name": "python3"
  },
  "language_info": {
   "codemirror_mode": {
    "name": "ipython",
    "version": 3
   },
   "file_extension": ".py",
   "mimetype": "text/x-python",
   "name": "python",
   "nbconvert_exporter": "python",
   "pygments_lexer": "ipython3",
   "version": "3.13.2"
  }
 },
 "nbformat": 4,
 "nbformat_minor": 2
}
