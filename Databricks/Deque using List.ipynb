{
 "cells": [
  {
   "cell_type": "code",
   "execution_count": null,
   "metadata": {},
   "outputs": [],
   "source": [
    "class Deque:\n",
    "    def __init__(self):\n",
    "        self.deque = []\n",
    "    def is_empty(self):\n",
    "        return len(self.deque)==0\n",
    "    def insert_front(self,data):\n",
    "        self.deque.insert(0,data)\n",
    "    def insert_rear(self,data):\n",
    "        self.deque.append(data)\n",
    "    def delete_front(self):\n",
    "        if not self.is_empty():\n",
    "            self.deque.pop(0)\n",
    "        else: raise IndexError(\"Deque is Empty\")\n",
    "    def delete_rear(self):\n",
    "        if not self.is_empty():\n",
    "            self.deque.pop()\n",
    "        else: raise IndexError(\"Deque is Empty\")\n",
    "    def get_front(self):\n",
    "        if not self.is_empty():\n",
    "            return self.deque[0]\n",
    "        else: raise IndexError(\"Deque is Empty\")\n",
    "    def get_rear(self):\n",
    "        if not self.is_empty():\n",
    "            return self.deque[-1]\n",
    "        else: raise IndexError(\"Deque is Empty\")\n",
    "    def size(self):\n",
    "        return len(self.deque)"
   ]
  },
  {
   "cell_type": "code",
   "execution_count": null,
   "metadata": {},
   "outputs": [],
   "source": [
    "deque = Deque()\n",
    "print(deque.is_empty())\n",
    "deque.insert_front(10)\n",
    "deque.insert_rear(20)\n",
    "deque.insert_rear(30)\n",
    "print(deque.get_front(), deque.get_rear())\n",
    "deque.delete_front()\n",
    "deque.delete_rear()\n",
    "print(deque.get_front(), deque.get_rear())"
   ]
  }
 ],
 "metadata": {
  "kernelspec": {
   "display_name": ".venv",
   "language": "python",
   "name": "python3"
  },
  "language_info": {
   "codemirror_mode": {
    "name": "ipython",
    "version": 3
   },
   "file_extension": ".py",
   "mimetype": "text/x-python",
   "name": "python",
   "nbconvert_exporter": "python",
   "pygments_lexer": "ipython3",
   "version": "3.13.1"
  }
 },
 "nbformat": 4,
 "nbformat_minor": 2
}
