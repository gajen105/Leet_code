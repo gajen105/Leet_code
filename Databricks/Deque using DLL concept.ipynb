{
 "cells": [
  {
   "cell_type": "code",
   "execution_count": 8,
   "metadata": {},
   "outputs": [],
   "source": [
    "class Node:\n",
    "    def __init__(self,data,prev=None,next=None):\n",
    "        self.data = data\n",
    "        self.prev = prev\n",
    "        self.next = next\n",
    "class Deque:\n",
    "    def __init__(self, front=None,rear=None):\n",
    "        self.front = front\n",
    "        self.rear = rear\n",
    "        self.count = 0\n",
    "    def is_empty(self):\n",
    "        return self.count == 0 \n",
    "        # return self.front == None\n",
    "    def insert_front(self,data):\n",
    "        node = Node(data,None,self.front)\n",
    "        if self.front == None:\n",
    "            self.rear = node\n",
    "        else:\n",
    "            self.front.prev=node\n",
    "        self.front = node\n",
    "        self.count += 1\n",
    "    def insert_rear(self,data):\n",
    "        node = Node(data,self.rear,None)\n",
    "        if self.rear == None:\n",
    "            self.front = node\n",
    "        else: \n",
    "            self.rear.next = node\n",
    "        self.rear = node\n",
    "        self.count += 1\n",
    "    def get_front(self):\n",
    "        if not self.is_empty():\n",
    "            return self.front.data\n",
    "        else: raise IndexError(\"Deque is Empty\")\n",
    "    def get_rear(self):\n",
    "        if not self.is_empty():\n",
    "            return self.rear.data\n",
    "        else: raise IndexError(\"Deque is Empty\")\n",
    "    def delete_front(self):\n",
    "        if not self.is_empty():\n",
    "            if self.front==self.rear:\n",
    "                self.front,self.rear = None,None\n",
    "            else:\n",
    "                self.front.next.prev = None\n",
    "                self.front = self.front.next\n",
    "            self.count -= 1\n",
    "        else: raise IndexError(\"Deque is Empty\")\n",
    "    def delete_rear(self):\n",
    "        if not self.is_empty():\n",
    "            if self.front ==self.rear:\n",
    "                self.front,self.rear = None,None\n",
    "            else:\n",
    "                self.rear.next = None\n",
    "                self.rear = self.rear.prev\n",
    "            self.count -= 1\n",
    "        else: raise IndexError(\"Deque is Empty\")\n",
    "    def size(self):\n",
    "        return self.count    "
   ]
  },
  {
   "cell_type": "code",
   "execution_count": 9,
   "metadata": {},
   "outputs": [
    {
     "name": "stdout",
     "output_type": "stream",
     "text": [
      "True\n",
      "10 30\n",
      "3\n",
      "20 30\n",
      "1\n",
      "20 20\n",
      "0\n"
     ]
    },
    {
     "ename": "IndexError",
     "evalue": "Deque is Empty",
     "output_type": "error",
     "traceback": [
      "\u001b[1;31m---------------------------------------------------------------------------\u001b[0m",
      "\u001b[1;31mIndexError\u001b[0m                                Traceback (most recent call last)",
      "Cell \u001b[1;32mIn[9], line 15\u001b[0m\n\u001b[0;32m     13\u001b[0m deque\u001b[38;5;241m.\u001b[39mdelete_front()\n\u001b[0;32m     14\u001b[0m \u001b[38;5;28mprint\u001b[39m(deque\u001b[38;5;241m.\u001b[39msize())\n\u001b[1;32m---> 15\u001b[0m \u001b[38;5;28mprint\u001b[39m(\u001b[43mdeque\u001b[49m\u001b[38;5;241;43m.\u001b[39;49m\u001b[43mget_front\u001b[49m\u001b[43m(\u001b[49m\u001b[43m)\u001b[49m, deque\u001b[38;5;241m.\u001b[39mget_rear())\n",
      "Cell \u001b[1;32mIn[8], line 33\u001b[0m, in \u001b[0;36mDeque.get_front\u001b[1;34m(self)\u001b[0m\n\u001b[0;32m     31\u001b[0m \u001b[38;5;28;01mif\u001b[39;00m \u001b[38;5;129;01mnot\u001b[39;00m \u001b[38;5;28mself\u001b[39m\u001b[38;5;241m.\u001b[39mis_empty():\n\u001b[0;32m     32\u001b[0m     \u001b[38;5;28;01mreturn\u001b[39;00m \u001b[38;5;28mself\u001b[39m\u001b[38;5;241m.\u001b[39mfront\u001b[38;5;241m.\u001b[39mdata\n\u001b[1;32m---> 33\u001b[0m \u001b[38;5;28;01melse\u001b[39;00m: \u001b[38;5;28;01mraise\u001b[39;00m \u001b[38;5;167;01mIndexError\u001b[39;00m(\u001b[38;5;124m\"\u001b[39m\u001b[38;5;124mDeque is Empty\u001b[39m\u001b[38;5;124m\"\u001b[39m)\n",
      "\u001b[1;31mIndexError\u001b[0m: Deque is Empty"
     ]
    }
   ],
   "source": [
    "deque = Deque()\n",
    "print(deque.is_empty())\n",
    "deque.insert_front(10)\n",
    "deque.insert_rear(20)\n",
    "deque.insert_rear(30)\n",
    "print(deque.get_front(), deque.get_rear())\n",
    "print(deque.size())\n",
    "deque.delete_front()\n",
    "print(deque.get_front(), deque.get_rear())\n",
    "deque.delete_rear()\n",
    "print(deque.size())\n",
    "print(deque.get_front(), deque.get_rear())\n",
    "deque.delete_front()\n",
    "print(deque.size())\n",
    "print(deque.get_front(), deque.get_rear())"
   ]
  }
 ],
 "metadata": {
  "kernelspec": {
   "display_name": ".venv",
   "language": "python",
   "name": "python3"
  },
  "language_info": {
   "codemirror_mode": {
    "name": "ipython",
    "version": 3
   },
   "file_extension": ".py",
   "mimetype": "text/x-python",
   "name": "python",
   "nbconvert_exporter": "python",
   "pygments_lexer": "ipython3",
   "version": "3.13.1"
  }
 },
 "nbformat": 4,
 "nbformat_minor": 2
}
