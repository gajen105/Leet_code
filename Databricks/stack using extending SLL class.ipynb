{
 "cells": [
  {
   "cell_type": "code",
   "execution_count": null,
   "metadata": {},
   "outputs": [],
   "source": [
    "from SLL import *"
   ]
  },
  {
   "cell_type": "code",
   "execution_count": null,
   "metadata": {},
   "outputs": [],
   "source": [
    "class Stack:\n",
    "    def __init__(self):\n",
    "        self.mystack = SLL()\n",
    "    def is_empty(self):\n",
    "        return self.mystack.is_empty()\n",
    "    def push(self, data):\n",
    "        self.mystack.insert_at_start(data)\n",
    "    def pop(self):\n",
    "        if not self.is_empty():\n",
    "            self.mystack.delete_at_start()\n",
    "    def peek(self):\n",
    "        if not self.is_empty():\n",
    "            return self.mystack.start.data"
   ]
  },
  {
   "cell_type": "code",
   "execution_count": null,
   "metadata": {},
   "outputs": [],
   "source": [
    "stack = Stack()\n",
    "stack.push(10)\n",
    "print(stack.peek())\n",
    "print(stack.pop())\n",
    "print(stack.peek())"
   ]
  }
 ],
 "metadata": {
  "kernelspec": {
   "display_name": ".venv",
   "language": "python",
   "name": "python3"
  },
  "language_info": {
   "codemirror_mode": {
    "name": "ipython",
    "version": 3
   },
   "file_extension": ".py",
   "mimetype": "text/x-python",
   "name": "python",
   "nbconvert_exporter": "python",
   "pygments_lexer": "ipython3",
   "version": "3.13.1"
  }
 },
 "nbformat": 4,
 "nbformat_minor": 2
}
