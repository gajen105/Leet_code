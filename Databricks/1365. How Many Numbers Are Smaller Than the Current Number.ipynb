{
 "cells": [
  {
   "cell_type": "markdown",
   "metadata": {},
   "source": [
    "Given the array nums, for each nums[i] find out how many numbers in the array are smaller than it. That is, for each nums[i] you have to count the number of valid j's such that j != i and nums[j] < nums[i].\n",
    "\n",
    "Return the answer in an array."
   ]
  },
  {
   "cell_type": "code",
   "execution_count": 8,
   "metadata": {},
   "outputs": [
    {
     "name": "stdout",
     "output_type": "stream",
     "text": [
      "[1, 0, 2]\n"
     ]
    }
   ],
   "source": [
    "from typing import List\n",
    "class Solution:\n",
    "    def smallerNumbersThanCurrent(self, nums: List[int]) -> List[int]:\n",
    "        re =[]\n",
    "        for i in nums:\n",
    "            count = 0\n",
    "            for j in nums:\n",
    "                if i>j:\n",
    "                    count +=1\n",
    "            re.append(count)\n",
    "        return re\n",
    "    def smallerNumbersThanCurrent2(self, nums: List[int]) -> List[int]:\n",
    "        li = sorted(nums)\n",
    "        re = []\n",
    "        for i in nums:\n",
    "            re.append(li.index(i))\n",
    "        return re\n",
    "    def smallerNumbersThanCurrent3(self, nums: List[int]) -> List[int]:\n",
    "        temp = sorted(nums)\n",
    "        di = {}\n",
    "        for i,v in enumerate(temp):\n",
    "            if v not in di.keys():\n",
    "                di[v] = i\n",
    "        return [di[num] for num in nums]\n",
    "sol = Solution()\n",
    "nums = [3,2,4]\n",
    "print(sol.smallerNumbersThanCurrent3(nums))"
   ]
  }
 ],
 "metadata": {
  "kernelspec": {
   "display_name": ".venv",
   "language": "python",
   "name": "python3"
  },
  "language_info": {
   "codemirror_mode": {
    "name": "ipython",
    "version": 3
   },
   "file_extension": ".py",
   "mimetype": "text/x-python",
   "name": "python",
   "nbconvert_exporter": "python",
   "pygments_lexer": "ipython3",
   "version": "3.13.2"
  }
 },
 "nbformat": 4,
 "nbformat_minor": 2
}
