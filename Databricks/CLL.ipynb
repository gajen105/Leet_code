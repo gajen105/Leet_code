{
 "cells": [
  {
   "cell_type": "code",
   "execution_count": 1,
   "metadata": {
    "application/vnd.databricks.v1+cell": {
     "cellMetadata": {},
     "inputWidgets": {},
     "nuid": "811d289b-ff23-4bec-8389-c67ecf616d24",
     "showTitle": false,
     "tableResultSettingsMap": {},
     "title": ""
    }
   },
   "outputs": [
    {
     "name": "stdout",
     "output_type": "stream",
     "text": [
      "4 0 6 3 2 1 5 10 11 12 13 \n",
      "6 3 2 1 5 10 11 12 13 \n",
      "3 2 1 10 11 \n"
     ]
    },
    {
     "ename": "TypeError",
     "evalue": "iter() returned non-iterator of type 'CircularLinkedList'",
     "output_type": "error",
     "traceback": [
      "\u001b[1;31m---------------------------------------------------------------------------\u001b[0m",
      "\u001b[1;31mTypeError\u001b[0m                                 Traceback (most recent call last)",
      "Cell \u001b[1;32mIn[1], line 123\u001b[0m\n\u001b[0;32m    121\u001b[0m cll\u001b[38;5;241m.\u001b[39mdelete(\u001b[38;5;241m6\u001b[39m)\n\u001b[0;32m    122\u001b[0m cll\u001b[38;5;241m.\u001b[39mprintCLL()\n\u001b[1;32m--> 123\u001b[0m \u001b[38;5;28;43;01mfor\u001b[39;49;00m\u001b[43m \u001b[49m\u001b[43mi\u001b[49m\u001b[43m \u001b[49m\u001b[38;5;129;43;01min\u001b[39;49;00m\u001b[43m \u001b[49m\u001b[43mcll\u001b[49m\u001b[43m:\u001b[49m\n\u001b[0;32m    124\u001b[0m \u001b[43m    \u001b[49m\u001b[38;5;28;43mprint\u001b[39;49m\u001b[43m(\u001b[49m\u001b[43mi\u001b[49m\u001b[38;5;241;43m.\u001b[39;49m\u001b[43mdata\u001b[49m\u001b[43m,\u001b[49m\u001b[43m \u001b[49m\u001b[43mend\u001b[49m\u001b[43m \u001b[49m\u001b[38;5;241;43m=\u001b[39;49m\u001b[43m \u001b[49m\u001b[38;5;124;43m'\u001b[39;49m\u001b[38;5;124;43m \u001b[39;49m\u001b[38;5;124;43m'\u001b[39;49m\u001b[43m)\u001b[49m\n",
      "\u001b[1;31mTypeError\u001b[0m: iter() returned non-iterator of type 'CircularLinkedList'"
     ]
    }
   ],
   "source": [
    "class Node:\n",
    "    def __init__(self, data,next):\n",
    "        self.data = data\n",
    "        self.next = next\n",
    "class CLLIterator:\n",
    "    def __int__(self, start):\n",
    "        self.start = start\n",
    "        self.current = start\n",
    "        self.count = 0\n",
    "    def __iter__(self):\n",
    "        return self\n",
    "    def __next__(self):\n",
    "        if self.start is None:\n",
    "            raise StopIteration\n",
    "        if self.current is self.current and self.count ==1:\n",
    "            raise StopIteration\n",
    "        # else: count = 0\n",
    "        data = self.current.data\n",
    "        self.current = self.current.next\n",
    "        self.count =1\n",
    "        return data\n",
    "class CircularLinkedList:\n",
    "    def __init__(self,last = None ):\n",
    "        self.last = last\n",
    "    def insert_at_start(self, data): \n",
    "        if self.last is None:\n",
    "            self.last = Node(data, None)\n",
    "            self.last.next = self.last \n",
    "            return\n",
    "        self.last.next = Node(data, self.last.next) \n",
    "    def insert_at_end(self, data): \n",
    "        if self.last is None:\n",
    "            self.last = Node(data, None)\n",
    "            self.last.next = self.last \n",
    "            return\n",
    "        node = Node(data, self.last.next)\n",
    "        self.last.next = node\n",
    "        self.last = node\n",
    "    def insert_after(self, data, x): \n",
    "        current = self.last.next\n",
    "        if self.last.data == x:\n",
    "            self.last.next = Node(data, self.last.next)\n",
    "            self.last = self.last.next\n",
    "            return\n",
    "        while current != self.last.next:\n",
    "            if current.data == x :\n",
    "                break\n",
    "            current = current.next\n",
    "        current.next = Node(data, current.next)\n",
    "    def delete_at_start(self):\n",
    "        if self.last is not None:\n",
    "            if self.last.next == self.last:\n",
    "                self.last = None\n",
    "                return\n",
    "            self.last.next = self.last.next.next\n",
    "    def delete_at_end(self):\n",
    "        if self.last is not None:\n",
    "            if self.last.next == self.last:\n",
    "                self.last = None\n",
    "                return\n",
    "            current = self.last.next\n",
    "            while current.next != self.last:\n",
    "                current = current.next\n",
    "            current.next = self.last.next\n",
    "            self.last = current\n",
    "    def delete(self, x):\n",
    "        if self.last is not None:\n",
    "            if self.last.data == x and self.last.next == self.last:\n",
    "                self.last = None\n",
    "                return\n",
    "            if self.last.next.data == x:\n",
    "                self.delete_at_start()\n",
    "                return\n",
    "            current = self.last.next\n",
    "            while current.next != self.last.next:\n",
    "                if current.next.data == x :\n",
    "                    break\n",
    "                current = current.next\n",
    "            if current.next == self.last:\n",
    "                self.delete_at_end()\n",
    "            else: \n",
    "                current.next = current.next.next\n",
    "            \n",
    "\n",
    "\n",
    "    def printCLL(self):\n",
    "        if self.last is None:\n",
    "            print(\"List is empty\")\n",
    "            return\n",
    "        temp = self.last.next\n",
    "        while True:\n",
    "            print(temp.data, end = ' ')\n",
    "            temp = temp.next\n",
    "            if temp == self.last.next:\n",
    "                print()\n",
    "                break\n",
    "    def __iter__(self):\n",
    "        if self.last is None:\n",
    "            return CircularLinkedList(None)\n",
    "        start = self.last.next\n",
    "        return CircularLinkedList(start)\n",
    "cll = CircularLinkedList()\n",
    "cll.insert_at_start(1)\n",
    "cll.insert_at_start(2)\n",
    "cll.insert_at_start(3)\n",
    "cll.insert_at_start(4)\n",
    "cll.insert_at_end(5)\n",
    "cll.insert_at_end(10)\n",
    "cll.insert_at_end(11)\n",
    "cll.insert_at_end(12)\n",
    "cll.insert_after(6, 5)\n",
    "cll.insert_after(13, 12)\n",
    "cll.insert_after(0, 4)\n",
    "cll.printCLL()\n",
    "cll.delete_at_start()\n",
    "cll.delete_at_start()\n",
    "cll.printCLL()\n",
    "cll.delete_at_end()\n",
    "cll.delete(5)\n",
    "cll.delete(12)\n",
    "cll.delete(6)\n",
    "cll.printCLL()\n",
    "for i in cll:\n",
    "    print(i.data, end = ' ')"
   ]
  },
  {
   "cell_type": "code",
   "execution_count": 36,
   "metadata": {
    "application/vnd.databricks.v1+cell": {
     "cellMetadata": {},
     "inputWidgets": {},
     "nuid": "b903920d-4c08-4611-8533-de147875d9e1",
     "showTitle": false,
     "tableResultSettingsMap": {},
     "title": ""
    }
   },
   "outputs": [],
   "source": []
  }
 ],
 "metadata": {
  "application/vnd.databricks.v1+notebook": {
   "computePreferences": null,
   "dashboards": [],
   "environmentMetadata": {
    "base_environment": "",
    "client": "2"
   },
   "language": "python",
   "notebookMetadata": {
    "pythonIndentUnit": 4
   },
   "notebookName": "CLL",
   "widgets": {}
  },
  "kernelspec": {
   "display_name": ".venv",
   "language": "python",
   "name": "python3"
  },
  "language_info": {
   "codemirror_mode": {
    "name": "ipython",
    "version": 3
   },
   "file_extension": ".py",
   "mimetype": "text/x-python",
   "name": "python",
   "nbconvert_exporter": "python",
   "pygments_lexer": "ipython3",
   "version": "3.13.1"
  }
 },
 "nbformat": 4,
 "nbformat_minor": 0
}
