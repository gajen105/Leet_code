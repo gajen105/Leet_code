{
 "cells": [
  {
   "cell_type": "code",
   "execution_count": null,
   "metadata": {},
   "outputs": [],
   "source": [
    "def bubbleSort(nums):\n",
    "    n = len(nums)\n",
    "    for j in range(n-1):\n",
    "        flag = True\n",
    "        for i in range(1,n-j):\n",
    "            if nums[i-1]> nums[i]:\n",
    "                nums[i],nums[i-1] = nums[i-1],nums[i]\n",
    "                flag = False\n",
    "        if flag:\n",
    "            return nums\n",
    "    return nums\n",
    "nums = [50,20,37,91,64,18,43,59,72,81]\n",
    "print(bubbleSort(nums))\n",
    "        "
   ]
  },
  {
   "cell_type": "code",
   "execution_count": null,
   "metadata": {},
   "outputs": [],
   "source": [
    "def bubbleSort2(nums):\n",
    "    n = len(nums)\n",
    "    for i in range(1,n):\n",
    "        for j in range(n-i):\n",
    "            if nums[j]>nums[j+1]:\n",
    "                nums[j],nums[j-1] = nums[j-1],nums[j]\n",
    "    return nums\n",
    "nums = [50,20,37,91,64,18,43,59,72,81]\n",
    "print(bubbleSort(nums))"
   ]
  },
  {
   "cell_type": "code",
   "execution_count": null,
   "metadata": {},
   "outputs": [],
   "source": [
    "def selectionSort(nums):\n",
    "    n = len(nums)\n",
    "    for i in range(0,n-1):\n",
    "        min_index = i\n",
    "        for j in range(i+1,n):\n",
    "            if nums[min_index] > nums[j] :\n",
    "                min_index = j\n",
    "        nums[i],nums[min_index] = nums[min_index],nums[i]\n",
    "    return nums\n",
    "nums =[50,20,37,91,64,18,43,59,72,81]\n",
    "print(selectionSort(nums))"
   ]
  },
  {
   "cell_type": "code",
   "execution_count": null,
   "metadata": {},
   "outputs": [],
   "source": [
    "def insertionSort(nums):\n",
    "    n = len(nums)\n",
    "    for i in range(1,n):\n",
    "        temp = nums[i]\n",
    "        j=i-1\n",
    "        while j>=0 and temp<nums[j]:\n",
    "            nums[j+1]= nums[j]\n",
    "            j-=1\n",
    "        nums[j+1]=temp\n",
    "    return nums\n",
    "nums =[50,20,37,91,64,18,43,59,72,81,-1]\n",
    "print(insertionSort(nums))"
   ]
  }
 ],
 "metadata": {
  "kernelspec": {
   "display_name": ".venv",
   "language": "python",
   "name": "python3"
  },
  "language_info": {
   "codemirror_mode": {
    "name": "ipython",
    "version": 3
   },
   "file_extension": ".py",
   "mimetype": "text/x-python",
   "name": "python",
   "nbconvert_exporter": "python",
   "pygments_lexer": "ipython3",
   "version": "3.13.2"
  }
 },
 "nbformat": 4,
 "nbformat_minor": 2
}
