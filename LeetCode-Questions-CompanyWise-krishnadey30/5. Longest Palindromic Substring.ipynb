{
 "cells": [
  {
   "cell_type": "markdown",
   "metadata": {},
   "source": [
    "Given a string s, return the longest \n",
    "palindromic\n",
    " \n",
    "substring\n",
    " in s.\n",
    "\n",
    " \n",
    "\n",
    "Example 1:\n",
    "\n",
    "Input: s = \"babad\"\n",
    "Output: \"bab\"\n",
    "Explanation: \"aba\" is also a valid answer.\n",
    "Example 2:\n",
    "\n",
    "Input: s = \"cbbd\"\n",
    "Output: \"bb\"\n",
    " \n",
    "\n",
    "Constraints:\n",
    "\n",
    "1 <= s.length <= 1000\n",
    "s consist of only digits and English letters."
   ]
  }
 ],
 "metadata": {
  "language_info": {
   "name": "python"
  }
 },
 "nbformat": 4,
 "nbformat_minor": 2
}
